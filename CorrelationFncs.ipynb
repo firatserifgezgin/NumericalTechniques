{
 "cells": [
  {
   "cell_type": "markdown",
   "id": "fa7a3ada-4583-4ed9-aca0-1be8f83355f2",
   "metadata": {},
   "source": [
    "### Correlation functions using Lanczos basis"
   ]
  },
  {
   "cell_type": "markdown",
   "id": "884c5b32-d37b-48f1-8d14-e0422f043bf1",
   "metadata": {},
   "source": [
    "One can, using the necessary Lanczos basis, calculate the static and dynamical correlation functions at $T = 0$. Here, we assume  the knowledge of the non-degenerate ground state wavefunction $| \\psi_0 \\rangle$. For operator $\\hat{A}$ and $\\hat{B}$, the correlation function $C_{AB}(t,t')$ is defined as :\n",
    "\n",
    "$$C_{AB}(t,t') = \\langle \\psi_0 \\left| A(t) B(t') \\right| \\psi_0 \\rangle, $$\n",
    "\n",
    "If the time translation symmetry (ergodicity) is implied,\n",
    "\n",
    "$$C_{AB}(t,t') =C_{AB}(t-t') = \\langle \\psi_0 \\left| A(t-t') B(0) \\right| \\psi_0 \\rangle, $$\n"
   ]
  },
  {
   "cell_type": "markdown",
   "id": "aa7835d6-a517-4119-b03e-961c361982e1",
   "metadata": {},
   "source": [
    "For autocorrelations,\n",
    "$$C_{AA}(t) = \\langle \\psi_0 \\left| A(t) A^\\dagger(0) \\right| \\psi_0 \\rangle, $$\n",
    "\n",
    "we can switch to the Fourier basis and obtain the Lehman representation by insertion of the resolution identity of many-body basis,\n",
    "\n",
    "\\begin{eqnarray}\n",
    "\\tilde{C}_{AA}(\\omega) &=& \\int_{-\\infty}^{\\infty} e^{i \\omega t} C_{AA}(t) dt =\\int_{-\\infty}^{\\infty} e^{-i \\omega t}  \\langle \\psi_0 \\left| A(t) A^\\dagger(0) \\right| \\psi_0 \\rangle, \\\\\n",
    "&=& \\sum_{m} \\int_{-\\infty}^{\\infty} e^{i \\omega t}  \\langle \\psi_0 \\left| e^{i \\hat{H} t} A(0) e^{-i \\hat{H} t} \\left| m \\rangle \\langle m\\right|A^\\dagger(0) \\right| \\psi_0 \\rangle ,\\\\\n",
    "&=& \\sum_{m} \\int_{-\\infty}^{\\infty} e^{i \\omega t}  \\langle \\psi_0 \\left| e^{i E_0 t} A(0) e^{-i E_m t} \\left| m \\rangle \\langle m\\right|A^\\dagger(0) \\right| \\psi_0 \\rangle,\\\\\n",
    "&=&\\sum_{m}  \\left| \\langle \\psi_0 | A(0)  | m \\rangle \\right|^2 \\int_{-\\infty}^{\\infty} e^{i(\\omega-E_m+E_0) t }dt,\\\\\n",
    "&=&\\sum_{m}  \\left| \\langle \\psi_0 | A(0)  | m \\rangle \\right|^2 \\delta(\\omega-E_m+E_0)\n",
    "\\end{eqnarray}"
   ]
  },
  {
   "cell_type": "markdown",
   "id": "2fe6bfaa-e61b-429e-8817-d84b977a34eb",
   "metadata": {},
   "source": [
    "Yet, there is another way to obtain $\\tilde{C}_{AA}(\\omega)$ through the Green's functions,\n",
    "\n",
    "$$\\tilde{C}_{AA}(\\omega) = \\frac{-1}{\\pi} Im G_A^<(\\omega),\\quad \\text{where} \\quad G_A^<(\\omega) = \\langle \\psi_0 \\left| A \\frac{1}{\\omega + i \\eta -H + E_0} A^\\dagger \\right| \\psi_0 \\rangle$$\n",
    "\n",
    "The representation for the lesser Gfnc comes from the Fourier multiplication of the time evolution of the operator $A(0)$.\n",
    "\n",
    "Now, the task boils down to calculate $G_A^<(\\omega)$. There is a continued fraction expansion of this function utilizing the Lanczos basis of \n",
    "$$|f_0 \\rangle = A^\\dagger | \\psi_0 \\rangle$$ \n",
    "\n",
    "Let us assume a Krylov basis generate by $|f_0 \\rangle$ and $A^\\dagger$: $\\mathcal{H}_f = span\\{ |f_0 \\rangle, A^\\dagger|f_0 \\rangle,... ,(A^\\dagger)^k |f_0 \\rangle \\} \\equiv \\{ |f_0 \\rangle, |f_1 \\rangle ,..., |f_{l} \\rangle \\}$\n",
    "\n",
    "Note that $l \\le k$ depending on the rank of $\\mathcal{H}_f$. $U$ is a $l\\times k$ matrix and $|f_m \\rangle$'s has $k \\times 1$ vector representation.\n",
    "\n",
    "If one can express the resolvent in this basis, \n",
    "\n",
    "\\begin{eqnarray}\n",
    "\\frac{1}{\\omega + i \\eta -H + E_0} &=& R = \\sum_{nm=1}^l R_{nm} |f_n \\rangle \\langle f_m |\n",
    "\\end{eqnarray}\n",
    "\n",
    "Inserting this expression back into the lesser Gfnc,\n",
    "\\begin{eqnarray}\n",
    "G_A^<(\\omega) &=& \\sum_{nm=1}^l R_{nm} \\langle f_0 \\left|f_n \\rangle \\langle f_m \\right| f_0 \\rangle,\\\\\n",
    "&=&R_{00} \\langle v_p \\left| U_{0p}^*   U_{oq}\\right| v_q \\rangle\n",
    "\\end{eqnarray}"
   ]
  },
  {
   "cell_type": "markdown",
   "id": "5e8ddde9-f8b9-4cb9-a145-1f7cee096592",
   "metadata": {},
   "source": [
    "I summary, we can write down the corresponding Gfnc as the continued fraction using the Krylov space matrix elements $a_n$ and $b_n$.\n",
    "\\begin{eqnarray}\n",
    "G_A^<(\\omega) &=& \\frac{\\langle f_0 \\mid f_0 \\rangle}{w + i\\eta -  a_0 - \\frac{b_0^2}{w+i\\eta-a_1-\\frac{b_1^2}{w+i\\eta -b_2^2}}}\n",
    "\\end{eqnarray}"
   ]
  },
  {
   "cell_type": "code",
   "execution_count": 6,
   "id": "2610ab4a-46e0-4ab0-8600-26b05d22a6c8",
   "metadata": {
    "tags": []
   },
   "outputs": [
    {
     "name": "stdout",
     "output_type": "stream",
     "text": [
      "Using matplotlib backend: TkAgg\n"
     ]
    }
   ],
   "source": [
    "# in case needed, sometimes the figures can be drawn with a seperate window\n",
    "# the following two command enforces it to draw 'inline'\n",
    "%matplotlib\n",
    "%matplotlib inline\n",
    "# ignore the warnings: can be useful for too many imag. part warnings \n",
    "import warnings\n",
    "warnings.filterwarnings('ignore')\n",
    "from numpy import *\n",
    "from scipy import *\n",
    "import numpy as np\n",
    "import scipy as sp\n",
    "from mpl_toolkits.mplot3d import Axes3D\n",
    "from matplotlib.pylab import * # for plotting commands\n",
    "import matplotlib.pyplot as plt\n",
    "from numpy import (real,imag,matrix,linspace,array,complex)\n",
    "from IPython.display import Image\n",
    "from mpl_toolkits.mplot3d import axes3d"
   ]
  },
  {
   "cell_type": "code",
   "execution_count": 9,
   "id": "288916a7-fab3-473b-908d-b93745427ab0",
   "metadata": {
    "tags": []
   },
   "outputs": [],
   "source": [
    "def LancFirat(H,Logsensitivity):\n",
    "    aN = H.shape[0]\n",
    "    v0 = np.random.rand(aN,)\n",
    "    v0 = v0/norm(v0)\n",
    "    threshold = 1e-2\n",
    "    error = 1.\n",
    "    count = 0\n",
    "    maxIt = aN\n",
    "    ee0,ee1,ee2,eer0,eer1 = [np.array(zeros((maxIt,),dtype='double')) for _ in range(5)]\n",
    "\n",
    "    k = 3\n",
    "    erLog = 1\n",
    "    Trank = 3\n",
    "    while erLog>Logsensitivity or abs(Trank-k)>4:\n",
    "        MM = min(k,3)\n",
    "        vjVec = np.array(zeros((aN,k),dtype='complex')) \n",
    "        aVec,bVec = [np.array(zeros((k,),dtype='complex')) for _ in range(2)]\n",
    "        vjVec[:,0] = v0\n",
    "        if k==3:\n",
    "            vjVec[:,0] = v0\n",
    "        else:\n",
    "            vjVec[:,0:MM] = vv[:,0:MM]\n",
    "        wjp = dot(H,vjVec[:,0])\n",
    "        aVec[0]= dot(conj(wjp).T,vjVec[:,0])\n",
    "        wj = wjp - aVec[0]*vjVec[:,0]\n",
    "\n",
    "        for i2 in arange(1,k):\n",
    "            bVec[i2] = norm(wj)\n",
    "            if bVec[i2] != 0.:\n",
    "                vj = wj/bVec[i2]\n",
    "            else:\n",
    "                vj = np.random.rand(aN,)\n",
    "                print(i2)\n",
    "            vSub = np.array(zeros((aN,),dtype='complex'))\n",
    "            for i3 in arange(i2):\n",
    "                vSub = vSub + dot(vjVec[:,i3],vj)*vjVec[:,i3]\n",
    "            vj = vj-vSub \n",
    "            vj= vj/norm(vj)\n",
    "\n",
    "            vjVec[:,i2] = vj\n",
    "            wjp= dot(H,vj)\n",
    "            aVec[i2] = dot(conj(wjp).T,vj)\n",
    "            wj = wjp - aVec[i2]*vj - bVec[i2]*vjVec[:,i2-1]\n",
    "\n",
    "        T = diag(aVec)+diag(bVec[1:],1)+diag(bVec[1:],-1)\n",
    "        \n",
    "        etI1,vtI1 = eig(T)\n",
    "        ndee=argsort(etI1)\n",
    "        vtI1 = vtI1[:,ndee[0:MM]]\n",
    "        etI1 = etI1[ndee[0:MM]]\n",
    "\n",
    "        error = norm(bVec)\n",
    "        Trank = matrix_rank(vjVec)\n",
    "        vv= dot(vjVec,vtI1)\n",
    "\n",
    "        ee0[k-1] = etI1[0]\n",
    "        ee1[k-1] = etI1[1]\n",
    "        ee2[k-1] = etI1[2]\n",
    "        eer0[k-1] = norm(etI1[0]*dot(vjVec,vtI1[:,0])-dot(H,dot(vjVec,vtI1[:,0])))\n",
    "        eer1[k-1] = norm(etI1[1]*dot(vjVec,vtI1[:,1])-dot(H,dot(vjVec,vtI1[:,1])))\n",
    "        \n",
    "        #eer0[k-1] = abs(ee0[k-1]-(ee0[k-2]+ee0[k-3])/2.)\n",
    "        #eer1[k-1] = abs(ee1[k-1]-(ee1[k-2]+ee1[k-3])/2.)\n",
    "        erLog = log(eer0[k-1]+eer1[k-1])\n",
    "        #print(erLog)\n",
    "        eer = [eer0,eer1]\n",
    "        k += 1\n",
    "    return etI1,vv,k,ee0,ee1,ee2,eer0,eer1"
   ]
  },
  {
   "cell_type": "code",
   "execution_count": 10,
   "id": "c05bf434-f65d-41ac-9679-7d988a5c47f8",
   "metadata": {
    "tags": []
   },
   "outputs": [],
   "source": [
    "from itertools import combinations\n",
    "from itertools import permutations\n",
    "\n",
    "def combs(N, X):\n",
    "    idx = np.array(list(combinations(range(N), X)))\n",
    "    n = len(idx)\n",
    "    out = np.zeros((n,N), dtype=int)\n",
    "    out[np.arange(n)[:,None],idx] = 1\n",
    "    return out"
   ]
  },
  {
   "cell_type": "code",
   "execution_count": 11,
   "id": "f4f20008-563e-4031-8cba-645e5bc70564",
   "metadata": {
    "tags": []
   },
   "outputs": [],
   "source": [
    "def XXZfiratDirect(Jz,L,Nup):\n",
    "    J = 1.\n",
    "    UnVecs=combs(L,Nup)\n",
    "    Hlen = len(UnVecs)\n",
    "    diag0Vec = sum((UnVecs[:,0:L-1]-0.5)*(UnVecs[:,1:L]-0.5),1)\n",
    "    interm = mod(UnVecs[:,0:L-1]+UnVecs[:,1:L],2)\n",
    "    xL,yL = interm.shape\n",
    "    bbOverlap = zeros((xL,yL,Hlen))\n",
    "    for i1 in arange(Hlen):\n",
    "        bbOverlap[:,:,i1] = interm[i1,:]*interm\n",
    "    HIndicesSz0 = abs(np.dot(UnVecs,2**arange(L-1,-1,-1))-2**L+1)\n",
    "    HIndArray = dot(ones((len(HIndicesSz0),1),dtype='double'),reshape(HIndicesSz0,[1,len(HIndicesSz0)]))\n",
    "    hNeig = zeros((xL,xL),dtype='double')\n",
    "    for i1 in arange(L):\n",
    "        hNeig = hNeig + (abs(HIndArray.T-HIndArray)==2**i1).astype(int)\n",
    "    H_direct = Jz*diag(diag0Vec,0) + 0.5*hNeig\n",
    "    return H_direct"
   ]
  },
  {
   "cell_type": "code",
   "execution_count": 13,
   "id": "5aff9e13-b268-41c8-93fb-b1ff601e6a28",
   "metadata": {
    "tags": []
   },
   "outputs": [],
   "source": [
    "def CorrelatLanc(H,v0,E0,w,eta,Logsensitivity):\n",
    "    H = H-eye(len(H))*E0\n",
    "    v0 = v0/norm(v0)\n",
    "    count = 0\n",
    "    maxIt = len(H)\n",
    "    \n",
    "    k = 1\n",
    "    erLog = 1\n",
    "    Trank = 3\n",
    "    Gfnc0 = 1e6\n",
    "    while erLog>Logsensitivity: # or abs(Trank-k)>4:\n",
    "        MM = min(k,3)\n",
    "        vjVec = np.array(zeros((aN,k),dtype='complex')) \n",
    "        aVec,bVec = [np.array(zeros((k,),dtype='complex')) for _ in range(2)]\n",
    "        vjVec[:,0] = v0\n",
    "\n",
    "        wjp = dot(H,vjVec[:,0])\n",
    "        aVec[0]= dot(conj(wjp).T,vjVec[:,0])\n",
    "        wj = wjp - aVec[0]*vjVec[:,0]\n",
    "        Gfnc0 = (w-1j*eta+E0-a0)**(-1)\n",
    "        for i2 in arange(1,k):\n",
    "            bVec[i2] = norm(wj)\n",
    "            if bVec[i2] != 0.:\n",
    "                vj = wj/bVec[i2]\n",
    "            else:\n",
    "                vj = np.random.rand(aN,)\n",
    "                print(i2)\n",
    "            vSub = np.array(zeros((aN,),dtype='complex'))\n",
    "            for i3 in arange(i2):\n",
    "                vSub = vSub + dot(vjVec[:,i3],vj)*vjVec[:,i3]\n",
    "            vj = vj-vSub \n",
    "            vj= vj/norm(vj)\n",
    "\n",
    "            vjVec[:,i2] = vj\n",
    "            wjp= dot(H,vj)\n",
    "            aVec[i2] = dot(conj(wjp).T,vj)\n",
    "            wj = wjp - aVec[i2]*vj - bVec[i2]*vjVec[:,i2-1]\n",
    "            aaInter = 0.\n",
    "            for i3 in arange(k-1,-1,-1):\n",
    "                aaInter = (w-1j*eta+E0-aVec[i3-1]-bVec[i3]*aaInter)**(-1)\n",
    "            erLog = log(abs(aaInter-Gfnc0))\n",
    "            Gfnc0 = aaInter  \n",
    "        k += 1\n",
    "    return Gfnc0"
   ]
  },
  {
   "cell_type": "code",
   "execution_count": 12,
   "id": "4e2d9130-6e15-4b78-a0aa-545cdc3f8e94",
   "metadata": {},
   "outputs": [],
   "source": [
    "L = 10\n",
    "Jz = 1.\n",
    "H_Heis = XXZfiratDirect(Jz,L,int(L/2))\n",
    "etI,vtI,k,ee0,ee1,ee2,eer0,eer1 = LancFirat(H_Heis,-20)"
   ]
  },
  {
   "cell_type": "code",
   "execution_count": null,
   "id": "8822e327-6818-4dce-92c4-dbb968a4bb43",
   "metadata": {},
   "outputs": [],
   "source": [
    "We now obtained the the ground state energy and the wavefunction. The next task is to choose a correlation to calculate. We choose,"
   ]
  },
  {
   "cell_type": "code",
   "execution_count": 5,
   "id": "71506416-3437-453b-8b54-b89b94eae956",
   "metadata": {},
   "outputs": [
    {
     "data": {
      "text/plain": [
       "array([3, 2, 1, 0])"
      ]
     },
     "execution_count": 5,
     "metadata": {},
     "output_type": "execute_result"
    }
   ],
   "source": [
    "GfncLesser = CorrelatLanc(H,v0,E0,w,eta,Logsensitivity)"
   ]
  },
  {
   "cell_type": "code",
   "execution_count": null,
   "id": "52b01d53-25ea-4ebc-a640-2c4f0be42da4",
   "metadata": {},
   "outputs": [],
   "source": []
  }
 ],
 "metadata": {
  "kernelspec": {
   "display_name": "Python 3 (ipykernel)",
   "language": "python",
   "name": "python3"
  },
  "language_info": {
   "codemirror_mode": {
    "name": "ipython",
    "version": 3
   },
   "file_extension": ".py",
   "mimetype": "text/x-python",
   "name": "python",
   "nbconvert_exporter": "python",
   "pygments_lexer": "ipython3",
   "version": "3.9.7"
  }
 },
 "nbformat": 4,
 "nbformat_minor": 5
}
