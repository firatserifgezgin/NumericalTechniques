{
 "cells": [
  {
   "cell_type": "markdown",
   "metadata": {},
   "source": [
    "## Hubbard-Kanomari Model"
   ]
  },
  {
   "cell_type": "raw",
   "metadata": {},
   "source": [
    "Firat Yilmaz\n",
    "University of Augsburg, Theoretical Physics III\n",
    "email: firat.yilmaz@uni-a.de"
   ]
  },
  {
   "cell_type": "markdown",
   "metadata": {
    "tags": []
   },
   "source": [
    "### A.2 Eta-pairing operators\n",
    "\n",
    "Surprisingly a relevant topic is the possible existence of the $\\eta$-pairing operators and the corresponding exact eigenstates of the many-body Hamiltonian. \n",
    "\n",
    "If $H \\mid \\psi \\rangle = E \\mid \\psi \\rangle$ and $[H_{Hubbard},\\eta^\\dagger] = \\mathcal{E} \\eta^\\dagger$, then $H_{Hubbard} \\left( \\eta^\\dagger \\right)^m \\mid \\psi \\rangle= \\left( E + m \\mathcal{E} \\right) \\left(\\eta^\\dagger \\right)^m \\mid \\psi \\rangle$. The eta-pairing operators act like ladder operators.\n",
    "\n",
    "The existence of such oeprators could imply the decline of the eigenstate thermalization hypothesis (ETH) if these constants of motions are infinitely many. "
   ]
  },
  {
   "cell_type": "markdown",
   "metadata": {},
   "source": [
    "#### A.2.1 For the Hubbard model, \n",
    "$$H_{Hubbard} = \\hat{H}_{kin} - \\mu \\hat{N} + \\hat{U}, \\quad \\hat{H}_{kin} = \\sum_{ij} t_{ij} c_i^\\dagger c_j, \\quad \\hat{N} = \\sum_{i\\sigma} n_{i\\sigma}, \\quad\\hat{U} = U \\sum_{i} n_{i \\uparrow} n_{i \\downarrow}$$.\n",
    "\n",
    "One can define infinitely many tower states by eta-pairing operators.\n",
    "One such set of operators leads the so called 'pseudospin' symmetry. It is defined as:\n",
    "\\begin{eqnarray}\n",
    "\\eta^\\dagger &=& \\sum_{i} e^{i \\pi r_i} c^\\dagger_{i \\uparrow} c^\\dagger_{i \\downarrow},\\quad \\eta^z = \\frac{1}{2}\\sum_{i\\sigma} n_{i \\sigma}. \\\\\n",
    "[\\eta^z,\\eta^\\dagger] &=& \\eta^\\dagger, \\quad \\mathbf{\\eta}^2  = \\eta^\\dagger \\eta + \\eta \\eta^\\dagger + \\eta^z \\eta^z.\n",
    "\\end{eqnarray}\n",
    "\n",
    "The corresponding commutation relations\n",
    "\n",
    "- $[H_{Hubbard},\\eta^\\dagger] = \\mathcal{E} \\eta^\\dagger$, $[H_{Hubbard},\\eta^z] = 0$ and the pseudospin charge is preserved and the Casimir operator commute with the Hamiltonian, $[H_{Hubbard},\\mathbf{\\eta}^2] = 0$. \n",
    "\n",
    "For the tower states, one needs one such many-body eigenstate, $\\mid \\psi \\rangle$. The simplest example is the no particle state: $\\mid \\psi \\rangle = \\mid 0, 0, 0, ..., 0 \\rangle$.\n",
    "- A sequential application of $\\eta^+$ creates a linear combination of doublon states, $\\eta^+ \\mid \\psi \\rangle = \\frac{1}{\\sqrt{N}}\\left(\\mid \\updownarrow, 0,0,... ,0 \\rangle + \\mid 0,\\updownarrow,0,... ,0 \\rangle + ... + \\mid 0, 0,0,... ,\\updownarrow \\rangle \\right)$"
   ]
  },
  {
   "cell_type": "markdown",
   "metadata": {},
   "source": [
    "#### A.2.2 For the Hubbard Kanamori model,\n",
    "There are two orbitals per-site,\n",
    "\\begin{eqnarray}\n",
    "H_{HK} &=& \\sum_{\\alpha = 1,2} \\left( H_{kin}^{(\\alpha)} + \\hat{U}^{(\\alpha)} \\right) + \\hat{V} - \\mu \\hat{N} - J \\sum_{i}\\vec{S}_i^{1} \\cdot \\vec{S}_i^{2},\\\\\n",
    "\\hat{U}^{(\\alpha)} &=& U \\sum_i n_{i\\alpha \\uparrow} n_{i\\alpha \\downarrow}, \\quad\n",
    "\\hat{V} = V \\sum_{i\\sigma\\sigma'} n_{i 1 \\sigma} n_{i 2 \\sigma'},\\\\\n",
    "\\hat{V} - J \\sum_{i}\\vec{S}_i^{1} \\cdot \\vec{S}_i^{2} &=& \\sum_{\\sigma\\sigma'} (V - J \\delta_{\\sigma \\sigma'} )n_{i1\\sigma} n_{i2\\sigma'} \\\\\n",
    "&& - J \\left( c_{i 1 \\uparrow}^\\dagger c_{i 1\\downarrow} c_{i 2 \\downarrow}^\\dagger c_{i 2 \\uparrow}  + c_{i 1 \\downarrow }^\\dagger c_{i 1 \\uparrow } c_{i 2 \\uparrow}^\\dagger c_{i 2 \\downarrow} \\right) \\\\\n",
    "&& - J \\left( c_{i 1 \\uparrow}^\\dagger c_{i 1\\downarrow}^\\dagger c_{i 2 \\uparrow} c_{i 2 \\downarrow}  +  c_{i 2 \\uparrow}^\\dagger c_{i 2 \\downarrow}^\\dagger c_{i 1 \\uparrow} c_{i 1 \\downarrow}  \\right).\n",
    "\\end{eqnarray}\n",
    "\n",
    "There are two additional terms the inter-orbital on-site interaction and the Kondo type spin-spin coupling."
   ]
  },
  {
   "cell_type": "markdown",
   "metadata": {},
   "source": [
    "##### A.2.2.1 $J=0$ Case: \n",
    "The HK Hamiltonian without the spin-spin coupling term basically consists of two Hubbard model interacting with on-site densities, $H_{HK} = H_{kin} + H_n$ where $H_{kin} =\\sum_{\\alpha = 1,2} H_{kin}^{(\\alpha)} $ and $H_n$ include only the density dependent terms, $H_n = \\sum_{\\alpha = 1,2} \\left( H_{kin}^{(\\alpha)} + \\hat{U}^{(\\alpha)} \\right) + \\hat{V} - \\mu \\hat{N}$.\n",
    "\n",
    "A naive application of the eta-pairing operators for each orbital, $\\eta^\\dagger_{\\alpha}$ for the HK Hamiltonian does not provide the ladder structure.\n",
    "\n",
    "The problem arises from $\\hat{V}$ term. For example, let us examine $\\eta_1^\\dagger$,\n",
    "\n",
    "$$[H_{HK},\\eta^\\dagger_{1}] = \\mathcal{E}^{(1)} \\eta^\\dagger_{1} + [\\hat{V},\\eta^\\dagger_{1}]\\quad \\to \\quad[\\hat{V},\\eta^\\dagger_{1}] = 2 \\sum_{i\\sigma} e^{i \\pi r_i} c^\\dagger_{i 1 \\uparrow} c^\\dagger_{i 1 \\downarrow} n_{i 2 \\sigma} \\ne c_0 \\eta^\\dagger_1.$$\n",
    "\n",
    "Instead, we can define similar operators, $\\eta_{\\alpha,XY}^\\dagger = \\mid \\epsilon^{\\alpha \\beta} \\mid \\sum_{i} e^{i \\pi r_i} c^\\dagger_{i \\alpha \\uparrow} c^\\dagger_{i \\alpha \\downarrow} n_{i \\beta \\uparrow} n_{i \\beta \\downarrow}$ where $\\alpha \\in \\{1,2 \\}$ and $XY \\in \\{ nn,nh,hn,hh \\}$.\n",
    "\n",
    "For example, $\\alpha = 1$, $XY = nn$ yields $\\eta^\\dagger_{1,nn} = \\sum_{i} e^{i \\pi r_i} c^\\dagger_{i 1 \\uparrow} c^\\dagger_{i 1 \\downarrow} n_{i 2 \\uparrow} n_{i 2 \\downarrow}$."
   ]
  },
  {
   "cell_type": "markdown",
   "metadata": {},
   "source": [
    "We are now in a position to examine the commutation relations with the HK Hamiltonian parts,\n",
    "- Regarding $\\hat{U}$,\n",
    "\n",
    "$$[\\hat{U}^{(\\alpha)},\\eta_{\\beta,XY}^\\dagger] = U \\eta_{\\beta,XY}^\\dagger \\delta_{\\alpha\\beta}$$\n",
    "- Regarding the chemical potential $-\\mu \\hat{N}$,\n",
    "$$[-\\mu \\hat{N},\\eta_{\\alpha,XY}^\\dagger] = -2 \\mu \\eta_{\\alpha,XY}^\\dagger $$\n",
    "- Finally, regarding inter-orbital interaction $\\hat{V}$,\n",
    "\\begin{eqnarray}\n",
    "[\\hat{V},\\eta_{\\alpha,nn}^\\dagger] &=& -4 V \\eta_{\\alpha,nn}^\\dagger,\\\\\n",
    "[\\hat{V},\\eta_{\\alpha,nh}^\\dagger] &=& -2 V \\eta_{\\alpha,nh}^\\dagger,\\\\\n",
    "[\\hat{V},\\eta_{\\alpha,hn}^\\dagger] &=& -2 V \\eta_{\\alpha,hn}^\\dagger,\\\\\n",
    "[\\hat{V},\\eta_{\\alpha,hh}^\\dagger] &=& 0.\n",
    "\\end{eqnarray}\n",
    "\n",
    "- In summary,\n",
    "\\begin{eqnarray}\n",
    "[H_{HK},\\eta_{\\alpha,nn}^\\dagger] &=& \\left(U-2\\mu-4 V\\right) \\eta_{\\alpha,nn}^\\dagger,\\\\\n",
    "[H_{HK},\\eta_{\\alpha,nh}^\\dagger] &=& \\left(U-2\\mu-2 V\\right) \\eta_{\\alpha,nh}^\\dagger,\\quad nh \\to hn\\\\\n",
    "[H_{HK},\\eta_{\\alpha,hh}^\\dagger] &=& \\left(U-2\\mu\\right) \\eta_{\\alpha,hh}^\\dagger.\n",
    "\\end{eqnarray}"
   ]
  },
  {
   "cell_type": "markdown",
   "metadata": {},
   "source": [
    "- Question: What about their commutations with $\\eta^z_{\\alpha,XY}$ operators? \n",
    "-Answer: They preserve the expected algebraic structure $[\\eta^z,\\eta^\\dagger] = \\eta^\\dagger$. \n",
    "Actually $\\eta^z_{\\alpha,XY} = \\eta^z_{\\alpha} = \\frac{1}{2} N^{(\\alpha)}$,\n",
    "\n",
    "\\begin{eqnarray}\n",
    "[\\eta_{\\alpha}^z,\\eta_{\\beta,XY}^\\dagger] &=&  \\delta_{\\alpha\\beta} \\eta_{\\alpha,XY}^\\dagger,\\\\\n",
    "\\end{eqnarray}"
   ]
  },
  {
   "cell_type": "markdown",
   "metadata": {},
   "source": [
    "Let me lign up my observations:\n",
    "- Six out of eight eta pairing operators commute with each other. The only non-commuting pairs are $\\eta^\\dagger_{\\alpha,nn}$ and $\\eta^\\dagger_{\\beta,hh}$. The commutations yield $[\\eta^\\dagger_{1,nn},\\eta^\\dagger_{2,hh}] = [\\eta^\\dagger_{2,hh},\\eta^\\dagger_{1,nn}] = \\sum_i c^\\dagger_{i1\\uparrow}c^\\dagger_{i1\\downarrow}c^\\dagger_{i2\\uparrow}c^\\dagger_{i2\\downarrow}$.\n",
    "- The maximal set of operators, therefore must be chosen accordingly!"
   ]
  },
  {
   "cell_type": "markdown",
   "metadata": {},
   "source": [
    "******************\n",
    "\n",
    "###  <span style=\"color:red\">Problem detected</span>: $H_{kin}$ is still problematic.\n",
    "\n",
    "- Regarding $H_{kin} = -\\frac{t}{2} \\sum_{\\langle i j \\rangle} c^\\dagger_i c_j + h.c.$, where the division is used to avoid double-counting.\n",
    "\n",
    "$$[H^{(1)}_{kin},\\eta_{1,nn}^\\dagger] = \\sum_{ij} \\left( c^\\dagger_{i,1,\\uparrow} c_{j,1,\\downarrow}^\\dagger+c^\\dagger_{j,1,\\uparrow} c_{i,1,\\downarrow}^\\dagger  \\right) e^{i \\pi r_i} n_{i,2,\\uparrow} n_{i,2,\\downarrow} \\ne 0.$$\n",
    "\n",
    "This term would have been equal to $0$, if there were to be no density terms. Then, one exchange the indices of the second term in the paranthesis, $c^\\dagger_{j,1,\\uparrow} c_{i,1,\\downarrow}^\\dagger e^{i \\pi r_i} \\to c^\\dagger_{i,1,\\uparrow} c_{j,1,\\downarrow}^\\dagger  e^{i \\pi r_j} $, and due to the NN structure $e^{i \\pi r_j} = e^{i \\pi (r_i\\pm 1)}$ the commutation vanishes. However, for our case with NN hopping\n",
    "\n",
    "$$[H^{(1)}_{kin},\\eta_{1,nn}^\\dagger] = \\sum_{i} c^\\dagger_{i,1,\\uparrow} c_{i\\pm 1,1,\\downarrow}^\\dagger  (n_{i,2,\\uparrow} n_{i,2,\\downarrow} -  n_{i\\pm 1,2,\\uparrow} n_{i \\pm 1,2,\\downarrow} ) e^{i \\pi r_i}.$$\n",
    "\n",
    "\n",
    "- Quest: To define another operator which handles $H_kin$ as well.\n",
    "\n",
    "- Suggestion: Define, i.e. $\\eta^\\dagger_{1,nn} = \\sum_{i} e^{i \\pi r_i} c^\\dagger_{i 1 \\uparrow} c^\\dagger_{i 1 \\downarrow} \\left(\\sum_j n_{j 2 \\uparrow} n_{j 2 \\downarrow} \\right)$. Then, subtraction of density density terms cancel each other in the thermodynamic limit and we have\n",
    "$$[H^{(1)}_{kin},\\eta_{1,nn}^\\dagger] = \\sum_{i} c^\\dagger_{i,1,\\uparrow} c_{i\\pm 1,1,\\downarrow}^\\dagger  (\\sum_j n_{j,2,\\uparrow} n_{j,2,\\downarrow} -  \\sum_jn_{j\\pm 1,2,\\uparrow} n_{j \\pm 1,2,\\downarrow} ) e^{i \\pi r_i} = 0.$$\n",
    "\n",
    "However, please do not forget the last commutation, $[H^{(2)}_{kin},\\eta_{1,nn}^\\dagger]$, the commutation of kinetic energy operators with a Hubbard type onsite interaction term emerges. We indeed know this commutation relation, (pls refer to Karen to provide the document on perturbation theory calculations).\n",
    "\n",
    "##### Remark\n",
    "It basically works the following way: Decompose $H_{kin}$ with respect to how many doubly-occupied sites it creates or destroys. For $H_{kin}$ it is either $-1$, $0$ or $1$. Therefore,\n",
    "\n",
    "\\begin{eqnarray}\n",
    "H_{kin} &=& \\sum_{M=-1}^{1} T_{M}^{1} + T_{M}^{2}, \\quad (T_{M}^{\\alpha})^\\dagger = T_{-M}^{\\alpha}\\\\   \n",
    "T_{M}^\\alpha &=& \\sum_{ij} (T_{M}^\\alpha)_{ij}\n",
    "\\end{eqnarray}\n",
    "\n",
    "What is this operator? Answer: $T_M$ is the kinetic energy operator creating $M$ doubly occupied sites. For a generalized hopping scenario, the possible values of $M$ are $-1,0$ and $1$ with an energy cost $M$ times $U$.\n",
    "\n",
    "\\begin{eqnarray}\n",
    "(T_{1}^\\alpha)_{ij} &=& \\sum_\\sigma n_{i \\alpha \\bar{\\sigma}} c_{i \\alpha \\sigma}^\\dagger c_{j \\alpha \\sigma} h_{j \\alpha \\bar{\\sigma}}, \\quad \\\\\n",
    "(T_{0}^\\alpha)_{ij} &=& \\sum_\\sigma n_{i \\alpha \\bar{\\sigma}} c_{i \\alpha \\sigma}^\\dagger c_{j \\alpha \\sigma} n_{j \\alpha \\bar{\\sigma}} + h_{i \\alpha \\bar{\\sigma}} c_{i \\alpha \\sigma}^\\dagger c_{j \\alpha \\sigma} h_{j \\alpha \\bar{\\sigma}}.\n",
    "\\end{eqnarray}\n",
    "\n",
    "Let us check the commutation relations with the unperturbed terms:\n",
    "\n",
    "\\begin{eqnarray}\n",
    "[\\hat{U}, T_{M}^\\alpha ] &=& M U  T_{M}^\\alpha, \\\\\n",
    "[\\hat{V}, T_{M}^\\alpha ] &=&  V \\sum_{ij} \\left( n_{i \\beta}-n_{j \\beta} \\right) (T_{M}^\\alpha)_{ij}\n",
    "\\end{eqnarray}\n",
    "\n",
    "Using the first relation, we can obtain the result for $[H^{(2)}_{kin},\\eta_{1,nn}^\\dagger]$. Please do verify for yourself."
   ]
  },
  {
   "cell_type": "markdown",
   "metadata": {},
   "source": [
    "###  <span style=\"color:red\">This is how much I have proceeded on the theory side. </span>: We need novel ideas and suggestions.\n",
    "\n",
    "************************"
   ]
  },
  {
   "cell_type": "markdown",
   "metadata": {},
   "source": [
    "### A.3 Numerical Check: Eta Pairing Operators for HK Hamiltonian"
   ]
  },
  {
   "cell_type": "markdown",
   "metadata": {},
   "source": [
    "Let us get back to coding. One can find a representation for the eta-pairing operators and the wavefunction. By simple codes, we can indeed check if the commutation relations are correct."
   ]
  },
  {
   "cell_type": "markdown",
   "metadata": {},
   "source": [
    "For this purpose we need a basis and the matrix elements of each operator.\n",
    "\n",
    "The fermionic operators have 3 quantum numbers; the site, the orbital and the spin index.\n",
    "$$i\\in \\{1,...,N\\},\\quad \\alpha \\in \\{a,b\\}, \\quad \\sigma\\in \\{\\uparrow,\\downarrow \\}.$$\n",
    "\n",
    "The corresponding Hilbert-Fock state has $2^N$ elements, \n",
    "$$\\mid \\{ n_{i \\alpha \\sigma} \\} \\rangle = \\mid n_{1 a \\uparrow},n_{2 a \\uparrow},..., n_{N a \\uparrow}; n_{1 b \\uparrow},n_{2 b \\uparrow} ,...,n_{N b \\uparrow}; n_{1 a \\downarrow},n_{2 a \\downarrow},...,n_{N a \\downarrow}; n_{1 b \\downarrow},n_{2 b \\downarrow},...,n_{N b \\downarrow}\\rangle $$\n",
    "with $n_{i \\alpha \\sigma} \\in \\{0,1\\}$. \n",
    "\n",
    "An arbitrary vector can be decomposed with coefficients $A_{\\{ n_{i \\alpha \\sigma} \\}}$,\n",
    "$$\\mid \\Psi \\rangle = \\sum_{\\{ n_{i \\alpha \\sigma} \\}} A_{\\{ n_{i \\alpha \\sigma} \\}} \\mid \\{ n_{i \\alpha \\sigma} \\} \\rangle.$$\n",
    "\n",
    "What are the symmetries of the Hamiltonian?\n",
    "- Total particle number: $N = \\sum_{i \\alpha \\sigma} n_{i \\alpha \\sigma}$,     $N \\in \\{ 0,1,...,2N \\}$\n",
    "- Total spin-angular momentum: $S^z = \\sum_{i \\alpha} S^z_{i \\alpha}$ where $S^z_{i\\alpha} = \\frac{1}{2} c^\\dagger_{i \\alpha \\uparrow} c_{i \\alpha \\uparrow} - \\frac{1}{2} c^\\dagger_{i \\alpha \\downarrow} c_{i \\alpha \\downarrow}$\n",
    "\n",
    "We therefore work in the subspace $\\mid \\{ n_{i \\alpha \\sigma }\\} ; N,S^z \\rangle$ while being aware that the eta-pairing operators indeed connects 2-particle apart block diagonal sectors of the Hilbert space.\n",
    "\n",
    "*************************\n",
    "\n",
    "Without loss of generality, we stick to the expressions for a 2-site problem to represent the matrix elements, e.g. $H_{kin}$ is NN while $H_n$ is on site. The generated code below indeed works for arbitrary chain size.\n",
    "\n",
    "Let us calculate the matrix elements:\n",
    "- Kinetic energy term: $$  \\langle  \\{ n_{j \\alpha' \\sigma' }\\} ; N,S^{z} \\mid H_{kin} \\mid \\{ n_{i \\alpha \\sigma }\\} ; N,S^z \\rangle = \\Big[ (1-n_{1\\alpha \\sigma})n_{2\\alpha \\sigma} + n_{1\\alpha \\sigma} (1-n_{2\\alpha \\sigma})\\Big]\\prod_{\\alpha'\\sigma'}' \\delta_{rest}$$\n",
    "- Total Interaction terms (for e.g. site 1 or site i):\n",
    "\\begin{eqnarray}\n",
    "\\langle  \\{ n_{j \\alpha' \\sigma' }\\} ; N,S^{z} \\mid \\hat{U}_1+\\hat{V}_1 \\mid &&\\{ n_{i \\alpha \\sigma }\\} ; N,S^z \\rangle = \\prod_{\\alpha'\\sigma'} \\delta_{all}\\\\\n",
    "&\\times& \\Big( U \\sum_\\alpha n_{1\\alpha \\uparrow} n_{1\\alpha \\downarrow} + \\sum_{\\sigma\\sigma'} (U_2 - J \\delta_{\\sigma \\sigma'} )n_{1\\sigma} n_{2\\sigma'} \\\\\n",
    "&-&J \\left[(1-n_{1a\\uparrow}) n_{1a\\downarrow} (1-n_{1b\\downarrow}) n_{1b\\uparrow} \\right]\\\\\n",
    "&-&J \\left[(1-n_{1a\\downarrow}) n_{1a\\uparrow} (1-n_{1b\\uparrow}) n_{1b\\downarrow} \\right]\\\\\n",
    "&-&J \\left[(1-n_{1a\\uparrow}) n_{1a\\downarrow} (1-n_{1b\\uparrow}) n_{1b\\downarrow} \\right]\\\\\n",
    "&-&J \\left[(1-n_{1b\\uparrow}) n_{1b\\downarrow} (1-n_{1a\\uparrow}) n_{1a\\downarrow} \\right]\\Big) \\\\\n",
    "\\end{eqnarray}"
   ]
  },
  {
   "cell_type": "markdown",
   "metadata": {},
   "source": [
    "As clearly seen, $\\eta^\\dagger$ connects the block diagonal segments of particle number $(N)$ and $(N\\pm 2)$ without altering the net spin moment, $S_z = 0$ \n",
    "\n",
    "Let us take a step back and examine the form of the Hamiltonian Blocks connecting $N-M$ particle sectors. $\\mathcal{H}_{NM,S_z}$ where $H_{NM}$ connects $N$ and $M$ particle number subspaces.\n",
    "\\begin{equation}\n",
    "\\mathcal{H}_{S_z} =\n",
    "\\begin{pmatrix}\n",
    "\\mathcal{H}_{00,S_z} & 0 &0& 0 &  ... &  0 \\\\\n",
    "0 & \\mathcal{H}_{11,S_z} & 0 &0&  ... &  0 \\\\\n",
    "0 &0 & \\mathcal{H}_{22,S_z} & 0  & ... &  0  \\\\\n",
    ". &.& . & ... & . & .   \\\\\n",
    ". &.& . & ... & . & .   \\\\\n",
    " 0 & 0 & 0 & 0 &... & \\mathcal{H}_{NN,S_z}  \\\\\n",
    "\\end{pmatrix}\n",
    "\\end{equation}"
   ]
  },
  {
   "cell_type": "markdown",
   "metadata": {},
   "source": [
    "Let us take a system of size $L_0$ at half-filling $N_0 = L_0/2$. Then the Hamiltonian takes the form $\\mathcal{H}_{NN,S_z}$. The eta-pairing operators lives within the basis:\n",
    "\n",
    "$$\\{ | \\{ n_{i \\alpha \\sigma }\\} ; N,S^z \\rangle , | \\{ n_{i \\alpha \\sigma }\\} ; N+2,S^z \\rangle \\} $$\n",
    "\n",
    "The Hamiltonian and the eta-pairing operator in the projected subspace have the form:\n",
    "\\begin{eqnarray}\n",
    "\\tilde{P} &=& P_N + P_{N+2}, \\\\\n",
    "\\tilde{P} \\mathcal{H} \\tilde{P} &=&\n",
    "\\begin{pmatrix}\n",
    "\\mathcal{H}_{NN} & 0\\\\\n",
    "0 & \\mathcal{H}_{N+2,N+2}\n",
    "\\end{pmatrix}, \\\\\n",
    "\\tilde{P}\\eta^\\dagger \\tilde{P} &=&\n",
    "\\begin{pmatrix}\n",
    "0 &0 \\\\\n",
    "\\eta^\\dagger_{N,N+2}  & 0\n",
    "\\end{pmatrix}.\n",
    "\\end{eqnarray}\n",
    "\n",
    "What we know is $[H,\\eta^\\dagger] = \\mathcal{E} \\eta^\\dagger$, then\n",
    "\n",
    "$$[H,\\eta^\\dagger] = \\begin{pmatrix}\n",
    "0& &0 \\\\\n",
    "& &\\\\\n",
    "\\mathcal{H}_{N+2,N+2} \\eta^\\dagger_{N,N+2}  -\\eta^\\dagger_{N,N+2}\\mathcal{H}_{N,N} & &0\n",
    "\\end{pmatrix} = \\mathcal{E} \\begin{pmatrix}\n",
    "0 & 0 \\\\\n",
    "\\eta^\\dagger_{N,N+2}& 0\n",
    "\\end{pmatrix}.$$"
   ]
  },
  {
   "cell_type": "markdown",
   "metadata": {},
   "source": [
    "- Eta pairing operators, $\\eta^\\dagger_{\\alpha, XY}$\n",
    "\n",
    "$$  \\langle  \\{ n_{j \\alpha' \\sigma' }\\}' ; N',S^{z}_1 \\mid \\eta^\\dagger_{1,XY} \\mid \\{ n_{i \\alpha \\sigma }\\} ; N,S^z \\rangle = \\delta_{N+2,N'}\\delta_{S^z,S^z_1} \\sum_{i=1}^{N} (-1)^i X_{i2\\uparrow}Y_{i2\\downarrow} n_{i1\\uparrow}'n_{i1\\downarrow}' (1-n_{i1\\uparrow})(1-n_{i1\\downarrow})\\prod_{k\\ne i}^\\sigma \\delta_{n_{k1\\sigma},n_{k1\\sigma}'}\\delta_{n_{k2\\sigma},n_{k2\\sigma}'}$$\n",
    "$$  \\langle  \\{ n_{j \\alpha' \\sigma' }\\}' ; N',S^{z}_1 \\mid \\eta^\\dagger_{2,XY} \\mid \\{ n_{i \\alpha \\sigma }\\} ; N,S^z \\rangle = \\delta_{N+2,N'}\\delta_{S^z,S^z_1} \\sum_{i=1}^{N} (-1)^i X_{i1\\uparrow}Y_{i1\\downarrow} n_{i2\\uparrow}'n_{i2\\downarrow}' (1-n_{i2\\uparrow})(1-n_{i2\\downarrow})\\prod_{k\\ne i}^\\sigma \\delta_{n_{k1\\sigma},n_{k1\\sigma}'}\\delta_{n_{k2\\sigma},n_{k2\\sigma}'}$$"
   ]
  },
  {
   "cell_type": "markdown",
   "metadata": {},
   "source": [
    "In case needed, we keep all useful libraries here. "
   ]
  },
  {
   "cell_type": "code",
   "execution_count": 3,
   "metadata": {},
   "outputs": [],
   "source": [
    "# Initializations\n",
    "#% matplotlib\n",
    "#% matplotlib inline\n",
    "# ignore the warnings: can be useful for too many imag. part warnings \n",
    "import warnings\n",
    "warnings.filterwarnings('ignore')\n",
    "from numpy import *\n",
    "from scipy import *\n",
    "import numpy as np\n",
    "import scipy as sp\n",
    "from mpl_toolkits.mplot3d import Axes3D\n",
    "from matplotlib.pylab import * # for plotting commands\n",
    "import matplotlib.pyplot as plt\n",
    "from numpy import (real,imag,matrix,linspace,array,complex)\n",
    "from IPython.display import Image\n",
    "from mpl_toolkits.mplot3d import axes3d\n",
    "from itertools import combinations\n",
    "from itertools import permutations"
   ]
  },
  {
   "cell_type": "markdown",
   "metadata": {},
   "source": [
    "The following function generates the Hilbert space vectors for chain size (L), particle number (N) and the net spin along the quantization axis (Sz)."
   ]
  },
  {
   "cell_type": "code",
   "execution_count": 4,
   "metadata": {},
   "outputs": [],
   "source": [
    "def combs1(L0,N, Sz):\n",
    "    L = L0*4\n",
    "    idx = np.array(list(combinations(range(L), N)))\n",
    "    n = len(idx)\n",
    "    out = np.zeros((n,L), dtype=int)\n",
    "    out[np.arange(n)[:,None],idx] = int(1)\n",
    "    inter = np.block([ones((1,L0*2)),-ones((1,L0*2))])\n",
    "    cde = reshape(dot(out,inter.T),(n,))/2==Sz\n",
    "    out1 = out[cde,:]\n",
    "    return out1"
   ]
  },
  {
   "cell_type": "markdown",
   "metadata": {},
   "source": [
    "Let us get started, the system is initialized below:"
   ]
  },
  {
   "cell_type": "code",
   "execution_count": 5,
   "metadata": {},
   "outputs": [],
   "source": [
    "# Hamiltonian parameters\n",
    "L0  = 4    # chain size\n",
    "N   = 2    # number of particles\n",
    "Szt = 0.   # the net spin\n",
    "\n",
    "Uv = 1.\n",
    "Jv = 0.\n",
    "Vv = 0.\n",
    "t  = -1.\n",
    "mu = 0.\n",
    "eps = 0.\n",
    "#eps = -Uv/2. - Vv + Jv/2. \n",
    "VecsTrial=np.array(combs1(L0,N,Szt))"
   ]
  },
  {
   "cell_type": "markdown",
   "metadata": {},
   "source": [
    "As seen below, we created the vectors with particle number 2 and no net spin moment."
   ]
  },
  {
   "cell_type": "code",
   "execution_count": 6,
   "metadata": {},
   "outputs": [
    {
     "name": "stdout",
     "output_type": "stream",
     "text": [
      "[[1 0 0 0 0 0 0 0 1 0 0 0 0 0 0 0]\n",
      " [1 0 0 0 0 0 0 0 0 1 0 0 0 0 0 0]\n",
      " [1 0 0 0 0 0 0 0 0 0 1 0 0 0 0 0]\n",
      " [1 0 0 0 0 0 0 0 0 0 0 1 0 0 0 0]\n",
      " [1 0 0 0 0 0 0 0 0 0 0 0 1 0 0 0]\n",
      " [1 0 0 0 0 0 0 0 0 0 0 0 0 1 0 0]\n",
      " [1 0 0 0 0 0 0 0 0 0 0 0 0 0 1 0]\n",
      " [1 0 0 0 0 0 0 0 0 0 0 0 0 0 0 1]]\n"
     ]
    }
   ],
   "source": [
    "print(VecsTrial[arange(8),:])"
   ]
  },
  {
   "cell_type": "markdown",
   "metadata": {},
   "source": [
    "It is time to create the Hamiltonian. Below, one can find a single function which generates the Hamiltonian where the chain size (L0), particle number (N), total up spin along the quantization axis (Szt), Hamiltonian parameters (Uv,Jv,Vv,t,mu,eps) and the Hilbert space vectors of the Block diagonal part. Thanks to the $N$ and $S_z$ symmetries, we can create Hamiltonian representations of smaller size. "
   ]
  },
  {
   "cell_type": "code",
   "execution_count": 10,
   "metadata": {},
   "outputs": [],
   "source": [
    "def HamHK(L0,N,Szt,Uv,Jv,Vv,t,mu,eps,UnVecs):\n",
    "    L = L0*4;    xL,yL = UnVecs.shape;\n",
    "    H_Kin = zeros((xL,xL),dtype='complex');    H_density = zeros((xL,xL),dtype='complex');\n",
    "    for i1 in arange(xL):\n",
    "        hii = 0. ;\n",
    "        for i2 in arange(i1+1,xL):\n",
    "            u1 = UnVecs[i1,:];u2 = UnVecs[i2,:];u1p= 1-u1;u2p= 1-u2;   hij = 0.\n",
    "            for i3 in range(L0-1):\n",
    "                restOrthogon1 = prod((np.delete(u1, [0*L0+i3,0*L0+i3+1])==np.delete(u2,[0*L0+i3, 0*L0+i3+1])).astype(int))\n",
    "                restOrthogon2 = prod((np.delete(u1, [1*L0+i3,1*L0+i3+1])==np.delete(u2,[1*L0+i3, 1*L0+i3+1])).astype(int))\n",
    "                restOrthogon3 = prod((np.delete(u1, [2*L0+i3,2*L0+i3+1])==np.delete(u2,[2*L0+i3, 2*L0+i3+1])).astype(int))\n",
    "                restOrthogon4 = prod((np.delete(u1, [3*L0+i3,3*L0+i3+1])==np.delete(u2,[3*L0+i3, 3*L0+i3+1])).astype(int))\n",
    "\n",
    "                hij = hij+t*(u1p[0*L0+i3+1]*u1[0*L0+i3]*u2[0*L0+i3+1]*u2p[0*L0+i3]+u1p[0*L0+i3]*u1[0*L0+i3+1]*u2[0*L0+i3]*u2p[0*L0+i3+1])*restOrthogon1\n",
    "                hij = hij+t*(u1p[1*L0+i3+1]*u1[1*L0+i3]*u2[1*L0+i3+1]*u2p[1*L0+i3]+u1p[1*L0+i3]*u1[1*L0+i3+1]*u2[1*L0+i3]*u2p[1*L0+i3+1])*restOrthogon2\n",
    "                hij = hij+t*(u1p[2*L0+i3+1]*u1[2*L0+i3]*u2[2*L0+i3+1]*u2p[2*L0+i3]+u1p[2*L0+i3]*u1[2*L0+i3+1]*u2[2*L0+i3]*u2p[2*L0+i3+1])*restOrthogon3\n",
    "                hij = hij+t*(u1p[3*L0+i3+1]*u1[3*L0+i3]*u2[3*L0+i3+1]*u2p[3*L0+i3]+u1p[3*L0+i3]*u1[3*L0+i3+1]*u2[3*L0+i3]*u2p[3*L0+i3+1])*restOrthogon4 \n",
    "            H_Kin[i1,i2]   = hij;            H_Kin[i2,i1]   = conj(hij);\n",
    "        for i3 in arange(L0-1):                \n",
    "            hii = hii - Jv*prod(u1[[i3,i3+L0,i3,i3+1]]*u1[[3*L0+i3,L0+i3,2*L0+i3,3*L0+i3]]*u1p[[2*L0+i3,i3,L0+i3,i3]]*u1p[[L0+i3,3*L0+i3,3*L0+i3,2*L0+i3]])\n",
    "            hii = hii - Jv* sum(u1[[i3,2*L0+i3]]*u1[[L0+i3,3*L0+i3]])\n",
    "            hii = hii + Vv* sum(u1[[i3,i3,2*L0+i3,2*L0+i3]]*u1[[L0+i3,3*L0+i3,L0+i3,3*L0+i3]])\n",
    "            hii = hii + Uv* sum(u1[[i3,L0+i3]]*u1[[2*L0+i3,3*L0+i3]])\n",
    "            hii = hii + (eps-mu)*N\n",
    "        H_density[i1,i1] = hii\n",
    "    return H_Kin,H_density"
   ]
  },
  {
   "cell_type": "markdown",
   "metadata": {},
   "source": [
    "The outputs are $H_{kin}$ and $H_n$ so that we can check each commutation relation seperately. "
   ]
  },
  {
   "cell_type": "markdown",
   "metadata": {},
   "source": [
    "The following function creates the eta-pairing operators defined for the HK-model. The inputs are the chain size (L0), particle number (N), total up spin along the quantization axis (Szt), Hamiltonian parameters (Uv,Jv,Vv,t,mu,eps) and the Hilbert space vectors of first (N) and the second sectors (N+2)."
   ]
  },
  {
   "cell_type": "code",
   "execution_count": 19,
   "metadata": {},
   "outputs": [],
   "source": [
    "def etaPairingsHK(L0,N,Szt,Uv,Jv,Vv,t,mu,eps,UnVecs1,UnVecs2):\n",
    "    L = L0*4\n",
    "    xL1,yL1 = UnVecs1.shape\n",
    "    xL2,yL2 = UnVecs2.shape\n",
    "\n",
    "    A1nn = zeros((xL1,xL2),dtype='complex')\n",
    "    A1nh = zeros((xL1,xL2),dtype='complex')\n",
    "    A1hn = zeros((xL1,xL2),dtype='complex')\n",
    "    A1hh = zeros((xL1,xL2),dtype='complex')\n",
    "    \n",
    "    A2nn = zeros((xL1,xL2),dtype='complex')\n",
    "    A2nh = zeros((xL1,xL2),dtype='complex')\n",
    "    A2hn = zeros((xL1,xL2),dtype='complex')\n",
    "    A2hh = zeros((xL1,xL2),dtype='complex')\n",
    "\n",
    "    for i1 in range(xL1):\n",
    "        u1 = UnVecs1[i1,:];u1p= 1-u1;\n",
    "        for i2 in range(xL2):\n",
    "            u2 = UnVecs2[i2,:];u2p= 1-u2\n",
    "            \n",
    "            restOrthogon = zeros((L0,),dtype='double')\n",
    "            for i3 in range(L0):\n",
    "                restOrthogon[i3] = prod((np.delete(u1, [i3, i3+L0, i3+2*L0, i3+3*L0])==np.delete(u2, [i3, i3+L0, i3+2*L0, i3+3*L0])).astype(int))\n",
    "            \n",
    "            Aij1 = (-1)**arange(L0)*u1p[0:L0]*u1p[2*L0:3*L0]*u2[0:L0]*u2[2*L0:3*L0]*restOrthogon\n",
    "            A1nn[i1,i2] = sum(Aij1* u1[L0:2*L0]* u1[3*L0:4*L0])\n",
    "            A1nh[i1,i2] = sum(Aij1*u1p[L0:2*L0]* u1[3*L0:4*L0])\n",
    "            A1hn[i1,i2] = sum(Aij1* u1[L0:2*L0]*u1p[3*L0:4*L0])\n",
    "            A1hh[i1,i2] = sum(Aij1*u1p[L0:2*L0]*u1p[3*L0:4*L0])\n",
    "                    \n",
    "            Aij2 = (-1)**arange(L0)*u1p[L0:2*L0]*u1p[3*L0:4*L0]*u2[L0:2*L0]*u2[3*L0:4*L0]*restOrthogon\n",
    "            A2nn[i1,i2] = sum(Aij2* u1[0:L0]* u1[2*L0:3*L0])\n",
    "            A2nh[i1,i2] = sum(Aij2*u1p[0:L0]* u1[2*L0:3*L0])\n",
    "            A2hn[i1,i2] = sum(Aij2* u1[0:L0]*u1p[2*L0:3*L0])\n",
    "            A2hh[i1,i2] = sum(Aij2*u1p[0:L0]*u1p[2*L0:3*L0])\n",
    "            \n",
    "    e1nn= np.block([[zeros((xL1,xL1)),0*A1nn],[(A1nn).T,zeros((xL2,xL2))]])\n",
    "    e1nh= np.block([[zeros((xL1,xL1)),0*A1nh],[(A1nh).T,zeros((xL2,xL2))]])\n",
    "    e1hn= np.block([[zeros((xL1,xL1)),0*A1hn],[(A1hn).T,zeros((xL2,xL2))]])\n",
    "    e1hh= np.block([[zeros((xL1,xL1)),0*A1hh],[(A1hh).T,zeros((xL2,xL2))]])\n",
    "\n",
    "    e2nn= np.block([[zeros((xL1,xL1)),0*A2nn],[(A2nn).T,zeros((xL2,xL2))]])\n",
    "    e2nh= np.block([[zeros((xL1,xL1)),0*A2nh],[(A2nh).T,zeros((xL2,xL2))]])\n",
    "    e2hn= np.block([[zeros((xL1,xL1)),0*A2hn],[(A2hn).T,zeros((xL2,xL2))]])\n",
    "    e2hh= np.block([[zeros((xL1,xL1)),0*A2hh],[(A2hh).T,zeros((xL2,xL2))]])\n",
    "            \n",
    "    return e1nn,e1nh,e1hn,e1hh,e2nn,e2nh,e2hn,e2hh"
   ]
  },
  {
   "cell_type": "markdown",
   "metadata": {},
   "source": [
    "Note that the output has 8 matrices as there are 8 distict choices for $\\eta^\\dagger_{\\alpha,XY}$."
   ]
  },
  {
   "cell_type": "markdown",
   "metadata": {},
   "source": [
    "### Let us get into the action:\n",
    "In order to define $\\eta^\\dagger$ terms, we need to particle number sub-space with same $S_z^{tot}$. Below, we choose $N=2$, hence $\\eta^\\dagger_{\\alpha,XY}$ connects $N=2,4$ subspaces."
   ]
  },
  {
   "cell_type": "code",
   "execution_count": 14,
   "metadata": {},
   "outputs": [],
   "source": [
    "# Hamiltonian parameters\n",
    "L0  = 4    # chain size\n",
    "N   = 2    # number of particles\n",
    "Szt = 0.   # the net spin\n",
    "\n",
    "Uv = 1.\n",
    "Jv = 0.\n",
    "Vv = 0.\n",
    "t  = -1.\n",
    "mu = 0.\n",
    "eps = 0.\n",
    "#eps = -Uv/2. - Vv + Jv/2. \n",
    "UnVecs1=np.array(combs1(L0,N  ,Szt))\n",
    "UnVecs2=np.array(combs1(L0,N+2,Szt))"
   ]
  },
  {
   "cell_type": "markdown",
   "metadata": {},
   "source": [
    "Initial parameters are defined, the Hilbert space vectors are obtained. We are in a position to generate Hamiltonian matrices."
   ]
  },
  {
   "cell_type": "code",
   "execution_count": 15,
   "metadata": {},
   "outputs": [],
   "source": [
    "H_Kin1,H_N1 = HamHK(L0,N  ,Szt,Uv,Jv,Vv,t,mu,eps,UnVecs1)\n",
    "H_Kin2,H_N2 = HamHK(L0,N+2,Szt,Uv,Jv,Vv,t,mu,eps,UnVecs2)"
   ]
  },
  {
   "cell_type": "code",
   "execution_count": 16,
   "metadata": {},
   "outputs": [
    {
     "data": {
      "text/plain": [
       "<matplotlib.image.AxesImage at 0x1a6bb06ca60>"
      ]
     },
     "execution_count": 16,
     "metadata": {},
     "output_type": "execute_result"
    },
    {
     "data": {
      "image/png": "[encoded data removed]",
      "text/plain": [
       "<Figure size 432x288 with 1 Axes>"
      ]
     },
     "metadata": {
      "needs_background": "light"
     },
     "output_type": "display_data"
    }
   ],
   "source": [
    "H1 = H_Kin1 + H_N1\n",
    "H2 = H_Kin2 + H_N2\n",
    "xH1, yH1 = H1.shape\n",
    "xH2, yH2 = H2.shape\n",
    "H_Kin= np.block([[H_Kin1,zeros((xH1,yH2))],[zeros((xH2,yH1)),H_Kin2]])\n",
    "H_N  = np.block([[H_N1,zeros((xH1,yH2))],[zeros((xH2,yH1)),H_N2]])\n",
    "H = np.block([[H1,zeros((xH1,yH2))],[zeros((xH2,yH1)),H2]])\n",
    "\n",
    "spy(H)"
   ]
  },
  {
   "cell_type": "code",
   "execution_count": 17,
   "metadata": {},
   "outputs": [
    {
     "data": {
      "text/plain": [
       "<matplotlib.image.AxesImage at 0x1a6bb162130>"
      ]
     },
     "execution_count": 17,
     "metadata": {},
     "output_type": "execute_result"
    },
    {
     "data": {
      "image/png": "[encoded data removed]",
      "text/plain": [
       "<Figure size 432x288 with 1 Axes>"
      ]
     },
     "metadata": {
      "needs_background": "light"
     },
     "output_type": "display_data"
    }
   ],
   "source": [
    "spy(H_Kin2)"
   ]
  },
  {
   "cell_type": "markdown",
   "metadata": {},
   "source": [
    "The Hamiltonian is generated. we can also generate the eta pairing operators in a similar fashion."
   ]
  },
  {
   "cell_type": "code",
   "execution_count": 20,
   "metadata": {},
   "outputs": [],
   "source": [
    "etd1nn,etd1nh,etd1hn,etd1hh,etd2nn,etd2nh,etd2hn,etd2hh = etaPairingsHK(L0,N,Szt,Uv,Jv,Vv,t,mu,eps,UnVecs1,UnVecs2)"
   ]
  },
  {
   "cell_type": "markdown",
   "metadata": {},
   "source": [
    "By a Hermitian conjugation operator, we also obtain $\\eta$ operators in case needed."
   ]
  },
  {
   "cell_type": "code",
   "execution_count": 21,
   "metadata": {},
   "outputs": [],
   "source": [
    "et1nn,et1nh,et1hn,et1hh,et2nn,et2nh,et2hn,et2hh = conj(etd1nn).T,conj(etd1nh).T,conj(etd1hn).T,conj(etd1hh).T,conj(etd2nn).T,conj(etd2nh).T,conj(etd2hn).T,conj(etd2hh).T"
   ]
  },
  {
   "cell_type": "markdown",
   "metadata": {},
   "source": [
    "The remaining operators are the number $\\eta^z$ and the Casimir operators, $\\vec{\\eta}\\cdot \\vec{\\eta}$ defined within the Hubbard-Kanamori model."
   ]
  },
  {
   "cell_type": "code",
   "execution_count": 22,
   "metadata": {},
   "outputs": [],
   "source": [
    "etz1nn,etz1nh,etz1hn,etz1hh,etz2nn,etz2nh,etz2hn,etz2hh = eye(len(H_N))*N/2.,eye(len(H_N))*N/2.,eye(len(H_N))*N/2.,eye(len(H_N))*N/2.,eye(len(H_N))*N/2.,eye(len(H_N))*N/2.,eye(len(H_N))*N/2.,eye(len(H_N))*N/2."
   ]
  },
  {
   "cell_type": "code",
   "execution_count": 23,
   "metadata": {},
   "outputs": [],
   "source": [
    "etSq1nn = 0.5*(dot(etd1nn,et1nn)+dot(et1nn,etd1nn))+etz1nn**2\n",
    "etSq1nh = 0.5*(dot(etd1nh,et1nh)+dot(et1nh,etd1nh))+etz1nn**2\n",
    "etSq1hn = 0.5*(dot(etd1hn,et1hn)+dot(et1hn,etd1hn))+etz1nn**2\n",
    "etSq1hh = 0.5*(dot(etd1hh,et1hh)+dot(et1hh,etd1hh))+etz1nn**2\n",
    "etSq2nn = 0.5*(dot(etd2nn,et2nn)+dot(et2nn,etd2nn))+etz2nn**2\n",
    "etSq2nh = 0.5*(dot(etd2nh,et2nh)+dot(et2nh,etd2nh))+etz2nn**2\n",
    "etSq2hn = 0.5*(dot(etd2hn,et2hn)+dot(et2hn,etd2hn))+etz2nn**2\n",
    "etSq2hh = 0.5*(dot(etd2hh,et2hh)+dot(et2hh,etd2hh))+etz2nn**2"
   ]
  },
  {
   "cell_type": "markdown",
   "metadata": {},
   "source": [
    "We are now in a position to check the commutation relations. Allocate one operator to AA and another to BB and check these algebraic relations."
   ]
  },
  {
   "cell_type": "markdown",
   "metadata": {},
   "source": [
    "For example, here I would to see if $H_n$ indeed satisfies the commutation relation with $\\eta^\\dagger_{1,hh}$, which is $[H_n,\\eta^\\dagger_{1,hh}] = (U-2 \\mu) \\eta^\\dagger_{1,nn}$. For this purpose, I visualized the matrix structure by spy command."
   ]
  },
  {
   "cell_type": "code",
   "execution_count": 24,
   "metadata": {},
   "outputs": [
    {
     "data": {
      "text/plain": [
       "108"
      ]
     },
     "execution_count": 24,
     "metadata": {},
     "output_type": "execute_result"
    },
    {
     "data": {
      "image/png": "[encoded data removed]",
      "text/plain": [
       "<Figure size 432x288 with 1 Axes>"
      ]
     },
     "metadata": {
      "needs_background": "light"
     },
     "output_type": "display_data"
    }
   ],
   "source": [
    "AA = etd1hh\n",
    "BB = H_N\n",
    "comm = abs(dot(BB,AA)-dot(AA,BB))\n",
    "spy(comm)\n",
    "count_nonzero(comm)"
   ]
  },
  {
   "cell_type": "code",
   "execution_count": 25,
   "metadata": {},
   "outputs": [
    {
     "data": {
      "text/plain": [
       "144"
      ]
     },
     "execution_count": 25,
     "metadata": {},
     "output_type": "execute_result"
    },
    {
     "data": {
      "image/png": "[encoded data removed]",
      "text/plain": [
       "<Figure size 432x288 with 1 Axes>"
      ]
     },
     "metadata": {
      "needs_background": "light"
     },
     "output_type": "display_data"
    }
   ],
   "source": [
    "spy(AA)\n",
    "count_nonzero(AA)"
   ]
  },
  {
   "cell_type": "markdown",
   "metadata": {},
   "source": [
    "Both have the same sparsity, they (most) probably obey the ladder structure. One also need to check the ratio of matrix elements in non-zero entries."
   ]
  },
  {
   "cell_type": "markdown",
   "metadata": {},
   "source": [
    "###  <span style=\"color:red\">Problem detected</span>: $H_{kin}$ is still problematic. I currently could not find a suitable operator to satisfy either  $[H_{kin},\\eta^\\dagger_{\\alpha,XY}] = K \\eta^\\dagger_{\\alpha,XY}$ or $=0$."
   ]
  },
  {
   "cell_type": "markdown",
   "metadata": {},
   "source": [
    "##### A.2.2.1 $J\\ne 0$ Case: "
   ]
  },
  {
   "cell_type": "markdown",
   "metadata": {},
   "source": [
    "To be summarized and included soon. An initial expectation: \n",
    "\n",
    "- $J \\ne 0$ is the case where spin-degrees of the two orbitals mix. Therefore, the intra-orbital eta-operators are modified as \n",
    "$\\eta^\\dagger \\sim c^\\dagger_{i\\alpha \\sigma} c^\\dagger_{i\\beta \\sigma'} $\n",
    "- to be added later."
   ]
  }
 ],
 "metadata": {
  "kernelspec": {
   "display_name": "Python 3",
   "language": "python",
   "name": "python3"
  },
  "language_info": {
   "codemirror_mode": {
    "name": "ipython",
    "version": 3
   },
   "file_extension": ".py",
   "mimetype": "text/x-python",
   "name": "python",
   "nbconvert_exporter": "python",
   "pygments_lexer": "ipython3",
   "version": "3.8.5"
  }
 },
 "nbformat": 4,
 "nbformat_minor": 5
}
