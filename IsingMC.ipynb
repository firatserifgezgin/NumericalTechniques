{
 "cells": [
  {
   "cell_type": "markdown",
   "id": "4af76f0c-9302-4b1c-bb35-82185a200c18",
   "metadata": {},
   "source": [
    "### Part I. Ising Model : a Monte Carlo Approach"
   ]
  },
  {
   "cell_type": "markdown",
   "id": "54f97b08-f2d8-4729-8ba2-3f80c4db22d7",
   "metadata": {},
   "source": [
    "$$H=J\\sum_{\\langle ij \\rangle} S_i S_{j}$$"
   ]
  },
  {
   "cell_type": "markdown",
   "id": "843c2a3f-4742-4f63-b45f-6b2912d13b1f",
   "metadata": {},
   "source": [
    "This is the simplest model which yields phase transitions in spin systems. "
   ]
  },
  {
   "cell_type": "markdown",
   "id": "0f54fd47-9f3d-4725-8b5e-5d420db8dc4a",
   "metadata": {},
   "source": [
    "Order parameter is the average magnetization,\n",
    "$$m=\\frac{1}{N}\\sum_iS_i$$"
   ]
  },
  {
   "cell_type": "markdown",
   "id": "190bfb04-e8db-4ec4-befa-3c3ea37c4b05",
   "metadata": {},
   "source": [
    "Metropolis steps:\n",
    "\n",
    "1. Prepare an initial configuration of N spins\n",
    "\n",
    "2. Flip the spin of a randomly chosen lattice site.\n",
    "\n",
    "3. Calculate the change in energy dE.\n",
    "\n",
    "4. If dE < 0, accept the move. Otherwise accept the move with probability exp^{-dE/T}. This satisfies the detailed balance condition, ensuring a final equilibrium state.\n",
    "\n",
    "5. Repeat 2-4."
   ]
  },
  {
   "cell_type": "code",
   "execution_count": 1,
   "id": "2594a489-de35-44cb-8f36-97901a466ee3",
   "metadata": {},
   "outputs": [],
   "source": [
    "import numpy as np\n",
    "from numpy.random import rand\n",
    "import matplotlib.pyplot as plt\n",
    "from scipy.sparse import spdiags,linalg,eye"
   ]
  },
  {
   "cell_type": "markdown",
   "id": "03bb88cf-b17f-45f3-ae07-c9a06de87a0f",
   "metadata": {},
   "source": [
    "1. The spin variables can take two values $\\pm 1$. We will use the following random integer generator for $N\\times M$ lattice"
   ]
  },
  {
   "cell_type": "code",
   "execution_count": 2,
   "id": "01fd0180-66e7-43e8-9ad8-2a40ed062ca7",
   "metadata": {},
   "outputs": [
    {
     "data": {
      "text/plain": [
       "array([[ 1,  1,  1, -1],\n",
       "       [-1, -1, -1,  1],\n",
       "       [-1, -1, -1, -1],\n",
       "       [-1,  1,  1,  1]])"
      ]
     },
     "execution_count": 2,
     "metadata": {},
     "output_type": "execute_result"
    }
   ],
   "source": [
    "2*np.random.randint(2, size=(4,4))-1"
   ]
  },
  {
   "cell_type": "markdown",
   "id": "a0635f48-08b7-41b4-af9c-1ee8867e8364",
   "metadata": {},
   "source": [
    "Let us try to keep them as functions."
   ]
  },
  {
   "cell_type": "code",
   "execution_count": 3,
   "id": "30a21b1a-a890-4084-b00c-04a4b449bccf",
   "metadata": {},
   "outputs": [],
   "source": [
    "def wfncInit(N,M):\n",
    "    return 2*np.random.randint(2, size=(N,M))-1"
   ]
  },
  {
   "cell_type": "code",
   "execution_count": 4,
   "id": "7aa3cd4c-ee45-44eb-a176-9d565e7b3238",
   "metadata": {},
   "outputs": [],
   "source": [
    "N = 4\n",
    "M = 4\n",
    "confi = wfncInit(N,M)"
   ]
  },
  {
   "cell_type": "code",
   "execution_count": 114,
   "id": "80fe8e8a-0dbb-40dc-979e-b5f420b8688a",
   "metadata": {},
   "outputs": [
    {
     "name": "stdout",
     "output_type": "stream",
     "text": [
      "[[-1  1 -1  1]\n",
      " [ 1 -1 -1 -1]\n",
      " [-1 -1  1 -1]\n",
      " [-1  1  1 -1]]\n",
      "[[ 1 -1  1 -1]\n",
      " [-1  1 -1 -1]\n",
      " [-1 -1 -1  1]\n",
      " [-1 -1  1  1]]\n"
     ]
    }
   ],
   "source": [
    "print(confi)\n",
    "print(np.roll(confi,(0,1),axis=(0,1)))"
   ]
  },
  {
   "cell_type": "markdown",
   "id": "f2d6d0a6-98c3-4491-bc20-105b9d2a0f6a",
   "metadata": {},
   "source": [
    "2. We received the initial config. It is time to flip the randomly chosen lattice sites and calculate the energy. For this purpose we will anyway need the energy calculator."
   ]
  },
  {
   "cell_type": "code",
   "execution_count": 5,
   "id": "0347412a-5f6c-4409-a26a-f69a991485ae",
   "metadata": {},
   "outputs": [],
   "source": [
    "def enCalcPer(config,J):\n",
    "    XM1 = np.roll(config,(0, 1),axis=(0,1))\n",
    "    XP1 = np.roll(config,(0,-1),axis=(0,1))\n",
    "    YM1 = np.roll(config,( 1,0),axis=(0,1))\n",
    "    YP1 = np.roll(config,(-1,0),axis=(0,1))\n",
    "    energy = np.sum(config*(XM1+XP1+YM1+YP1))\n",
    "    return energy/2."
   ]
  },
  {
   "cell_type": "code",
   "execution_count": 6,
   "id": "654fdee6-c2f0-42e0-81bf-9b67e9d1703e",
   "metadata": {},
   "outputs": [],
   "source": [
    "J = -1\n",
    "beta = 0.01\n",
    "en1 = enCalcPer(confi,J)"
   ]
  },
  {
   "cell_type": "code",
   "execution_count": 7,
   "id": "4a9b354d-82e6-4e47-aae9-d37a72760b30",
   "metadata": {},
   "outputs": [
    {
     "data": {
      "text/plain": [
       "-4.0"
      ]
     },
     "execution_count": 7,
     "metadata": {},
     "output_type": "execute_result"
    }
   ],
   "source": [
    "en1"
   ]
  },
  {
   "cell_type": "markdown",
   "id": "85fca65c-ec4d-408e-859c-ac01a2a427f6",
   "metadata": {},
   "source": [
    "3-4. Let us randomly flip one spin index and also calculate the total energy,"
   ]
  },
  {
   "cell_type": "code",
   "execution_count": 8,
   "id": "9622e148-6ed8-4e03-b49d-7aea9a96ac4f",
   "metadata": {},
   "outputs": [
    {
     "name": "stdout",
     "output_type": "stream",
     "text": [
      "[[-1  1  1  1]\n",
      " [-1  1 -1  1]\n",
      " [-1 -1 -1  1]\n",
      " [ 1 -1 -1 -1]]\n",
      "[[-1  1  1  1]\n",
      " [-1  1 -1  1]\n",
      " [ 1 -1 -1  1]\n",
      " [ 1 -1 -1 -1]]\n"
     ]
    }
   ],
   "source": [
    "print(confi)\n",
    "xr = np.random.randint(0,N)\n",
    "yr = np.random.randint(0,M)\n",
    "\n",
    "sp = confi[xr,yr]\n",
    "# calculate energy cost without spin flip\n",
    "enCost1 = 2*sp*(confi[(xr+1)%N,yr]+confi[(xr-1)%N,yr]+confi[xr,(yr+1)%M]+confi[xr,(yr-1)%M])*J\n",
    "\n",
    "if enCost1 < 0:\n",
    "    sp *= -1\n",
    "elif rand() < np.exp(-enCost1*beta):\n",
    "    sp *= -1\n",
    "confi[xr,yr] = sp\n",
    "print(confi)"
   ]
  },
  {
   "cell_type": "markdown",
   "id": "ee614950-d662-49cb-9f3a-d3ea01c8df0c",
   "metadata": {},
   "source": [
    "We now write a function that handles step 3-4."
   ]
  },
  {
   "cell_type": "code",
   "execution_count": 9,
   "id": "8f772724-3a89-481a-bb0b-4c91f54ca844",
   "metadata": {},
   "outputs": [],
   "source": [
    "def spinConfigUpd(config,J,beta):\n",
    "    for i in range(N*M):\n",
    "        xr = np.random.randint(0,N)\n",
    "        yr = np.random.randint(0,M)\n",
    "\n",
    "        sp = config[xr,yr]\n",
    "        # calculate energy cost without spin flip\n",
    "        enCost1 = 2*sp*(config[(xr+1)%N,yr]+config[(xr-1)%N,yr]+config[xr,(yr+1)%M]+config[xr,(yr-1)%M])*J\n",
    "\n",
    "        if enCost1 < 0:\n",
    "            sp *= -1\n",
    "        elif rand() < np.exp(-enCost1*beta):\n",
    "            sp *= -1\n",
    "        config[xr,yr] = sp\n",
    "    return config"
   ]
  },
  {
   "cell_type": "markdown",
   "id": "105e5a7c-9d09-4698-89fe-84be8715e3f0",
   "metadata": {},
   "source": [
    "We also need to calculate the average magnetization,"
   ]
  },
  {
   "cell_type": "code",
   "execution_count": 10,
   "id": "599002ae-56f3-4ebf-a487-ea149d35aa6d",
   "metadata": {},
   "outputs": [],
   "source": [
    "def avMag(config):\n",
    "    return np.sum(config)"
   ]
  },
  {
   "cell_type": "markdown",
   "id": "04af335d-81ee-411e-ba7d-4b3fa5431c91",
   "metadata": {},
   "source": [
    "#### Monte Carlo Routine"
   ]
  },
  {
   "cell_type": "markdown",
   "id": "2336a8ef-d575-46d7-993f-dbde902172d4",
   "metadata": {},
   "source": [
    "We define the initial params for the simulation:"
   ]
  },
  {
   "cell_type": "code",
   "execution_count": 27,
   "id": "b59955f6-b96f-4437-a456-dea44ab0ce5d",
   "metadata": {},
   "outputs": [],
   "source": [
    "J       = 1          #  Ising coupling\n",
    "nt      = 42         #  number of temperature points\n",
    "N       = 10         #  size of the lattice, N x M\n",
    "M       = 10         #  size of the lattice, N x M\n",
    "eqSteps = 2**10      #  number of MC sweeps for equilibration\n",
    "mcSteps = 2**10      #  number of MC sweeps for calculation\n",
    "\n",
    "\n",
    "T       = np.linspace(1.1, 3.58, nt)\n",
    "E,Mag,C,X = np.zeros(nt), np.zeros(nt), np.zeros(nt), np.zeros(nt)\n",
    "n1, n2  = 1.0/(mcSteps*N*M), 1.0/(mcSteps*mcSteps*N*M) "
   ]
  },
  {
   "cell_type": "markdown",
   "id": "120d92f4-f30a-4ddb-8062-c542d3b6f11b",
   "metadata": {},
   "source": [
    "let us start the main Metropolis algorithm,"
   ]
  },
  {
   "cell_type": "code",
   "execution_count": 28,
   "id": "525305cf-57a0-4e1c-a411-d2b635992165",
   "metadata": {},
   "outputs": [],
   "source": [
    "for tem in range(nt):\n",
    "    config = wfncInit(N,M)\n",
    "    \n",
    "    Etem, Magtem, E2tem, Mag2tem = 0.,0.,0.,0.\n",
    "    beta = 1/T[tem]; beta2 = beta**2;\n",
    "    \n",
    "    # equilibrate first\n",
    "    for inMc in range(eqSteps):\n",
    "        spinConfigUpd(config,J,beta)\n",
    "    \n",
    "    # do monte carlo\n",
    "    for inSt in range(mcSteps):\n",
    "        spinConfigUpd(config,J,beta)\n",
    "        enn  = enCalcPer(config,J)\n",
    "        magg = avMag(config)\n",
    "        \n",
    "        Etem = Etem + enn\n",
    "        Magtem = Magtem + magg\n",
    "        E2tem = E2tem + enn**2\n",
    "        Mag2tem = Mag2tem + magg**2\n",
    "    \n",
    "    # calculate intensive values for thermodynamic functions\n",
    "    E[tem],Mag[tem],C[tem],X[tem] = Etem*n1,Magtem*n1,(n1*E2tem - n2*Etem*Etem)*beta2,(n1*Mag2tem - n2*Magtem*Magtem)*beta"
   ]
  },
  {
   "cell_type": "markdown",
   "id": "da4e4020-fa05-42a7-be06-cf443821fb86",
   "metadata": {},
   "source": [
    "Let us plot the results,\n"
   ]
  },
  {
   "cell_type": "code",
   "execution_count": 29,
   "id": "20521ec9-661a-4a18-9d18-5355c8fa1333",
   "metadata": {},
   "outputs": [
    {
     "data": {
      "image/png": "[encoded data removed]",
      "text/plain": [
       "<Figure size 1296x720 with 4 Axes>"
      ]
     },
     "metadata": {
      "needs_background": "light"
     },
     "output_type": "display_data"
    }
   ],
   "source": [
    "f = plt.figure(figsize=(18, 10)); #  \n",
    "\n",
    "sp =  f.add_subplot(2, 2, 1 );\n",
    "plt.scatter(T, E, s=50, marker='o', color='IndianRed')\n",
    "plt.xlabel(\"Temperature (T)\", fontsize=20);\n",
    "plt.ylabel(\"Energy \", fontsize=20);        \n",
    "#sp.set_xscale('log')\n",
    "\n",
    "sp1 =  f.add_subplot(2, 2, 2 );\n",
    "plt.scatter(T, abs(Mag), s=50, marker='o', color='RoyalBlue')\n",
    "plt.xlabel(\"Temperature (T)\", fontsize=20); \n",
    "plt.ylabel(\"Magnetization \", fontsize=20);  \n",
    "#sp1.set_xscale('log')\n",
    "\n",
    "sp2 =  f.add_subplot(2, 2, 3 );\n",
    "plt.scatter(T, C, s=50, marker='o', color='IndianRed')\n",
    "plt.xlabel(\"Temperature (T)\", fontsize=20);  \n",
    "plt.ylabel(\"Specific Heat \", fontsize=20);   \n",
    "#sp2.set_xscale('log')\n",
    "\n",
    "sp3 =  f.add_subplot(2, 2, 4 );\n",
    "plt.scatter(T, X, s=50, marker='o', color='RoyalBlue')\n",
    "plt.xlabel(\"Temperature (T)\", fontsize=20); \n",
    "plt.ylabel(\"Susceptibility\", fontsize=20);   \n",
    "#sp3.set_xscale('log')"
   ]
  },
  {
   "cell_type": "markdown",
   "id": "c4a9ca17-3b89-4824-9912-0c9492f847f8",
   "metadata": {},
   "source": [
    "##### Discussion: Transverse Ising Model\n",
    "\n",
    "What happens under a transverse magnetic field?\n",
    "$$H_{TF}=J\\sum_{\\langle ij \\rangle} S^z_i S^z_{j} + \\sum_i h_i S^x_i.$$\n",
    "\n",
    "Answer: It is called the Transerve Field Ising-Model. The crucial part is that \n",
    "- the degrees of freedom are constant of motion or classical anymore! \n",
    "- the quantum model of dimension $d$ can be mapped into the $d+1$ dimensional Ising model.\n",
    "\n",
    "The approach is then to decompose the partition function into Ising and the transverse spin flip parts by a Suzuki-Trotter expansion up to 1st order. Then, using sufficient set of identity operators as the resolution of identity, one can rewrite the spin-flip operators in terms of Ising coupling and transforming the $d$ dimensional dynamic problem into a $d+1$ dimensional static problem. The following discussion is borrowed from the literature to save time,\n",
    "\n",
    "\\begin{eqnarray}\n",
    "Z &=& Tr \\left[ e^{-\\beta H_{TF}} \\right] = Tr \\left[ exp\\left(-\\frac{\\beta}{N_s} J\\sum_{\\langle ij \\rangle} S^z_i S^z_{j} - \\sum_i h_i S^x_i \\right)^{N_s}\\right],\\\\\n",
    "&=& \\lim_{N_s\\to \\infty} Tr \\left[ exp\\left(-\\frac{\\beta}{N_s} J\\sum_{\\langle ij \\rangle} S^z_i S^z_{j}\\right)^{N_s} exp\\left(- \\frac{\\beta}{N_s}\\sum_i h_i S^x_i \\right)^{N_s} + \\mathcal{O}(1/N^2_s)\\right],\\\\\n",
    "\\end{eqnarray}"
   ]
  },
  {
   "cell_type": "markdown",
   "id": "58ee6340-c61b-4e2d-960e-21856d708718",
   "metadata": {},
   "source": [
    "The first term is the usual Ising interaction. The second term can be expanded using a similar trick to Path Integral representation and one can insert series of identity operators,\n",
    "\\begin{eqnarray}\n",
    "A_{i_1,i_2} &=& \\langle i_1 \\mid exp\\left(a S^x_i \\right) \\mid i_2 \\rangle \\approx \\langle i_1 \\mid cosh(a) + sinh(a) S^x_i  \\mid i_2 \\rangle,\\\\\n",
    "&=& \\delta_{i_1,i_2}  cosh(a) + \\left( \\delta_{i_1,i} \\delta^i_{\\bar{i}_1,i_2} +  \\delta_{i_2,i} \\delta^i_{i_1,\\bar{i}_2}\\right) sinh(a)\n",
    "\\end{eqnarray}\n",
    "\n",
    "Note that the $2nd$ Kronecker Delta function has barred configuration where $i^{th}$ index is flipped.\n",
    "\n",
    "Yet, we will use another observation and rewrite it as the Ising interaction on the y-direction as follows,\n",
    "\\begin{eqnarray}\n",
    "A_{i_1,i_2} &=& \\langle i_1 \\mid cosh(a) + sinh(a) S^x_i  \\mid i_2 \\rangle,\\\\\n",
    "&=& \\frac{1}{2} \\left( e^{-a} \\langle i_1 \\mid S^z_{ij}S^z_{ij+1}  \\mid i_2 \\rangle + e^{a} \\right).\n",
    "\\end{eqnarray}"
   ]
  },
  {
   "cell_type": "markdown",
   "id": "12d77dee-f0d3-4378-9cc6-3112bf4e201a",
   "metadata": {},
   "source": [
    "To keep the exponential trace simple, we map it back to another exponential,\n",
    "$$A_{i_1,i_2} = \\Lambda e^{\\gamma S^z_{i,j}S^z_{i,j+1}}$$\n",
    "$$\\Lambda = \\sqrt{\\sinh(a) \\cosh(a)}, \\gamma = -\\frac{1}{2} \\log \\tanh(a)$$"
   ]
  },
  {
   "cell_type": "markdown",
   "id": "a76af8d5-7c1c-4328-bd08-9f38f58817a8",
   "metadata": {},
   "source": [
    "This expression now can be inserted back into the Trotter expanded partition function and sampled."
   ]
  },
  {
   "cell_type": "markdown",
   "id": "10e8028d-d974-4bce-b88f-1e6ccce6f05e",
   "metadata": {},
   "source": [
    "##### Discussion:\n",
    "\n",
    "What happens if we have a spin direction, a vector for each classical spin?\n",
    "- Answer: It is called the classical Heisenberg model. It requires a bit more careful analysis that we will carry out here."
   ]
  },
  {
   "cell_type": "code",
   "execution_count": null,
   "id": "238d7d50-7942-4ae5-9764-b6f6685a01bf",
   "metadata": {},
   "outputs": [],
   "source": []
  }
 ],
 "metadata": {
  "kernelspec": {
   "display_name": "Python 3 (ipykernel)",
   "language": "python",
   "name": "python3"
  },
  "language_info": {
   "codemirror_mode": {
    "name": "ipython",
    "version": 3
   },
   "file_extension": ".py",
   "mimetype": "text/x-python",
   "name": "python",
   "nbconvert_exporter": "python",
   "pygments_lexer": "ipython3",
   "version": "3.9.7"
  }
 },
 "nbformat": 4,
 "nbformat_minor": 5
}
