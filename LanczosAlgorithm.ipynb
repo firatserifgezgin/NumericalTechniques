{
 "cells": [
  {
   "cell_type": "markdown",
   "metadata": {},
   "source": [
    "### Lanczos Algorithm\n",
    "\n",
    "I this short notebook, we implement the Lanczos algorithm. The aim is to obtain a function to use in DMRG routine.\n",
    "\n",
    "Lanczos algorithm is a numerical recipe which aims to find a few largest eigenvalues and corresponding eigenvectors of a given matrix.\n"
   ]
  },
  {
   "cell_type": "markdown",
   "metadata": {},
   "source": [
    "#### Generate a Hamiltonian\n",
    "\n",
    "Given an b-by-n matrix $H$ and initial n-by-1 (random) vector $v$, the k-th order Krylov space is:\n",
    "$$\\mathcal{K}(H,v,n) = span\\{v,Hv,H^2v,...,H^kv\\}$$\n"
   ]
  },
  {
   "cell_type": "code",
   "execution_count": 1,
   "metadata": {
    "tags": []
   },
   "outputs": [
    {
     "name": "stdout",
     "output_type": "stream",
     "text": [
      "Using matplotlib backend: <object object at 0x00000285A005CD60>\n"
     ]
    }
   ],
   "source": [
    "# in case needed, sometimes the figures can be drawn with a seperate window\n",
    "# the following two command enforces it to draw 'inline'\n",
    "%matplotlib\n",
    "%matplotlib inline\n",
    "# ignore the warnings: can be useful for too many imag. part warnings \n",
    "import warnings\n",
    "warnings.filterwarnings('ignore')\n",
    "from numpy import *\n",
    "from scipy import *\n",
    "import numpy as np\n",
    "import scipy as sp\n",
    "from mpl_toolkits.mplot3d import Axes3D\n",
    "from matplotlib.pylab import * # for plotting commands\n",
    "import matplotlib.pyplot as plt\n",
    "from numpy import (real,imag,matrix,linspace,array,complex)\n",
    "from IPython.display import Image\n",
    "from mpl_toolkits.mplot3d import axes3d"
   ]
  },
  {
   "cell_type": "code",
   "execution_count": 4,
   "metadata": {},
   "outputs": [],
   "source": [
    "dx = 0.1\n",
    "a = arange(-10.,10.,dx)\n",
    "aN = len(a)\n",
    "L = 1\n",
    "\n",
    "H = np.array(zeros((aN,aN),dtype='complex'))\n",
    "for i1 in arange(-L,L+1):\n",
    "    H = H + np.diag(a[0:aN-abs(i1)]*exp(-abs(i1)),i1)"
   ]
  },
  {
   "cell_type": "markdown",
   "metadata": {},
   "source": [
    "A Hermitian conjugate matrix is generated,"
   ]
  },
  {
   "cell_type": "code",
   "execution_count": 29,
   "metadata": {},
   "outputs": [
    {
     "data": {
      "text/plain": [
       "200"
      ]
     },
     "execution_count": 29,
     "metadata": {},
     "output_type": "execute_result"
    }
   ],
   "source": [
    "aN"
   ]
  },
  {
   "cell_type": "code",
   "execution_count": 10,
   "metadata": {},
   "outputs": [
    {
     "data": {
      "text/plain": [
       "array([[-10.        +0.j,  -3.67879441+0.j,   0.        +0.j, ...,\n",
       "          0.        +0.j,   0.        +0.j,   0.        +0.j],\n",
       "       [ -3.67879441+0.j,  -9.9       +0.j,  -3.64200647+0.j, ...,\n",
       "          0.        +0.j,   0.        +0.j,   0.        +0.j],\n",
       "       [  0.        +0.j,  -3.64200647+0.j,  -9.8       +0.j, ...,\n",
       "          0.        +0.j,   0.        +0.j,   0.        +0.j],\n",
       "       ...,\n",
       "       [  0.        +0.j,   0.        +0.j,   0.        +0.j, ...,\n",
       "          9.7       +0.j,   3.56843058+0.j,   0.        +0.j],\n",
       "       [  0.        +0.j,   0.        +0.j,   0.        +0.j, ...,\n",
       "          3.56843058+0.j,   9.8       +0.j,   3.60521852+0.j],\n",
       "       [  0.        +0.j,   0.        +0.j,   0.        +0.j, ...,\n",
       "          0.        +0.j,   3.60521852+0.j,   9.9       +0.j]])"
      ]
     },
     "execution_count": 10,
     "metadata": {},
     "output_type": "execute_result"
    }
   ],
   "source": [
    "(H)"
   ]
  },
  {
   "cell_type": "code",
   "execution_count": 9,
   "metadata": {},
   "outputs": [
    {
     "data": {
      "text/plain": [
       "(200, 200)"
      ]
     },
     "execution_count": 9,
     "metadata": {},
     "output_type": "execute_result"
    }
   ],
   "source": [
    "abs(H).shape"
   ]
  },
  {
   "cell_type": "code",
   "execution_count": 26,
   "metadata": {},
   "outputs": [
    {
     "data": {
      "text/plain": [
       "array([-16.45468398+0.j, -15.64188912+0.j, -14.98963418+0.j])"
      ]
     },
     "execution_count": 26,
     "metadata": {},
     "output_type": "execute_result"
    }
   ],
   "source": [
    "ei,vi =eig(H)\n",
    "ndee1=argsort(ei)\n",
    "ei = ei[ndee1]\n",
    "vi = vi[:,ndee1]\n",
    "ei[0:3]"
   ]
  },
  {
   "cell_type": "markdown",
   "metadata": {},
   "source": [
    "#### Lanczos iteration"
   ]
  },
  {
   "cell_type": "code",
   "execution_count": 28,
   "metadata": {},
   "outputs": [
    {
     "data": {
      "text/plain": [
       "array([ 3,  4,  5,  6,  7,  8,  9, 10, 11, 12, 13, 14, 15, 16, 17, 18, 19,\n",
       "       20, 21, 22, 23, 24, 25, 26, 27, 28, 29, 30, 31, 32, 33, 34, 35, 36,\n",
       "       37, 38, 39, 40, 41, 42, 43, 44, 45, 46, 47, 48, 49, 50, 51, 52, 53,\n",
       "       54, 55, 56, 57, 58, 59, 60, 61, 62, 63, 64, 65, 66, 67, 68, 69, 70,\n",
       "       71, 72, 73, 74, 75, 76, 77, 78, 79, 80, 81, 82, 83, 84, 85, 86, 87,\n",
       "       88, 89])"
      ]
     },
     "execution_count": 28,
     "metadata": {},
     "output_type": "execute_result"
    }
   ],
   "source": [
    "arange(3,90)"
   ]
  },
  {
   "cell_type": "code",
   "execution_count": 30,
   "metadata": {
    "tags": []
   },
   "outputs": [],
   "source": [
    "v0 = np.random.rand(aN,)\n",
    "v0 = v0/norm(v0)\n",
    "\n",
    "threshold = 1e-2\n",
    "error = 1.\n",
    "count = 0\n",
    "maxIt = 89\n",
    "\n",
    "# kolay vektör initialization yolu\n",
    "ee0,ee1,ee2,eer0,eer1 = [np.array(zeros((maxIt,),dtype='double')) for _ in range(5)]\n",
    "\n",
    "#while (error > threshold) and (count < maxIt):\n",
    "for k in arange(3,maxIt+1):\n",
    "    MM = min(k,2)\n",
    "    vjVec = np.array(zeros((aN,k),dtype='complex')) \n",
    "    aVec,bVec = [np.array(zeros((k,),dtype='complex')) for _ in range(2)]\n",
    "    vjVec[:,0] = v0;\n",
    "    if k==3:\n",
    "        vjVec[:,0] = v0;\n",
    "    else:\n",
    "        vjVec[:,0:MM] = vv[:,0:MM];\n",
    "    \n",
    "    wjp = dot(H,vjVec[:,0])\n",
    "    aVec[0]= dot(conj(wjp).T,vjVec[:,0])\n",
    "    wj = wjp - aVec[0]*vjVec[:,0]\n",
    "\n",
    "    for i2 in arange(1,k):\n",
    "        bVec[i2] = norm(wj)\n",
    "        if bVec[i2] != 0.:\n",
    "            vj = wj/bVec[i2]\n",
    "        else:\n",
    "            vj = np.random.rand(aN,)\n",
    "        vSub = np.array(zeros((aN,),dtype='complex'))\n",
    "        for i3 in arange(i2):\n",
    "            vSub = vSub + dot(vjVec[:,i3],vj)*vjVec[:,i3]\n",
    "        vj = vj-vSub \n",
    "        vj= vj/norm(vj)\n",
    "\n",
    "        vjVec[:,i2] = vj\n",
    "        wjp= dot(H,vj)\n",
    "        aVec[i2] = dot(conj(wjp).T,vj)\n",
    "        wj = wjp - aVec[i2]*vj - bVec[i2]*vjVec[:,i2-1]\n",
    "\n",
    "    T = diag(aVec)+diag(bVec[1:],1)+diag(bVec[1:],-1)\n",
    "    \n",
    "    etI,vtI = eig(T)\n",
    "    ndee=argsort(etI)\n",
    "    vtI = vtI[:,ndee[0:MM]]\n",
    "    etI = etI[ndee[0:MM]]\n",
    "\n",
    "    error = norm(bVec)\n",
    "    error = matrix_rank(vjVec)\n",
    "    vv = dot(vjVec,vtI)\n",
    "\n",
    "    ee0[k-1] = etI[0]\n",
    "    ee1[k-1] = etI[1]\n",
    "    eer0[k-1] = norm(etI[0]*dot(vjVec,vtI[:,0])-dot(H,dot(vjVec,vtI[:,0])))\n",
    "    eer1[k-1] = norm(etI[1]*dot(vjVec,vtI[:,1])-dot(H,dot(vjVec,vtI[:,1])))\n"
   ]
  },
  {
   "cell_type": "code",
   "execution_count": 31,
   "metadata": {},
   "outputs": [
    {
     "data": {
      "text/plain": [
       "[<matplotlib.lines.Line2D at 0x268d53dd550>,\n",
       " <matplotlib.lines.Line2D at 0x268d53dd610>,\n",
       " <matplotlib.lines.Line2D at 0x268d53dd6a0>]"
      ]
     },
     "execution_count": 31,
     "metadata": {},
     "output_type": "execute_result"
    },
    {
     "data": {
      "image/png": "[encoded data removed]",
      "text/plain": [
       "<Figure size 432x288 with 1 Axes>"
      ]
     },
     "metadata": {
      "needs_background": "light"
     },
     "output_type": "display_data"
    }
   ],
   "source": [
    "plot(arange(1,k+1),log(abs(ee0-ei[0])),arange(1,k+1),log(abs(ee1-ei[1])),arange(1,k+1),log(abs(ee2-ei[2])))"
   ]
  },
  {
   "cell_type": "raw",
   "metadata": {},
   "source": [
    "vjVec*X = Y where  H y = E y and T x = E x."
   ]
  },
  {
   "cell_type": "code",
   "execution_count": 35,
   "metadata": {},
   "outputs": [
    {
     "data": {
      "text/plain": [
       "[<matplotlib.lines.Line2D at 0x268d5570760>,\n",
       " <matplotlib.lines.Line2D at 0x268d5570820>]"
      ]
     },
     "execution_count": 35,
     "metadata": {},
     "output_type": "execute_result"
    },
    {
     "data": {
      "image/png": "[encoded data removed]",
      "text/plain": [
       "<Figure size 432x288 with 1 Axes>"
      ]
     },
     "metadata": {
      "needs_background": "light"
     },
     "output_type": "display_data"
    }
   ],
   "source": [
    "plot(arange(1,k+1),log(eer0),arange(1,k+1),log(eer1))"
   ]
  },
  {
   "cell_type": "code",
   "execution_count": 36,
   "metadata": {},
   "outputs": [
    {
     "name": "stdout",
     "output_type": "stream",
     "text": [
      "[-16.45468398+0.j -15.64188912+0.j] [-16.45468398+0.j -15.64188912+0.j]\n"
     ]
    }
   ],
   "source": [
    "print(ei[0:2],etI[0:2])"
   ]
  },
  {
   "cell_type": "markdown",
   "metadata": {},
   "source": [
    "the take away message is that the original matrix $H$ must be reproduced as follows. If $u$ and $\\lambda$ are the eigen- vectors and values and if $\\lambda$ is also the eigenvalue of $H$, then the eigenvector of $H$, $v$ is,\n",
    "$$v = V u$$\n",
    "and\n",
    "$$H = V T V^\\dagger$$"
   ]
  },
  {
   "cell_type": "markdown",
   "metadata": {},
   "source": [
    "we are now ready to define our Lanczos function:"
   ]
  },
  {
   "cell_type": "markdown",
   "metadata": {},
   "source": [
    "### a function for Lanczos Algorithm\n",
    "#### Full Hilbert Space"
   ]
  },
  {
   "cell_type": "code",
   "execution_count": 55,
   "metadata": {},
   "outputs": [],
   "source": [
    "def LancFirat(H,Logsensitivity):\n",
    "    aN = H.shape[0]\n",
    "    v0 = np.random.rand(aN,)\n",
    "    v0 = v0/norm(v0)\n",
    "    threshold = 1e-2\n",
    "    error = 1.\n",
    "    count = 0\n",
    "    maxIt = aN\n",
    "    ee0,ee1,ee2,eer0,eer1 = [np.array(zeros((maxIt,),dtype='double')) for _ in range(5)]\n",
    "\n",
    "    k = 3\n",
    "    erLog = 1\n",
    "    Trank = 3\n",
    "    while erLog>Logsensitivity or (abs(Trank-k)>4):# check this part and k <= aN):\n",
    "        MM = min(k,3)\n",
    "        vjVec = np.array(zeros((aN,k),dtype='complex')) \n",
    "        aVec,bVec = [np.array(zeros((k,),dtype='complex')) for _ in range(2)]\n",
    "        #vjVec[:,0] = v0\n",
    "        if k==3:\n",
    "            vjVec[:,0] = v0\n",
    "        else:\n",
    "            vjVec[:,0:MM] = vv[:,0:MM]\n",
    "        wjp = dot(H,vjVec[:,0])\n",
    "        aVec[0]= dot(conj(wjp).T,vjVec[:,0])\n",
    "        wj = wjp - aVec[0]*vjVec[:,0]\n",
    "\n",
    "        for i2 in arange(1,k):\n",
    "            bVec[i2] = norm(wj)\n",
    "            if bVec[i2] != 0.:\n",
    "                vj = wj/bVec[i2]\n",
    "            else:\n",
    "                vj = np.random.rand(aN,)\n",
    "                #print(i2)\n",
    "            vSub = np.array(zeros((aN,),dtype='complex'))\n",
    "            for i3 in arange(i2):\n",
    "                vSub = vSub + dot(vjVec[:,i3],vj)*vjVec[:,i3]\n",
    "            vj = vj-vSub \n",
    "            vj= vj/norm(vj)\n",
    "\n",
    "            vjVec[:,i2] = vj\n",
    "            wjp= dot(H,vj)\n",
    "            aVec[i2] = dot(conj(wjp).T,vj)\n",
    "            wj = wjp - aVec[i2]*vj - bVec[i2]*vjVec[:,i2-1]\n",
    "\n",
    "        T = diag(aVec)+diag(bVec[1:],1)+diag(bVec[1:],-1)\n",
    "        \n",
    "        etI1,vtI1 = eig(T)\n",
    "        ndee=argsort(etI1)\n",
    "        vtI1 = vtI1[:,ndee[0:MM]]\n",
    "        etI1 = etI1[ndee[0:MM]]\n",
    "\n",
    "        error = norm(bVec)\n",
    "        Trank = matrix_rank(vjVec)\n",
    "        vv= dot(vjVec,vtI1)\n",
    "\n",
    "        ee0[k-1] = etI1[0]\n",
    "        ee1[k-1] = etI1[1]\n",
    "        ee2[k-1] = etI1[2]\n",
    "        eer0[k-1] = norm(etI1[0]*dot(vjVec,vtI1[:,0])-dot(H,dot(vjVec,vtI1[:,0])))\n",
    "        eer1[k-1] = norm(etI1[1]*dot(vjVec,vtI1[:,1])-dot(H,dot(vjVec,vtI1[:,1])))\n",
    "        \n",
    "        #eer0[k-1] = abs(ee0[k-1]-(ee0[k-2]+ee0[k-3])/2.)\n",
    "        #eer1[k-1] = abs(ee1[k-1]-(ee1[k-2]+ee1[k-3])/2.)\n",
    "        erLog = log(eer0[k-1]+eer1[k-1])\n",
    "        #print(erLog)\n",
    "        eer = [eer0,eer1]\n",
    "        k += 1\n",
    "    return etI1,vv,k,ee0,ee1,ee2,eer0,eer1"
   ]
  },
  {
   "cell_type": "code",
   "execution_count": 56,
   "metadata": {},
   "outputs": [
    {
     "data": {
      "text/plain": [
       "array([-0.99903256, -0.99613119, -0.9912987 ])"
      ]
     },
     "execution_count": 56,
     "metadata": {},
     "output_type": "execute_result"
    }
   ],
   "source": [
    "L = 100\n",
    "H = diag(ones((L,),dtype='double'))-diag(ones((L-1,),dtype='double'),1)-diag(ones((L-1,),dtype='double'),-1)\n",
    "ei,vi = eig(H)\n",
    "ndee1 = argsort(ei)\n",
    "ei    = ei[ndee1]\n",
    "vi    = vi[:,ndee1]\n",
    "ei[0:3]"
   ]
  },
  {
   "cell_type": "code",
   "execution_count": 57,
   "metadata": {},
   "outputs": [
    {
     "name": "stdout",
     "output_type": "stream",
     "text": [
      "(100, 100)\n"
     ]
    }
   ],
   "source": [
    "print(H.shape)"
   ]
  },
  {
   "cell_type": "code",
   "execution_count": 70,
   "metadata": {},
   "outputs": [],
   "source": [
    "etI,vtI,k,ee0,ee1,ee2,eer0,eer1 = LancFirat(H,-10)"
   ]
  },
  {
   "cell_type": "code",
   "execution_count": 71,
   "metadata": {},
   "outputs": [
    {
     "name": "stdout",
     "output_type": "stream",
     "text": [
      "[-0.9990325645839764, -0.9961311920186334, -0.9912814381820512]\n"
     ]
    }
   ],
   "source": [
    "print([ee0[k-2],ee1[k-2],ee2[k-2]])"
   ]
  },
  {
   "cell_type": "code",
   "execution_count": 68,
   "metadata": {},
   "outputs": [
    {
     "data": {
      "text/plain": [
       "38"
      ]
     },
     "execution_count": 68,
     "metadata": {},
     "output_type": "execute_result"
    }
   ],
   "source": [
    "k"
   ]
  },
  {
   "cell_type": "code",
   "execution_count": 69,
   "metadata": {},
   "outputs": [
    {
     "data": {
      "text/plain": [
       "Text(0, 0.5, '$log(E_{lanczos}-E_{exact})$')"
      ]
     },
     "execution_count": 69,
     "metadata": {},
     "output_type": "execute_result"
    },
    {
     "data": {
      "image/png": "[encoded data removed]",
      "text/plain": [
       "<Figure size 432x288 with 1 Axes>"
      ]
     },
     "metadata": {
      "needs_background": "light"
     },
     "output_type": "display_data"
    }
   ],
   "source": [
    "plot(arange(1,k),log(abs(ee0[0:k-1]-ei[0])),arange(1,k),log(abs(ee1[0:k-1]-ei[1])))\n",
    "xlabel(\"iterations (Krylov space size)\",size=14)\n",
    "ylabel(\"$log(E_{lanczos}-E_{exact})$\",size=14)"
   ]
  },
  {
   "cell_type": "code",
   "execution_count": 72,
   "metadata": {},
   "outputs": [
    {
     "data": {
      "text/plain": [
       "Text(0, 0.5, '$Error= |v_0 - H (K z) |$')"
      ]
     },
     "execution_count": 72,
     "metadata": {},
     "output_type": "execute_result"
    },
    {
     "data": {
      "image/png": "[encoded data removed]",
      "text/plain": [
       "<Figure size 432x288 with 1 Axes>"
      ]
     },
     "metadata": {
      "needs_background": "light"
     },
     "output_type": "display_data"
    }
   ],
   "source": [
    "stem(arange(1,k),log(eer0[0:k-1]+eer1[0:k-1]))\n",
    "xlabel(\"iterations (Krylov space size)\",size=14)\n",
    "ylabel(\"$Error= |v_0 - H (K z) |$\",size=14)"
   ]
  },
  {
   "cell_type": "markdown",
   "metadata": {},
   "source": [
    "### One example: Heisenberg Chain\n"
   ]
  },
  {
   "cell_type": "markdown",
   "metadata": {},
   "source": [
    "The spin-$1/2$ Hamiltonian is,\n",
    "$$H = J \\sum_{\\langle ij \\rangle} S_i \\cdot S_j$$"
   ]
  },
  {
   "cell_type": "code",
   "execution_count": 73,
   "metadata": {},
   "outputs": [],
   "source": [
    "def XXZ_Ham(J,Jz,L):\n",
    "    Sigx = 0.5*np.array([[0.,1.],[1.,0.]])\n",
    "    Sigy = 0.5j*np.array([[0.,-1.],[1.,0.]])\n",
    "    Sigz = 0.5*np.array([[1.,0.],[0.,-1.]])\n",
    "    Sigp = Sigx+1j*Sigy\n",
    "    Sigm = Sigx-1j*Sigy\n",
    "\n",
    "    SigXX = kron(Sigx,Sigx)\n",
    "    SigYY = kron(Sigy,Sigy)\n",
    "    SigZZ = kron(Sigz,Sigz)\n",
    "    SigPMMP = 0.5*kron(Sigp,Sigm)+0.5*kron(Sigm,Sigp)\n",
    "    H_Heis = np.array(zeros((2**L,2**L),dtype='complex'))\n",
    "    for i1 in arange(L-1):\n",
    "        Hij = (SigPMMP+Jz*SigZZ)\n",
    "        # 2**i'lik identity matrix kullan\n",
    "        for i2 in arange(i1):\n",
    "            Hij = kron(eye(2),Hij)\n",
    "        for i2 in arange(i1+2,L):\n",
    "            Hij = kron(Hij,eye(2))\n",
    "        H_Heis = H_Heis + Hij\n",
    "    return H_Heis"
   ]
  },
  {
   "cell_type": "code",
   "execution_count": 89,
   "metadata": {},
   "outputs": [],
   "source": [
    "L = 12\n",
    "J = 1.\n",
    "Jz = 1.\n",
    "H_Heis = XXZ_Ham(J,Jz,L)"
   ]
  },
  {
   "cell_type": "code",
   "execution_count": 90,
   "metadata": {},
   "outputs": [
    {
     "data": {
      "text/plain": [
       "<matplotlib.image.AxesImage at 0x268800413a0>"
      ]
     },
     "execution_count": 90,
     "metadata": {},
     "output_type": "execute_result"
    },
    {
     "data": {
      "image/png": "[encoded data removed]",
      "text/plain": [
       "<Figure size 432x288 with 1 Axes>"
      ]
     },
     "metadata": {
      "needs_background": "light"
     },
     "output_type": "display_data"
    }
   ],
   "source": [
    "matplotlib.pyplot.spy(H_Heis)"
   ]
  },
  {
   "cell_type": "code",
   "execution_count": 91,
   "metadata": {},
   "outputs": [],
   "source": [
    "etI,vtI,k,ee0,ee1,ee2,eer0,eer1 = LancFirat(H_Heis,-25)"
   ]
  },
  {
   "cell_type": "code",
   "execution_count": 92,
   "metadata": {},
   "outputs": [
    {
     "data": {
      "text/plain": [
       "(0.0, 55.0)"
      ]
     },
     "execution_count": 92,
     "metadata": {},
     "output_type": "execute_result"
    },
    {
     "data": {
      "image/png": "[encoded data removed]",
      "text/plain": [
       "<Figure size 432x288 with 1 Axes>"
      ]
     },
     "metadata": {
      "needs_background": "light"
     },
     "output_type": "display_data"
    }
   ],
   "source": [
    "plot(arange(2,k-1),log(eer0[2:k-1]),arange(2,k-1),log(eer1[2:k-1]))\n",
    "xlabel(\"iterations (Krylov space size)\",size=14)\n",
    "ylabel(\"$Log Error= ln|v_0 - H (K z) |$\",size=14)\n",
    "xlim((0,k))"
   ]
  },
  {
   "cell_type": "code",
   "execution_count": 93,
   "metadata": {},
   "outputs": [
    {
     "data": {
      "text/plain": [
       "Text(0, 0.5, \"Energ'es\")"
      ]
     },
     "execution_count": 93,
     "metadata": {},
     "output_type": "execute_result"
    },
    {
     "data": {
      "image/png": "[encoded data removed]",
      "text/plain": [
       "<Figure size 432x288 with 1 Axes>"
      ]
     },
     "metadata": {
      "needs_background": "light"
     },
     "output_type": "display_data"
    }
   ],
   "source": [
    "plot(arange(1,k),ee0[0:k-1]/L,arange(1,k),ee1[0:k-1]/L,arange(1,k),(0.25-log(2))*arange(1,k)/arange(1,k))\n",
    "xlabel(\"iterations (Krylov space size)\",size=14)\n",
    "ylabel(\"Energ'es\",size=14)"
   ]
  },
  {
   "cell_type": "markdown",
   "metadata": {},
   "source": [
    "It is clear that even 14-site chain allocates an enormously large memory, therefore it begs for using the symmetries."
   ]
  },
  {
   "cell_type": "markdown",
   "metadata": {},
   "source": [
    "#### Symmetries\n",
    "\n",
    "The symmetries can be used to decouple quantum numbers of the symmetry operator since $[H,A] = 0$. Therefore, symmetries such as\n",
    "- $\\text{translation}$: decoupled momentum numbers\n",
    "- $\\text{rotation}$: angular momentum, (l,m)\n",
    "- $\\text{SU(2) rotation}$: spin angular momentum, (s,m_s)\n",
    "- $\\text{time-reversal}$: Kramer's dublets\n",
    "- $\\text{inversion}$: \n",
    "- $\\text{charge-conjugation}$: $\\pm$ energy pairs and wavefunctions\n",
    "\n",
    "can be exploited to restrict the Hilbert space size by a suitable choice of subspace basis vectors.\n",
    "\n",
    "For the Heisenberg model, we will utilize the conservation of the total spin angular momentum and its z-projection, $[H,\\sum_i S_i^2] = [H,\\sum_i S_i^z] = 0$. This can be proved using the Jacobi coordinates one of which can simply be chosen as the 'center of mass'. We therefore choose the mutual basis for $\\{ H, S, S^z \\}$ as $\\{ | n; S,M_S \\rangle\\}$.\n",
    "\n",
    "We indeed know that $H = J \\sum_{\\langle ij \\rangle} S_i \\cdot S_j$ has AF-Neel order ($S_z = 0$) for $J>0$, therefore we can examine each $S^z$ subspace seperately.\n",
    "\n",
    "Before moving into two-solutions, we state that the following convention is used for the kronecker product of the local spinors:\n",
    "\n",
    "\\begin{eqnarray}\n",
    "\\mid \\Psi \\rangle &=& \\mid \\uparrow \\rangle \\otimes \\mid \\downarrow\\rangle  \\otimes \\mid \\downarrow \\rangle \\otimes \\mid \\downarrow\\rangle ...  \\otimes \\mid \\uparrow \\rangle \\otimes \\mid \\uparrow \\rangle  \\otimes \\mid \\downarrow \\rangle,\\\\\n",
    "&=& \\mid \\uparrow \\downarrow \\downarrow \\downarrow ... \\uparrow \\uparrow \\downarrow \\rangle \\\\\n",
    "&=& \\mid 1000 ... 110 \\rangle\n",
    "\\end{eqnarray}\n",
    "\n",
    "Moreover, $n$th orthonormal vector $\\underline{a}$ (of size $L$) of the M dimensional Hilbert space (from $1$ to $M$) are represented (in base-2) $$\\mid \\Psi \\rangle = \\mid \\underline{a}^n \\rangle = \\mid a^n_1 a^n_2 ... a^n_L \\rangle$$"
   ]
  },
  {
   "cell_type": "markdown",
   "metadata": {},
   "source": [
    "## Method 1:"
   ]
  },
  {
   "cell_type": "markdown",
   "metadata": {},
   "source": [
    "- #### 1.1 generate the Hilbert space vector for S_z = 0\n",
    "\n",
    "The total number of states are $2^L$ and the number of $S_z = 0$ states are:\n",
    "$$M = \\begin{pmatrix}L \\\\ L/2\\end{pmatrix}$$"
   ]
  },
  {
   "cell_type": "code",
   "execution_count": 119,
   "metadata": {},
   "outputs": [
    {
     "data": {
      "text/plain": [
       "65536"
      ]
     },
     "execution_count": 119,
     "metadata": {},
     "output_type": "execute_result"
    },
    {
     "data": {
      "image/png": "[encoded data removed]",
      "text/plain": [
       "<Figure size 432x288 with 1 Axes>"
      ]
     },
     "metadata": {
      "needs_background": "light"
     },
     "output_type": "display_data"
    }
   ],
   "source": [
    "import math\n",
    "import scipy.special\n",
    "math.factorial(6)\n",
    "\n",
    "L =16\n",
    "x = arange(L+1)*1.\n",
    "M = zeros((L+1,))\n",
    "for iL in arange(L):\n",
    "    M[iL] = math.factorial(L)/(math.factorial(x[iL])*math.factorial(L-x[iL]))\n",
    "plot(x,M)\n",
    "2**L"
   ]
  },
  {
   "cell_type": "code",
   "execution_count": 94,
   "metadata": {},
   "outputs": [],
   "source": [
    "from itertools import permutations\n",
    "L = 10\n",
    "Nup = int(L/2)\n",
    "vec0 = np.reshape([zeros((1,Nup)),ones((1,L-Nup))],(L,))\n",
    "Hilb = permutations(vec0)\n",
    "vecs = np.array(list(Hilb))"
   ]
  },
  {
   "cell_type": "code",
   "execution_count": 95,
   "metadata": {},
   "outputs": [],
   "source": [
    "from itertools import combinations\n",
    "from itertools import permutations\n",
    "\n",
    "def combs(N, X):\n",
    "    idx = np.array(list(combinations(range(N), X)))\n",
    "    n = len(idx)\n",
    "    out = np.zeros((n,N), dtype=int)\n",
    "    out[np.arange(n)[:,None],idx] = 1\n",
    "    return out"
   ]
  },
  {
   "cell_type": "code",
   "execution_count": 96,
   "metadata": {},
   "outputs": [],
   "source": [
    "UnVecs=combs(L,Nup)"
   ]
  },
  {
   "cell_type": "markdown",
   "metadata": {},
   "source": [
    "Cheking the size of Hilber-space, it must be M = 252 for each vector of size L."
   ]
  },
  {
   "cell_type": "code",
   "execution_count": 97,
   "metadata": {},
   "outputs": [
    {
     "data": {
      "text/plain": [
       "(252, 10)"
      ]
     },
     "execution_count": 97,
     "metadata": {},
     "output_type": "execute_result"
    }
   ],
   "source": [
    "UnVecs.shape"
   ]
  },
  {
   "cell_type": "code",
   "execution_count": 121,
   "metadata": {},
   "outputs": [
    {
     "data": {
      "text/plain": [
       "array([[1, 1, 1, ..., 0, 0, 0],\n",
       "       [1, 1, 1, ..., 0, 0, 0],\n",
       "       [1, 1, 1, ..., 0, 0, 0],\n",
       "       ...,\n",
       "       [0, 0, 0, ..., 1, 1, 1],\n",
       "       [0, 0, 0, ..., 1, 1, 1],\n",
       "       [0, 0, 0, ..., 1, 1, 1]])"
      ]
     },
     "execution_count": 121,
     "metadata": {},
     "output_type": "execute_result"
    }
   ],
   "source": [
    "UnVecs[arange(252),:]"
   ]
  },
  {
   "cell_type": "markdown",
   "metadata": {},
   "source": [
    "Find the indices of the matching vectors in the original basis. For this purpose, we need to remember how the original basis is sorted:\n",
    "\n",
    "$$\\mid \\Psi \\rangle = \\begin{pmatrix} \\mid \\uparrow \\rangle\\\\ \\mid \\downarrow \\rangle \\end{pmatrix}_1 \\otimes \\begin{pmatrix} \\mid \\uparrow \\rangle\\\\ \\mid \\downarrow \\rangle \\end{pmatrix}_2 ... \\otimes \\begin{pmatrix} \\mid \\uparrow \\rangle\\\\ \\mid \\downarrow \\rangle \\end{pmatrix}_L = \\begin{pmatrix} \\mid \\uparrow \\uparrow \\uparrow ... \\uparrow \\uparrow \\rangle\\\\ \\mid \\uparrow \\uparrow \\uparrow ... \\uparrow \\downarrow  \\rangle\\\\ \\mid \\uparrow \\uparrow \\uparrow ... \\downarrow \\uparrow \\rangle\\\\\n",
    "\\mid \\uparrow \\uparrow \\uparrow ... \\downarrow \\downarrow \\rangle\\\\ . \\\\ . \\\\\\mid \\downarrow\\downarrow\\downarrow ... \\downarrow\\downarrow \\rangle \\end{pmatrix} \n",
    "\\equiv \n",
    "\\begin{pmatrix} \\mid 111 ... 11 \\rangle\\\\ \\mid 111 ... 10  \\rangle\\\\ \\mid 111 ... 01 \\rangle\\\\\n",
    "\\mid 111 ... 00\\rangle\\\\ . \\\\ . \\\\\\mid 000 ... 00 \\rangle \\end{pmatrix} =\n",
    "\\begin{pmatrix} \\mid 2^L-1 \\rangle\\\\ \\mid 2^L-2 \\rangle\\\\\\mid 2^L-3 \\rangle\\\\\n",
    "\\mid 2^L-4\\rangle\\\\ . \\\\ . \\\\\\mid 0 \\rangle \\end{pmatrix}$$\n",
    "\n",
    "Therefore, the base-10 values of our subspace vectors are indeed the row (or column) indices of the original Hamiltonian. Actually, the index is $\\mid \\text{row index} -(2^{L-1}-1) \\mid$ \n",
    "\n",
    "For this purpose, let us first obtain the base-10 values of the $S^z = 0$ subspace vectors,"
   ]
  },
  {
   "cell_type": "code",
   "execution_count": 122,
   "metadata": {},
   "outputs": [
    {
     "data": {
      "text/plain": [
       "array([23, 27, 29, 30, 39, 43, 45, 46, 51])"
      ]
     },
     "execution_count": 122,
     "metadata": {},
     "output_type": "execute_result"
    }
   ],
   "source": [
    "L = 10\n",
    "Nup = int(L/2 +1)\n",
    "J = 1.\n",
    "Jz = 1.\n",
    "H_Heis = XXZ_Ham(J,Jz,L)\n",
    "UnVecs=combs(L,Nup)\n",
    "\n",
    "HIndicesSz0 = abs(np.dot(UnVecs,2**arange(L-1,-1,-1))-2**L+1)\n",
    "HIndicesSz0[1:10]"
   ]
  },
  {
   "cell_type": "markdown",
   "metadata": {},
   "source": [
    "The next task is to create a meshgrid and fetch the concetenated matrix $H(S^z=0)$ as the only non-zero entries within either the rows or the columns of these indices."
   ]
  },
  {
   "cell_type": "code",
   "execution_count": 123,
   "metadata": {},
   "outputs": [],
   "source": [
    "[xx,yy]= meshgrid(HIndicesSz0,HIndicesSz0)\n",
    "H_HeisRed = H_Heis[xx,yy]"
   ]
  },
  {
   "cell_type": "code",
   "execution_count": 124,
   "metadata": {},
   "outputs": [
    {
     "data": {
      "text/plain": [
       "(210, 210)"
      ]
     },
     "execution_count": 124,
     "metadata": {},
     "output_type": "execute_result"
    }
   ],
   "source": [
    "H_HeisRed.shape"
   ]
  },
  {
   "cell_type": "code",
   "execution_count": 125,
   "metadata": {},
   "outputs": [],
   "source": [
    "etI,vtI,k,ee0,ee1,ee2,eer0,eer1 = LancFirat(H_HeisRed,-25)"
   ]
  },
  {
   "cell_type": "code",
   "execution_count": 126,
   "metadata": {},
   "outputs": [
    {
     "data": {
      "text/plain": [
       "<StemContainer object of 3 artists>"
      ]
     },
     "execution_count": 126,
     "metadata": {},
     "output_type": "execute_result"
    },
    {
     "data": {
      "image/png": "[encoded data removed]",
      "text/plain": [
       "<Figure size 432x288 with 1 Axes>"
      ]
     },
     "metadata": {
      "needs_background": "light"
     },
     "output_type": "display_data"
    }
   ],
   "source": [
    "stem(fix(real(vtI*100))[:,0])"
   ]
  },
  {
   "cell_type": "code",
   "execution_count": 127,
   "metadata": {},
   "outputs": [
    {
     "data": {
      "text/plain": [
       "Text(0, 0.5, '$Log Error= ln|v_0 - H (K z) |$')"
      ]
     },
     "execution_count": 127,
     "metadata": {},
     "output_type": "execute_result"
    },
    {
     "data": {
      "image/png": "[encoded data removed]",
      "text/plain": [
       "<Figure size 432x288 with 1 Axes>"
      ]
     },
     "metadata": {
      "needs_background": "light"
     },
     "output_type": "display_data"
    }
   ],
   "source": [
    "plot(arange(1,k),log(eer0[2:k+1]),arange(1,k),log(eer1[2:k+1]))\n",
    "xlabel(\"iterations (Krylov space size)\",size=14)\n",
    "ylabel(\"$Log Error= ln|v_0 - H (K z) |$\",size=14)"
   ]
  },
  {
   "cell_type": "code",
   "execution_count": 128,
   "metadata": {},
   "outputs": [
    {
     "data": {
      "text/plain": [
       "Text(0, 0.5, \"Energ'es\")"
      ]
     },
     "execution_count": 128,
     "metadata": {},
     "output_type": "execute_result"
    },
    {
     "data": {
      "image/png": "[encoded data removed]",
      "text/plain": [
       "<Figure size 432x288 with 1 Axes>"
      ]
     },
     "metadata": {
      "needs_background": "light"
     },
     "output_type": "display_data"
    }
   ],
   "source": [
    "plot(arange(1,k),ee0[0:k-1]/(L),arange(1,k),(0.25-log(2))*ones((k-1,)))\n",
    "xlabel(\"iterations (Krylov space size)\",size=14)\n",
    "ylabel(\"Energ'es\",size=14)"
   ]
  },
  {
   "cell_type": "markdown",
   "metadata": {},
   "source": [
    "We can plot the energies as a function total spin."
   ]
  },
  {
   "cell_type": "code",
   "execution_count": 129,
   "metadata": {},
   "outputs": [],
   "source": [
    "L = 10\n",
    "\n",
    "J = 1.\n",
    "Jz = 1.\n",
    "H_Heis = XXZ_Ham(J,Jz,L)\n",
    "Lloop = 5\n",
    "\n",
    "EnVecs = zeros((3,Lloop))\n",
    "for StotZ in arange(Lloop):\n",
    "    Nup = int(L/2 + StotZ)\n",
    "    UnVecs = combs(L,Nup)\n",
    "    HIndicesSz0 = abs(np.dot(UnVecs,2**arange(L-1,-1,-1))-2**L+1)\n",
    "    [xx,yy]= meshgrid(HIndicesSz0,HIndicesSz0)\n",
    "    H_HeisRed = H_Heis[xx,yy]\n",
    "    etI,vtI,k,ee0,ee1,ee2,eer0,eer1 = LancFirat(H_HeisRed,-25)\n",
    "    EnVecs[:,StotZ] = etI[0:3]"
   ]
  },
  {
   "cell_type": "code",
   "execution_count": 99,
   "metadata": {},
   "outputs": [
    {
     "data": {
      "text/plain": [
       "Text(0, 0.5, '$E_i$')"
      ]
     },
     "execution_count": 99,
     "metadata": {},
     "output_type": "execute_result"
    },
    {
     "data": {
      "image/png": "[encoded data removed]",
      "text/plain": [
       "<Figure size 432x288 with 1 Axes>"
      ]
     },
     "metadata": {
      "needs_background": "light"
     },
     "output_type": "display_data"
    }
   ],
   "source": [
    "plot(arange(Lloop),EnVecs[0,:]/L,arange(Lloop),EnVecs[1,:]/L,arange(Lloop),EnVecs[2,:]/L)\n",
    "xlabel('$S^z_{tot}$',fontSize=18)\n",
    "ylabel('$E_i$',fontSize=18)"
   ]
  },
  {
   "cell_type": "markdown",
   "metadata": {},
   "source": [
    "plot the energies as a function of chain size"
   ]
  },
  {
   "cell_type": "code",
   "execution_count": 100,
   "metadata": {},
   "outputs": [],
   "source": [
    "J = 1.\n",
    "Jz = 1.\n",
    "Lmin = 2\n",
    "Lmax = 5\n",
    "Lloop = Lmax - Lmin + 1\n",
    "EnVecs = zeros((3,Lloop))\n",
    "Lvec = arange(Lmin,Lmax+1)\n",
    "for L1 in Lvec:\n",
    "    L = int(2*L1)\n",
    "    H_Heis = XXZ_Ham(J,Jz,L)\n",
    "    Nup = int(L/2)\n",
    "    UnVecs=combs(int(L),int(Nup))\n",
    "    HIndicesSz0 = abs(np.dot(UnVecs,2**arange(L-1,-1,-1))-2**L+1)\n",
    "    [xx,yy]= meshgrid(HIndicesSz0,HIndicesSz0)\n",
    "    H_HeisRed = H_Heis[xx,yy]\n",
    "    etI,vtI,k,ee0,ee1,ee2,eer0,eer1 = LancFirat(H_HeisRed,-25)\n",
    "    EnVecs[:,L1-Lmin] = etI[0:3]"
   ]
  },
  {
   "cell_type": "code",
   "execution_count": 101,
   "metadata": {},
   "outputs": [
    {
     "data": {
      "text/plain": [
       "Text(0, 0.5, '$E_i$')"
      ]
     },
     "execution_count": 101,
     "metadata": {},
     "output_type": "execute_result"
    },
    {
     "data": {
      "image/png": "[encoded data removed]",
      "text/plain": [
       "<Figure size 432x288 with 1 Axes>"
      ]
     },
     "metadata": {
      "needs_background": "light"
     },
     "output_type": "display_data"
    }
   ],
   "source": [
    "plot(Lvec*2,ones((len(Lvec),))*(1/4.-log(2)),Lvec*2,EnVecs[0,:]/Lvec/2,Lvec*2,EnVecs[1,:]/Lvec/2,2*Lvec,EnVecs[2,:]/Lvec/2)\n",
    "xlabel('$L$',fontSize=18)\n",
    "ylabel('$E_i$',fontSize=18)"
   ]
  },
  {
   "cell_type": "markdown",
   "metadata": {},
   "source": [
    "## Method 2: \n",
    "This method constructs the Hamiltonian directly from the Hilbert space vectors\n",
    "Let us proceed step by step:"
   ]
  },
  {
   "cell_type": "markdown",
   "metadata": {},
   "source": [
    "- #### 2.2. generate the Hamiltonian matrix in the subspace"
   ]
  },
  {
   "cell_type": "code",
   "execution_count": 132,
   "metadata": {},
   "outputs": [],
   "source": [
    "L = 10\n",
    "Nup = int(L/2)\n",
    "J = 1.\n",
    "Jz = 1.\n",
    "UnVecs=combs(L,Nup)\n",
    "Hlen = len(UnVecs)"
   ]
  },
  {
   "cell_type": "code",
   "execution_count": 134,
   "metadata": {},
   "outputs": [
    {
     "data": {
      "text/plain": [
       "array([[1, 1, 1, ..., 0, 0, 0],\n",
       "       [1, 1, 1, ..., 0, 0, 0],\n",
       "       [1, 1, 1, ..., 0, 0, 0],\n",
       "       ...,\n",
       "       [0, 0, 0, ..., 1, 1, 1],\n",
       "       [0, 0, 0, ..., 1, 1, 1],\n",
       "       [0, 0, 0, ..., 1, 1, 1]])"
      ]
     },
     "execution_count": 134,
     "metadata": {},
     "output_type": "execute_result"
    }
   ],
   "source": [
    "UnVecs"
   ]
  },
  {
   "cell_type": "markdown",
   "metadata": {},
   "source": [
    "The diagonal elements are generated through the Ising part, $\\sum_i s^z_i s^z_{i+1}$,\n",
    "\n",
    "\\begin{eqnarray}\n",
    "H_{ij} &=& \\langle \\underline{a}^i \\mid \\sum_{m=1}^{L-1} s^z_m s^z_{m+1}  \\mid \\underline{a}^j \\rangle,\\\\\n",
    "&=& \\delta_{ij} \\sum_{m=1}^{L-1} (a^i_m -1/2) (a^i_{m+1}-1/2)\n",
    "\\end{eqnarray}"
   ]
  },
  {
   "cell_type": "code",
   "execution_count": 136,
   "metadata": {},
   "outputs": [],
   "source": [
    "diag0Vec = sum((UnVecs[:,0:L-1]-0.5)*(UnVecs[:,1:L]-0.5),1)"
   ]
  },
  {
   "cell_type": "markdown",
   "metadata": {},
   "source": [
    "The off-diagonal Hamiltonian matrix elements are generated by XX term, $\\frac{1}{2}\\sum_i s^+_i s^-_{i+1}+s^-_i s^+_{i+1}$. It is not that trivial to calculate.\n",
    "\n",
    "As a first step, let us first create an array of our vectors, \n",
    "\n",
    "$$\\mathcal{H}_{S_z=0} = \\begin{pmatrix} \\mid \\underline{a}^1 \\rangle \\\\ \\mid \\underline{a}^2 \\rangle\\\\ . \\\\.\\\\.\\\\ \\mid \\underline{a}^M  \\rangle \\end{pmatrix} = \\begin{pmatrix} \\mid a^1_1,a^1_2,...,a^1_L \\rangle \\\\ \\mid a^2_1,a^2_2,...,a^2_L\\rangle\\\\ . \\\\.\\\\.\\\\ \\mid a^M_1,a^M_2,...,a^M_L \\rangle \\end{pmatrix}, \\quad a^i_j \\in \\{0,1\\}$$\n",
    "\n",
    "this is an $M \\times L$ matrix,\n",
    "\n",
    "the main observation is as follows:\n",
    "- Heisenberg Hamiltonian has a nearest-neighbor character $s^+_i s^-_{i+1}+s^-_i s^+_{i+1}$, we have to examine 2 adjacent index each time. we, therefore, create a new matrix where we sum each adjacent element of the same vector,  \n",
    "$$\\mathcal{B} = \\begin{pmatrix}\\mid (a^1_1+a^1_2),(a^1_2+a^1_3),...,(a^1_{L-1}+a^1_L) \\rangle \\\\ \\mid (a^1_1+a^1_2),(a^2_2+a^2_3),...,(a^2_{L-1}+a^2_L) \\rangle\\\\ . \\\\.\\\\.\\\\ \\mid (a^M_1+a^M_2),(a^M_2+a^M_3),...,(a^M_{L-1}+a^M_L)\\rangle \\end{pmatrix} \n",
    "= \\begin{pmatrix} \\mid b^1_1,b^1_2,...,b^1_{L-1} \\rangle \\\\ \\mid b^2_1,b^2_2,...,b^2_{L-1}\\rangle\\\\ . \\\\.\\\\.\\\\ \\mid b^M_1,b^M_2,...,b^M_{L-1} \\rangle \\end{pmatrix}, \\quad b^i_j \\in \\{0,1,2\\}$$\n",
    "\n",
    "- Here, when \n",
    "\n",
    "$b^i_j = 0$ the spin pair is $\\mid 00 \\rangle = \\mid \\downarrow \\downarrow\\rangle$\n",
    "\n",
    "$b^i_j = 1$ the spin pair is $\\mid 10 \\rangle = \\mid \\uparrow\\downarrow \\rangle$ or $\\mid 01 \\rangle = \\mid \\downarrow \\uparrow \\rangle$\n",
    "\n",
    "$b^i_j = 2$ the spin pair is $\\mid 11 \\rangle = \\mid \\uparrow\\uparrow \\rangle$\n",
    "\n",
    "- XX term acts only on the adjacent sites with different spins, therefore only matrix elements with $b^i_j = 1$ terms match. \n",
    "\n",
    "For upcoming purposes, we calculated $\\mathcal{B}$ (bbOverlap) along with overlap coeffs of $\\mathcal{H}_{S_z=0}$ (aOverlap):"
   ]
  },
  {
   "cell_type": "code",
   "execution_count": 138,
   "metadata": {},
   "outputs": [],
   "source": [
    "interm = mod(UnVecs[:,0:L-1]+UnVecs[:,1:L],2)\n",
    "xL,yL = interm.shape\n",
    "bbOverlap = zeros((xL,yL,Hlen))\n",
    "for i1 in arange(Hlen):\n",
    "    bbOverlap[:,:,i1] = interm[i1,:]*interm"
   ]
  },
  {
   "cell_type": "markdown",
   "metadata": {},
   "source": [
    "For example, let us calculate the matrix elements for $s^+_1 s^-_{2}+s^-_1 s^+_{2}$,\n",
    "- when acts on a vector $(s^+_1 s^-_{2}+s^-_1 s^+_{2}) \\begin{pmatrix}\\mid 10 \\rangle \\\\ \\mid 01 \\rangle \\end{pmatrix} = \\begin{pmatrix}\\mid 01 \\rangle \\\\ \\mid 10 \\rangle \\end{pmatrix}$. The possible outcomes are,\n",
    "\n",
    "$$(s^+_1 s^-_{2}+s^-_1 s^+_{2}) \\begin{pmatrix}\\mid 11, a^i_3, a^i_4 ,...,a^i_L \\rangle\\\\\\mid 10, a^i_3, a^i_4 ,...,a^i_L \\rangle \\\\ \\mid 01 , a^i_3, a^i_4,...,a^i_L \\rangle \\\\\\mid 00, a^i_3, a^i_4 ,...,a^i_L \\rangle \\end{pmatrix} = \\begin{pmatrix}0\\\\\\mid 01, a^i_3, a^i_4 ,...,a^i_L \\rangle \\\\ \\mid 10 , a^i_3, a^i_4,...,a^i_L \\rangle \\\\0\\end{pmatrix}$$\n",
    "\n",
    "- Therefore, we could have non-zero elements for the cross terms of $\\mid 01 \\rangle$ and $\\mid 10 \\rangle$.\n",
    "It means, for $s^+_n s^-_{n+1}+s^-_n s^+_{n+1}$, the vectors in $\\mid \\underline{b}^{i,j} \\rangle$ gives non-zero elements when $b^i_n = b^j_n = 1$. Yet, the spin indices should also be opposite.\n",
    "- Clearly, the remanining coefficients must also match, $\\delta_{a^i_n,a^j_n}$\n",
    "\n",
    "$$ H_{i\\ne j} = \\langle 10 , a^i_3, a^i_4,...,a^i_L  \\mid (s^+_1 s^-_{2}+s^-_1 s^+_{2}) \\mid 01 , a^j_3, a^j_4,...,a^j_L \\rangle = \\frac{1}{2}\\prod_{n=3}^L \\delta_{a^i_n,a^j_n}$$\n",
    "\n",
    "- Generalizing the statement,\n",
    "\\begin{eqnarray}\n",
    "H_{i\\ne j} &=& \\langle a^i_1, a^i_2 , a^i_3, a^i_4,...,a^i_L  \\mid \\frac{1}{2} \\sum_{m=1}^{L-1}(s^+_m s^-_{m+1}+s^-_m s^+_{m+1}) \\mid a^j_1, a^j_2 , a^j_3, a^j_4,...,a^j_L \\rangle ,\\\\\n",
    "&=&\\frac{1}{2} \\sum_{m=1}^{L-1} \\delta_{b^i_m,1} \\delta_{b^j_m,1} \\delta_{a^i_m+ a^j_{m},1} \\prod_{n=1,n \\ne {m,m+1}}^L \\delta_{a^i_n,a^j_n}\n",
    "\\end{eqnarray}\n"
   ]
  },
  {
   "cell_type": "code",
   "execution_count": 139,
   "metadata": {},
   "outputs": [],
   "source": [
    "H_direct = zeros((xL,xL),dtype='complex')\n",
    "for i1 in range(xL):\n",
    "    for i2 in range(i1+1,xL):\n",
    "        hij = 0.\n",
    "        aaa = (UnVecs[i1,:]==UnVecs[i2,:]).astype(int)\n",
    "        for i3 in range(L-1):\n",
    "            bbb = prod((np.delete(UnVecs[i1,:], [i3, i3+1])==np.delete(UnVecs[i2,:], [i3, i3+1])).astype(int))\n",
    "            hij = hij+0.5*bbOverlap[i2,i3,i1]*aaa[i3]*bbb\n",
    "        H_direct[i1,i2]   = hij "
   ]
  },
  {
   "cell_type": "markdown",
   "metadata": {},
   "source": [
    "##### It might seem complicated by here is the take-away message: Only the states with (in base 10) difference by $\\delta = 2^{n+1} - 2^{n} = 2^n$ are connected!"
   ]
  },
  {
   "cell_type": "markdown",
   "metadata": {},
   "source": [
    "therefore, let us find the state differing by one spin in the nearest neighbors,"
   ]
  },
  {
   "cell_type": "code",
   "execution_count": 140,
   "metadata": {},
   "outputs": [],
   "source": [
    "HIndicesSz0 = abs(np.dot(UnVecs,2**arange(L-1,-1,-1))-2**L+1)\n",
    "HIndArray = dot(ones((len(HIndicesSz0),1),dtype='double'),reshape(HIndicesSz0,[1,len(HIndicesSz0)]))"
   ]
  },
  {
   "cell_type": "code",
   "execution_count": 141,
   "metadata": {},
   "outputs": [],
   "source": [
    "hNeig = zeros((xL,xL),dtype='double')\n",
    "for i1 in arange(L):\n",
    "    hNeig = hNeig + (abs(HIndArray.T-HIndArray)==2**i1).astype(int)"
   ]
  },
  {
   "cell_type": "markdown",
   "metadata": {},
   "source": [
    "Clearly, it is an highly sparse matrix! The remaining task is to generate the overall Hamiltonian and solve by Lanczos algorithm."
   ]
  },
  {
   "cell_type": "code",
   "execution_count": 142,
   "metadata": {},
   "outputs": [
    {
     "data": {
      "text/plain": [
       "(252, 252)"
      ]
     },
     "execution_count": 142,
     "metadata": {},
     "output_type": "execute_result"
    }
   ],
   "source": [
    "H_direct = Jz*diag(diag0Vec,0) + 0.5*hNeig\n",
    "H_direct.shape"
   ]
  },
  {
   "cell_type": "code",
   "execution_count": 143,
   "metadata": {},
   "outputs": [
    {
     "data": {
      "text/plain": [
       "<matplotlib.image.AxesImage at 0x26882bb9e20>"
      ]
     },
     "execution_count": 143,
     "metadata": {},
     "output_type": "execute_result"
    },
    {
     "data": {
      "image/png": "[encoded data removed]",
      "text/plain": [
       "<Figure size 432x288 with 1 Axes>"
      ]
     },
     "metadata": {
      "needs_background": "light"
     },
     "output_type": "display_data"
    }
   ],
   "source": [
    "matplotlib.pyplot.spy(H_direct)"
   ]
  },
  {
   "cell_type": "code",
   "execution_count": 71,
   "metadata": {},
   "outputs": [],
   "source": [
    "etI,vtI,k,ee0,ee1,ee2,eer0,eer1 = LancFirat(H_direct,-25)"
   ]
  },
  {
   "cell_type": "code",
   "execution_count": 144,
   "metadata": {},
   "outputs": [
    {
     "ename": "ValueError",
     "evalue": "x and y must have same first dimension, but have shapes (10,) and (8,)",
     "output_type": "error",
     "traceback": [
      "\u001b[1;31m---------------------------------------------------------------------------\u001b[0m",
      "\u001b[1;31mValueError\u001b[0m                                Traceback (most recent call last)",
      "\u001b[1;32m<ipython-input-144-eea1d76368e1>\u001b[0m in \u001b[0;36m<module>\u001b[1;34m\u001b[0m\n\u001b[1;32m----> 1\u001b[1;33m \u001b[0mplot\u001b[0m\u001b[1;33m(\u001b[0m\u001b[0marange\u001b[0m\u001b[1;33m(\u001b[0m\u001b[1;36m1\u001b[0m\u001b[1;33m,\u001b[0m\u001b[0mk\u001b[0m\u001b[1;33m)\u001b[0m\u001b[1;33m,\u001b[0m\u001b[0mlog\u001b[0m\u001b[1;33m(\u001b[0m\u001b[0meer0\u001b[0m\u001b[1;33m[\u001b[0m\u001b[1;36m2\u001b[0m\u001b[1;33m:\u001b[0m\u001b[0mk\u001b[0m\u001b[1;33m+\u001b[0m\u001b[1;36m1\u001b[0m\u001b[1;33m]\u001b[0m\u001b[1;33m)\u001b[0m\u001b[1;33m,\u001b[0m\u001b[0marange\u001b[0m\u001b[1;33m(\u001b[0m\u001b[1;36m1\u001b[0m\u001b[1;33m,\u001b[0m\u001b[0mk\u001b[0m\u001b[1;33m)\u001b[0m\u001b[1;33m,\u001b[0m\u001b[0mlog\u001b[0m\u001b[1;33m(\u001b[0m\u001b[0meer1\u001b[0m\u001b[1;33m[\u001b[0m\u001b[1;36m2\u001b[0m\u001b[1;33m:\u001b[0m\u001b[0mk\u001b[0m\u001b[1;33m+\u001b[0m\u001b[1;36m1\u001b[0m\u001b[1;33m]\u001b[0m\u001b[1;33m)\u001b[0m\u001b[1;33m)\u001b[0m\u001b[1;33m\u001b[0m\u001b[1;33m\u001b[0m\u001b[0m\n\u001b[0m\u001b[0;32m      2\u001b[0m \u001b[0mxlabel\u001b[0m\u001b[1;33m(\u001b[0m\u001b[1;34m\"iterations (Krylov space size)\"\u001b[0m\u001b[1;33m,\u001b[0m\u001b[0msize\u001b[0m\u001b[1;33m=\u001b[0m\u001b[1;36m14\u001b[0m\u001b[1;33m)\u001b[0m\u001b[1;33m\u001b[0m\u001b[1;33m\u001b[0m\u001b[0m\n\u001b[0;32m      3\u001b[0m \u001b[0mylabel\u001b[0m\u001b[1;33m(\u001b[0m\u001b[1;34m\"$Log Error= ln|v_0 - H (K z) |$\"\u001b[0m\u001b[1;33m,\u001b[0m\u001b[0msize\u001b[0m\u001b[1;33m=\u001b[0m\u001b[1;36m14\u001b[0m\u001b[1;33m)\u001b[0m\u001b[1;33m\u001b[0m\u001b[1;33m\u001b[0m\u001b[0m\n",
      "\u001b[1;32m~\\anaconda3\\lib\\site-packages\\matplotlib\\pyplot.py\u001b[0m in \u001b[0;36mplot\u001b[1;34m(scalex, scaley, data, *args, **kwargs)\u001b[0m\n\u001b[0;32m   2838\u001b[0m \u001b[1;33m@\u001b[0m\u001b[0m_copy_docstring_and_deprecators\u001b[0m\u001b[1;33m(\u001b[0m\u001b[0mAxes\u001b[0m\u001b[1;33m.\u001b[0m\u001b[0mplot\u001b[0m\u001b[1;33m)\u001b[0m\u001b[1;33m\u001b[0m\u001b[1;33m\u001b[0m\u001b[0m\n\u001b[0;32m   2839\u001b[0m \u001b[1;32mdef\u001b[0m \u001b[0mplot\u001b[0m\u001b[1;33m(\u001b[0m\u001b[1;33m*\u001b[0m\u001b[0margs\u001b[0m\u001b[1;33m,\u001b[0m \u001b[0mscalex\u001b[0m\u001b[1;33m=\u001b[0m\u001b[1;32mTrue\u001b[0m\u001b[1;33m,\u001b[0m \u001b[0mscaley\u001b[0m\u001b[1;33m=\u001b[0m\u001b[1;32mTrue\u001b[0m\u001b[1;33m,\u001b[0m \u001b[0mdata\u001b[0m\u001b[1;33m=\u001b[0m\u001b[1;32mNone\u001b[0m\u001b[1;33m,\u001b[0m \u001b[1;33m**\u001b[0m\u001b[0mkwargs\u001b[0m\u001b[1;33m)\u001b[0m\u001b[1;33m:\u001b[0m\u001b[1;33m\u001b[0m\u001b[1;33m\u001b[0m\u001b[0m\n\u001b[1;32m-> 2840\u001b[1;33m     return gca().plot(\n\u001b[0m\u001b[0;32m   2841\u001b[0m         \u001b[1;33m*\u001b[0m\u001b[0margs\u001b[0m\u001b[1;33m,\u001b[0m \u001b[0mscalex\u001b[0m\u001b[1;33m=\u001b[0m\u001b[0mscalex\u001b[0m\u001b[1;33m,\u001b[0m \u001b[0mscaley\u001b[0m\u001b[1;33m=\u001b[0m\u001b[0mscaley\u001b[0m\u001b[1;33m,\u001b[0m\u001b[1;33m\u001b[0m\u001b[1;33m\u001b[0m\u001b[0m\n\u001b[0;32m   2842\u001b[0m         **({\"data\": data} if data is not None else {}), **kwargs)\n",
      "\u001b[1;32m~\\anaconda3\\lib\\site-packages\\matplotlib\\axes\\_axes.py\u001b[0m in \u001b[0;36mplot\u001b[1;34m(self, scalex, scaley, data, *args, **kwargs)\u001b[0m\n\u001b[0;32m   1741\u001b[0m         \"\"\"\n\u001b[0;32m   1742\u001b[0m         \u001b[0mkwargs\u001b[0m \u001b[1;33m=\u001b[0m \u001b[0mcbook\u001b[0m\u001b[1;33m.\u001b[0m\u001b[0mnormalize_kwargs\u001b[0m\u001b[1;33m(\u001b[0m\u001b[0mkwargs\u001b[0m\u001b[1;33m,\u001b[0m \u001b[0mmlines\u001b[0m\u001b[1;33m.\u001b[0m\u001b[0mLine2D\u001b[0m\u001b[1;33m)\u001b[0m\u001b[1;33m\u001b[0m\u001b[1;33m\u001b[0m\u001b[0m\n\u001b[1;32m-> 1743\u001b[1;33m         \u001b[0mlines\u001b[0m \u001b[1;33m=\u001b[0m \u001b[1;33m[\u001b[0m\u001b[1;33m*\u001b[0m\u001b[0mself\u001b[0m\u001b[1;33m.\u001b[0m\u001b[0m_get_lines\u001b[0m\u001b[1;33m(\u001b[0m\u001b[1;33m*\u001b[0m\u001b[0margs\u001b[0m\u001b[1;33m,\u001b[0m \u001b[0mdata\u001b[0m\u001b[1;33m=\u001b[0m\u001b[0mdata\u001b[0m\u001b[1;33m,\u001b[0m \u001b[1;33m**\u001b[0m\u001b[0mkwargs\u001b[0m\u001b[1;33m)\u001b[0m\u001b[1;33m]\u001b[0m\u001b[1;33m\u001b[0m\u001b[1;33m\u001b[0m\u001b[0m\n\u001b[0m\u001b[0;32m   1744\u001b[0m         \u001b[1;32mfor\u001b[0m \u001b[0mline\u001b[0m \u001b[1;32min\u001b[0m \u001b[0mlines\u001b[0m\u001b[1;33m:\u001b[0m\u001b[1;33m\u001b[0m\u001b[1;33m\u001b[0m\u001b[0m\n\u001b[0;32m   1745\u001b[0m             \u001b[0mself\u001b[0m\u001b[1;33m.\u001b[0m\u001b[0madd_line\u001b[0m\u001b[1;33m(\u001b[0m\u001b[0mline\u001b[0m\u001b[1;33m)\u001b[0m\u001b[1;33m\u001b[0m\u001b[1;33m\u001b[0m\u001b[0m\n",
      "\u001b[1;32m~\\anaconda3\\lib\\site-packages\\matplotlib\\axes\\_base.py\u001b[0m in \u001b[0;36m__call__\u001b[1;34m(self, data, *args, **kwargs)\u001b[0m\n\u001b[0;32m    271\u001b[0m                 \u001b[0mthis\u001b[0m \u001b[1;33m+=\u001b[0m \u001b[0margs\u001b[0m\u001b[1;33m[\u001b[0m\u001b[1;36m0\u001b[0m\u001b[1;33m]\u001b[0m\u001b[1;33m,\u001b[0m\u001b[1;33m\u001b[0m\u001b[1;33m\u001b[0m\u001b[0m\n\u001b[0;32m    272\u001b[0m                 \u001b[0margs\u001b[0m \u001b[1;33m=\u001b[0m \u001b[0margs\u001b[0m\u001b[1;33m[\u001b[0m\u001b[1;36m1\u001b[0m\u001b[1;33m:\u001b[0m\u001b[1;33m]\u001b[0m\u001b[1;33m\u001b[0m\u001b[1;33m\u001b[0m\u001b[0m\n\u001b[1;32m--> 273\u001b[1;33m             \u001b[1;32myield\u001b[0m \u001b[1;32mfrom\u001b[0m \u001b[0mself\u001b[0m\u001b[1;33m.\u001b[0m\u001b[0m_plot_args\u001b[0m\u001b[1;33m(\u001b[0m\u001b[0mthis\u001b[0m\u001b[1;33m,\u001b[0m \u001b[0mkwargs\u001b[0m\u001b[1;33m)\u001b[0m\u001b[1;33m\u001b[0m\u001b[1;33m\u001b[0m\u001b[0m\n\u001b[0m\u001b[0;32m    274\u001b[0m \u001b[1;33m\u001b[0m\u001b[0m\n\u001b[0;32m    275\u001b[0m     \u001b[1;32mdef\u001b[0m \u001b[0mget_next_color\u001b[0m\u001b[1;33m(\u001b[0m\u001b[0mself\u001b[0m\u001b[1;33m)\u001b[0m\u001b[1;33m:\u001b[0m\u001b[1;33m\u001b[0m\u001b[1;33m\u001b[0m\u001b[0m\n",
      "\u001b[1;32m~\\anaconda3\\lib\\site-packages\\matplotlib\\axes\\_base.py\u001b[0m in \u001b[0;36m_plot_args\u001b[1;34m(self, tup, kwargs)\u001b[0m\n\u001b[0;32m    397\u001b[0m \u001b[1;33m\u001b[0m\u001b[0m\n\u001b[0;32m    398\u001b[0m         \u001b[1;32mif\u001b[0m \u001b[0mx\u001b[0m\u001b[1;33m.\u001b[0m\u001b[0mshape\u001b[0m\u001b[1;33m[\u001b[0m\u001b[1;36m0\u001b[0m\u001b[1;33m]\u001b[0m \u001b[1;33m!=\u001b[0m \u001b[0my\u001b[0m\u001b[1;33m.\u001b[0m\u001b[0mshape\u001b[0m\u001b[1;33m[\u001b[0m\u001b[1;36m0\u001b[0m\u001b[1;33m]\u001b[0m\u001b[1;33m:\u001b[0m\u001b[1;33m\u001b[0m\u001b[1;33m\u001b[0m\u001b[0m\n\u001b[1;32m--> 399\u001b[1;33m             raise ValueError(f\"x and y must have same first dimension, but \"\n\u001b[0m\u001b[0;32m    400\u001b[0m                              f\"have shapes {x.shape} and {y.shape}\")\n\u001b[0;32m    401\u001b[0m         \u001b[1;32mif\u001b[0m \u001b[0mx\u001b[0m\u001b[1;33m.\u001b[0m\u001b[0mndim\u001b[0m \u001b[1;33m>\u001b[0m \u001b[1;36m2\u001b[0m \u001b[1;32mor\u001b[0m \u001b[0my\u001b[0m\u001b[1;33m.\u001b[0m\u001b[0mndim\u001b[0m \u001b[1;33m>\u001b[0m \u001b[1;36m2\u001b[0m\u001b[1;33m:\u001b[0m\u001b[1;33m\u001b[0m\u001b[1;33m\u001b[0m\u001b[0m\n",
      "\u001b[1;31mValueError\u001b[0m: x and y must have same first dimension, but have shapes (10,) and (8,)"
     ]
    },
    {
     "data": {
      "image/png": "[encoded data removed]",
      "text/plain": [
       "<Figure size 432x288 with 1 Axes>"
      ]
     },
     "metadata": {
      "needs_background": "light"
     },
     "output_type": "display_data"
    }
   ],
   "source": [
    "plot(arange(1,k),log(eer0[2:k+1]),arange(1,k),log(eer1[2:k+1]))\n",
    "xlabel(\"iterations (Krylov space size)\",size=14)\n",
    "ylabel(\"$Log Error= ln|v_0 - H (K z) |$\",size=14)"
   ]
  },
  {
   "cell_type": "code",
   "execution_count": 73,
   "metadata": {},
   "outputs": [
    {
     "data": {
      "text/plain": [
       "Text(0, 0.5, \"Energ'es\")"
      ]
     },
     "execution_count": 73,
     "metadata": {},
     "output_type": "execute_result"
    },
    {
     "data": {
      "image/png": "[encoded data removed]",
      "text/plain": [
       "<Figure size 432x288 with 1 Axes>"
      ]
     },
     "metadata": {
      "needs_background": "light"
     },
     "output_type": "display_data"
    }
   ],
   "source": [
    "plot(arange(1,k),ee0[0:k-1]/(1.*L),arange(1,k),(0.25-log(2))*ones((k-1,)))\n",
    "xlabel(\"iterations (Krylov space size)\",size=14)\n",
    "ylabel(\"Energ'es\",size=14)"
   ]
  },
  {
   "cell_type": "markdown",
   "metadata": {},
   "source": [
    "Therefore, we are ready to generate our function:"
   ]
  },
  {
   "cell_type": "code",
   "execution_count": 145,
   "metadata": {},
   "outputs": [],
   "source": [
    "def XXZfiratDirect(Jz,L,Nup):\n",
    "    J = 1.\n",
    "    UnVecs=combs(L,Nup)\n",
    "    Hlen = len(UnVecs)\n",
    "    diag0Vec = sum((UnVecs[:,0:L-1]-0.5)*(UnVecs[:,1:L]-0.5),1)\n",
    "    interm = mod(UnVecs[:,0:L-1]+UnVecs[:,1:L],2)\n",
    "    xL,yL = interm.shape\n",
    "    bbOverlap = zeros((xL,yL,Hlen))\n",
    "    for i1 in arange(Hlen):\n",
    "        bbOverlap[:,:,i1] = interm[i1,:]*interm\n",
    "    HIndicesSz0 = abs(np.dot(UnVecs,2**arange(L-1,-1,-1))-2**L+1)\n",
    "    HIndArray = dot(ones((len(HIndicesSz0),1),dtype='double'),reshape(HIndicesSz0,[1,len(HIndicesSz0)]))\n",
    "    hNeig = zeros((xL,xL),dtype='double')\n",
    "    for i1 in arange(L):\n",
    "        hNeig = hNeig + (abs(HIndArray.T-HIndArray)==2**i1).astype(int)\n",
    "    H_direct = Jz*diag(diag0Vec,0) + 0.5*hNeig\n",
    "    return H_direct"
   ]
  },
  {
   "cell_type": "code",
   "execution_count": 146,
   "metadata": {},
   "outputs": [],
   "source": [
    "L = 10\n",
    "Jz = 1.\n",
    "H_Heis = XXZfiratDirect(Jz,L,int(L/2))\n",
    "etI,vtI,k,ee0,ee1,ee2,eer0,eer1 = LancFirat(H_Heis,-20)"
   ]
  },
  {
   "cell_type": "code",
   "execution_count": 147,
   "metadata": {},
   "outputs": [
    {
     "data": {
      "text/plain": [
       "Text(0, 0.5, '$Log Error= ln|v_0 - H (K z) |$')"
      ]
     },
     "execution_count": 147,
     "metadata": {},
     "output_type": "execute_result"
    },
    {
     "data": {
      "image/png": "[encoded data removed]",
      "text/plain": [
       "<Figure size 432x288 with 1 Axes>"
      ]
     },
     "metadata": {
      "needs_background": "light"
     },
     "output_type": "display_data"
    }
   ],
   "source": [
    "plot(arange(1,k),log(eer0[2:k+1]),arange(1,k),log(eer1[2:k+1]))\n",
    "xlabel(\"iterations (Krylov space size)\",size=14)\n",
    "ylabel(\"$Log Error= ln|v_0 - H (K z) |$\",size=14)"
   ]
  },
  {
   "cell_type": "code",
   "execution_count": 148,
   "metadata": {},
   "outputs": [
    {
     "data": {
      "text/plain": [
       "Text(0, 0.5, \"Energ'es\")"
      ]
     },
     "execution_count": 148,
     "metadata": {},
     "output_type": "execute_result"
    },
    {
     "data": {
      "image/png": "[encoded data removed]",
      "text/plain": [
       "<Figure size 432x288 with 1 Axes>"
      ]
     },
     "metadata": {
      "needs_background": "light"
     },
     "output_type": "display_data"
    }
   ],
   "source": [
    "plot(arange(1,k),ee0[0:k-1]/(1.*L),arange(1,k),(0.25-log(2))*ones((k-1,)))\n",
    "xlabel(\"iterations (Krylov space size)\",size=14)\n",
    "ylabel(\"Energ'es\",size=14)"
   ]
  },
  {
   "cell_type": "markdown",
   "metadata": {},
   "source": [
    "As a function of $L$, we can calculate the energies,"
   ]
  },
  {
   "cell_type": "code",
   "execution_count": 149,
   "metadata": {},
   "outputs": [
    {
     "name": "stdout",
     "output_type": "stream",
     "text": [
      "(6, 6)\n",
      "(20, 20)\n",
      "(70, 70)\n",
      "(252, 252)\n",
      "(924, 924)\n"
     ]
    }
   ],
   "source": [
    "Lmin = 2\n",
    "Lmax = 6\n",
    "Lloop = Lmax - Lmin + 1\n",
    "EnVecs = zeros((3,Lloop))\n",
    "Lvec = arange(Lmin,Lmax+1)\n",
    "Jz = 1.\n",
    "for L1 in Lvec:\n",
    "    L = int(2*L1)\n",
    "    H_HeisRed = XXZfiratDirect(Jz,L,int(L/2))\n",
    "    print(H_HeisRed.shape)\n",
    "    etI,vtI,k,ee0,ee1,ee2,eer0,eer1 = LancFirat(H_HeisRed,-25)\n",
    "    EnVecs[:,L1-Lmin] = etI[0:3]"
   ]
  },
  {
   "cell_type": "code",
   "execution_count": 150,
   "metadata": {},
   "outputs": [
    {
     "data": {
      "text/plain": [
       "Text(0, 0.5, '$E_i$')"
      ]
     },
     "execution_count": 150,
     "metadata": {},
     "output_type": "execute_result"
    },
    {
     "data": {
      "image/png": "[encoded data removed]",
      "text/plain": [
       "<Figure size 432x288 with 1 Axes>"
      ]
     },
     "metadata": {
      "needs_background": "light"
     },
     "output_type": "display_data"
    }
   ],
   "source": [
    "plot(Lvec*2,EnVecs[0,:]/(Lvec*2.),Lvec*2,EnVecs[1,:]/(Lvec*2.),Lvec*2,EnVecs[2,:]/(Lvec*2.))\n",
    "xlabel('$L$',fontSize=18)\n",
    "ylabel('$E_i$',fontSize=18)"
   ]
  },
  {
   "cell_type": "code",
   "execution_count": null,
   "metadata": {},
   "outputs": [],
   "source": []
  },
  {
   "cell_type": "code",
   "execution_count": null,
   "metadata": {},
   "outputs": [],
   "source": []
  }
 ],
 "metadata": {
  "kernelspec": {
   "display_name": "Python 3",
   "language": "python",
   "name": "python3"
  },
  "language_info": {
   "codemirror_mode": {
    "name": "ipython",
    "version": 3
   },
   "file_extension": ".py",
   "mimetype": "text/x-python",
   "name": "python",
   "nbconvert_exporter": "python",
   "pygments_lexer": "ipython3",
   "version": "3.8.5"
  }
 },
 "nbformat": 4,
 "nbformat_minor": 5
}
