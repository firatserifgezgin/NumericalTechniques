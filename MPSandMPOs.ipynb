{
 "cells": [
  {
   "cell_type": "markdown",
   "metadata": {},
   "source": [
    "## Matrix Product States"
   ]
  },
  {
   "cell_type": "code",
   "execution_count": 1,
   "metadata": {
    "tags": []
   },
   "outputs": [
    {
     "name": "stdout",
     "output_type": "stream",
     "text": [
      "Using matplotlib backend: Qt5Agg\n"
     ]
    }
   ],
   "source": [
    "# in case needed, sometimes the figures can be drawn with a seperate window\n",
    "# the following two command enforces it to draw 'inline'\n",
    "%matplotlib\n",
    "%matplotlib inline\n",
    "# ignore the warnings: can be useful for too many imag. part warnings \n",
    "import warnings\n",
    "warnings.filterwarnings('ignore')\n",
    "from numpy import *\n",
    "from scipy import *\n",
    "import numpy as np\n",
    "import scipy as sp\n",
    "from mpl_toolkits.mplot3d import Axes3D\n",
    "from matplotlib.pylab import * # for plotting commands\n",
    "import matplotlib.pyplot as plt\n",
    "from numpy import (real,imag,matrix,linspace,array,complex)\n",
    "from IPython.display import Image\n",
    "from mpl_toolkits.mplot3d import axes3d\n",
    "from ncon import ncon"
   ]
  },
  {
   "cell_type": "markdown",
   "metadata": {},
   "source": [
    "Before going into the full details of the DMRG algorithms, it is useful to have a full understanding of the matrix product states and operators, MPSs and MPOs respectively."
   ]
  },
  {
   "cell_type": "markdown",
   "metadata": {},
   "source": [
    "#### MPSs"
   ]
  },
  {
   "cell_type": "markdown",
   "metadata": {},
   "source": [
    "The matrix product states are approximations to an N-body Hilbert state vectors of size $2^N$. It consists of the multiplication of N matrices, $A^{\\sigma_n}$:\n",
    "\n",
    "\\begin{eqnarray}\n",
    "\\mid \\psi \\rangle &=& \\sum_{\\{ \\sigma \\}} A^{\\sigma_1} A^{\\sigma_2} A^{\\sigma_3} ... A^{\\sigma_{N-1}}A^{\\sigma_{N}} \\mid \\sigma_1 \\sigma_2 \\sigma_3 ... \\sigma_{N-1} \\sigma_N \\rangle\\\\\n",
    "&=&  \\sum_{\\{ \\sigma \\}\\{i\\}} A^{\\sigma_1}_{ i_1} A^{\\sigma_2}_{i_1 i_2} A^{\\sigma_3}_{i_2 i_3} ... A^{\\sigma_{N-1}}_{i_{N-1} i_{N}}A^{\\sigma_{N}}_{i_{N}} \\mid \\sigma_1 \\sigma_2 \\sigma_3 ... \\sigma_{N-1} \\sigma_N \\rangle.\n",
    "\\end{eqnarray}"
   ]
  },
  {
   "cell_type": "markdown",
   "metadata": {},
   "source": [
    "For this purpose let us generate an N-body tuple and SVD or polar decomposite it to form into the center of orthogonality w.r.t. right most element."
   ]
  },
  {
   "cell_type": "markdown",
   "metadata": {},
   "source": [
    "Let us say we have a 6-site lattice, we then generate 6-random tensors: "
   ]
  },
  {
   "cell_type": "code",
   "execution_count": 2,
   "metadata": {},
   "outputs": [],
   "source": [
    "N = 42\n",
    "chi = 8"
   ]
  },
  {
   "cell_type": "markdown",
   "metadata": {},
   "source": [
    "\n",
    "\n"
   ]
  },
  {
   "cell_type": "code",
   "execution_count": 3,
   "metadata": {},
   "outputs": [],
   "source": [
    "A = [0 for x in range(N)]"
   ]
  },
  {
   "cell_type": "code",
   "execution_count": 4,
   "metadata": {},
   "outputs": [],
   "source": [
    "chid = 2\n",
    "A[0] = np.random.rand(1,chid,min(chi,chid))\n",
    "for i0 in range(1,N):\n",
    "    intnum=A[i0-1].shape[2]\n",
    "    A[i0]= np.random.rand(intnum,chid,min(min(chi,chid*intnum),chid**(N-i0-1)))"
   ]
  },
  {
   "cell_type": "markdown",
   "metadata": {},
   "source": [
    "Make it into right orthogonal form.\n",
    "\n",
    "The recipe: \n",
    "- Take the SVD of each site one-by-one $USV^\\dagger = M_i$, while keeping the unitary part as the new matrix on that site $M'_i = U$, we multiply $SV^\\dagger$ part into $M_{i+1}$. Then, new matrix is $M'_{i+1} = SV^\\dagger M_{i+1}$"
   ]
  },
  {
   "cell_type": "code",
   "execution_count": 5,
   "metadata": {},
   "outputs": [
    {
     "name": "stdout",
     "output_type": "stream",
     "text": [
      "(1,) (1, 1)\n"
     ]
    }
   ],
   "source": [
    "for i0 in range(N-1):\n",
    "    Aint = A[i0]; indcs = A[i0].shape\n",
    "    kayL = Aint.shape[0];kayR = Aint.shape[2]\n",
    "    indcs = Aint.shape\n",
    "    ind1 = prod(indcs)/indcs[-1]\n",
    "    Aint1 = A[i0+1]\n",
    "    u, s, vh = np.linalg.svd(reshape(Aint,(int(ind1),int(indcs[-1]))), full_matrices = False)\n",
    "\n",
    "    A[i0] = u.reshape(kayL,chid,kayR)\n",
    "    cc = diag(s)@vh\n",
    "    A[i0+1] = tensordot(cc,Aint1, axes=([1],[0]))/norm(s)\n",
    "    \n",
    "# apply  the same procedure to the last site\n",
    "Aint = A[N-1]; indcs = A[N-1].shape\n",
    "kayL = Aint.shape[0];kayR = Aint.shape[2]\n",
    "Aint = A[N-1]\n",
    "indcs = Aint.shape\n",
    "ind1 = prod(indcs)/indcs[-1]\n",
    "u, s, vh = np.linalg.svd(reshape(Aint,(int(ind1),int(indcs[-1]))), full_matrices = False)\n",
    "A[N-1] = u.reshape(kayL,chid,kayR)\n",
    "sWeight = [0 for x in range(N+1)]\n",
    "print(s.shape,vh.shape)\n",
    "sWeight[N] =  diag(s)@vh/norm(s)"
   ]
  },
  {
   "cell_type": "markdown",
   "metadata": {},
   "source": [
    "What about the shapes of each matrices? Let me print the shapes"
   ]
  },
  {
   "cell_type": "code",
   "execution_count": 6,
   "metadata": {},
   "outputs": [
    {
     "name": "stdout",
     "output_type": "stream",
     "text": [
      "(1, 2, 2)\n",
      "(2, 2, 4)\n",
      "(4, 2, 8)\n",
      "(8, 2, 8)\n",
      "(8, 2, 8)\n",
      "(8, 2, 8)\n",
      "(8, 2, 8)\n",
      "(8, 2, 8)\n",
      "(8, 2, 8)\n",
      "(8, 2, 8)\n",
      "(8, 2, 8)\n",
      "(8, 2, 8)\n",
      "(8, 2, 8)\n",
      "(8, 2, 8)\n",
      "(8, 2, 8)\n",
      "(8, 2, 8)\n",
      "(8, 2, 8)\n",
      "(8, 2, 8)\n",
      "(8, 2, 8)\n",
      "(8, 2, 8)\n",
      "(8, 2, 8)\n",
      "(8, 2, 8)\n",
      "(8, 2, 8)\n",
      "(8, 2, 8)\n",
      "(8, 2, 8)\n",
      "(8, 2, 8)\n",
      "(8, 2, 8)\n",
      "(8, 2, 8)\n",
      "(8, 2, 8)\n",
      "(8, 2, 8)\n",
      "(8, 2, 8)\n",
      "(8, 2, 8)\n",
      "(8, 2, 8)\n",
      "(8, 2, 8)\n",
      "(8, 2, 8)\n",
      "(8, 2, 8)\n",
      "(8, 2, 8)\n",
      "(8, 2, 8)\n",
      "(8, 2, 8)\n",
      "(8, 2, 4)\n",
      "(4, 2, 2)\n",
      "(2, 2, 1)\n"
     ]
    }
   ],
   "source": [
    "for i0 in arange(N):\n",
    "    print(np.array(A[i0]).shape)"
   ]
  },
  {
   "cell_type": "markdown",
   "metadata": {},
   "source": [
    "What is special about this left or right \"canonical form\"s (in our case it is left, where it could also be \"mixed\")? \n",
    "- Answer: The inner product of each matrix is identity. It means when one applies the local operators $\\langle \\psi |\\vec{S}_i \\cdot \\vec{S}_{i+1}| \\psi \\rangle$, because the active sites that the operators are applied $(i,i+1)$, the rest of the inner products will result in an identity matrix."
   ]
  },
  {
   "cell_type": "code",
   "execution_count": 7,
   "metadata": {},
   "outputs": [],
   "source": [
    "Bn = [0 for x in range(N)]\n",
    "for i0 in arange(N):\n",
    "    Aint = A[i0]\n",
    "    Bn[i0]=(fix(1e12*tensordot(Aint,conj(Aint), axes=([0,1],[0,1])))/1e12)"
   ]
  },
  {
   "cell_type": "markdown",
   "metadata": {},
   "source": [
    "We make the random MPS \"left-orthogonal\", we check it by contracting from the left where each contraction must result in identity matrices (except right most site). Below, we print the diagonals"
   ]
  },
  {
   "cell_type": "code",
   "execution_count": 8,
   "metadata": {},
   "outputs": [
    {
     "name": "stdout",
     "output_type": "stream",
     "text": [
      "[1. 1.]\n",
      "[1. 1. 1. 1.]\n",
      "[1. 1. 1. 1. 1. 1. 1. 1.]\n",
      "[1. 1. 1. 1. 1. 1. 1. 1.]\n",
      "[1. 1. 1. 1. 1. 1. 1. 1.]\n",
      "[1. 1. 1. 1. 1. 1. 1. 1.]\n",
      "[1. 1. 1. 1. 1. 1. 1. 1.]\n",
      "[1. 1. 1. 1. 1. 1. 1. 1.]\n",
      "[1. 1. 1. 1. 1. 1. 1. 1.]\n",
      "[1. 1. 1. 1. 1. 1. 1. 1.]\n",
      "[1. 1. 1. 1. 1. 1. 1. 1.]\n",
      "[1. 1. 1. 1. 1. 1. 1. 1.]\n",
      "[1. 1. 1. 1. 1. 1. 1. 1.]\n",
      "[1. 1. 1. 1. 1. 1. 1. 1.]\n",
      "[1. 1. 1. 1. 1. 1. 1. 1.]\n",
      "[1. 1. 1. 1. 1. 1. 1. 1.]\n",
      "[1. 1. 1. 1. 1. 1. 1. 1.]\n",
      "[1. 1. 1. 1. 1. 1. 1. 1.]\n",
      "[1. 1. 1. 1. 1. 1. 1. 1.]\n",
      "[1. 1. 1. 1. 1. 1. 1. 1.]\n",
      "[1. 1. 1. 1. 1. 1. 1. 1.]\n",
      "[1. 1. 1. 1. 1. 1. 1. 1.]\n",
      "[1. 1. 1. 1. 1. 1. 1. 1.]\n",
      "[1. 1. 1. 1. 1. 1. 1. 1.]\n",
      "[1. 1. 1. 1. 1. 1. 1. 1.]\n",
      "[1. 1. 1. 1. 1. 1. 1. 1.]\n",
      "[1. 1. 1. 1. 1. 1. 1. 1.]\n",
      "[1. 1. 1. 1. 1. 1. 1. 1.]\n",
      "[1. 1. 1. 1. 1. 1. 1. 1.]\n",
      "[1. 1. 1. 1. 1. 1. 1. 1.]\n",
      "[1. 1. 1. 1. 1. 1. 1. 1.]\n",
      "[1. 1. 1. 1. 1. 1. 1. 1.]\n",
      "[1. 1. 1. 1. 1. 1. 1. 1.]\n",
      "[1. 1. 1. 1. 1. 1. 1. 1.]\n",
      "[1. 1. 1. 1. 1. 1. 1. 1.]\n",
      "[1. 1. 1. 1. 1. 1. 1. 1.]\n",
      "[1. 1. 1. 1. 1. 1. 1. 1.]\n",
      "[1. 1. 1. 1. 1. 1. 1. 1.]\n",
      "[1. 1. 1. 1. 1. 1. 1. 1.]\n",
      "[1. 1. 1. 1.]\n",
      "[1. 1.]\n",
      "[1.]\n"
     ]
    }
   ],
   "source": [
    "for i0 in arange(N):\n",
    "    print(diag(Bn[i0]))"
   ]
  },
  {
   "cell_type": "markdown",
   "metadata": {},
   "source": [
    "It is now in right-orthogonal form. Now, it is time to generate the matrix product operators (MPOs)."
   ]
  },
  {
   "cell_type": "markdown",
   "metadata": {},
   "source": [
    "#### MPOs"
   ]
  },
  {
   "cell_type": "markdown",
   "metadata": {},
   "source": [
    "The matrix product states, unlike the MPSs being variational, are fixed operators."
   ]
  },
  {
   "cell_type": "markdown",
   "metadata": {},
   "source": [
    "Consider the Heisenberg chain, it basically consists of local operators (short length interactions). Similar to the wavefunctions, the Hamiltonian can also be expressed as the matrix product operators. The central object is 2-site operator: $\\vec{S}_i \\cdot \\vec{S}_{i+1}$. Adding bunch of identity operators to the left and right of it, we generate all the local operators for $H$.\n"
   ]
  },
  {
   "cell_type": "markdown",
   "metadata": {},
   "source": [
    "By using the idea of finite state machines, it is possible to generate the matrix product operators easily. For details please see:\n",
    "- arXiv:0708.1221\n",
    "- arXiv:1512.03318v2\n",
    "- arXiv:1611.02498v2"
   ]
  },
  {
   "cell_type": "markdown",
   "metadata": {},
   "source": [
    "<img src=\"FSMmatrix.bmp\" width=\"680\">"
   ]
  },
  {
   "cell_type": "markdown",
   "metadata": {},
   "source": [
    "For multi-dimensional matrices, we need a more general way to contract the tensors. "
   ]
  },
  {
   "cell_type": "code",
   "execution_count": 9,
   "metadata": {},
   "outputs": [],
   "source": [
    "J = 1.; Jz=1.\n",
    "sP = np.array([[0.,0.],[1.,0.]])\n",
    "sM = np.array([[0.,1.],[0.,0.]])\n",
    "sX = np.array([[0.,0.5],[0.5,0.]])\n",
    "sY = np.array([[0.,-0.5j],[0.5j,0.]])\n",
    "sZ = np.array([[0.5,0.],[0.,-0.5]])\n",
    "sI = eye(2)"
   ]
  },
  {
   "cell_type": "code",
   "execution_count": 10,
   "metadata": {},
   "outputs": [],
   "source": [
    "M = zeros((5,5,2,2),dtype=\"complex\")\n",
    "L1 = len(M)\n",
    "M[0,0,:,:] = sI;   M[4,4,:,:] = sI;\n",
    "M[0,1,:,:] = J*sP; M[1,4,:,:] = sM;\n",
    "M[0,2,:,:] = J*sM; M[2,4,:,:] = sP;\n",
    "M[0,3,:,:] = Jz*sZ;M[3,4,:,:] = sZ;\t "
   ]
  },
  {
   "cell_type": "code",
   "execution_count": null,
   "metadata": {},
   "outputs": [],
   "source": []
  },
  {
   "cell_type": "markdown",
   "metadata": {},
   "source": [
    "Yet, beware that the multplication of the matrices does not provide more than what we need, we therefore must sandwich the product of matrix products with left and right vectors, $L$ and $R$. They are also called as the environment matrices in the bulk."
   ]
  },
  {
   "cell_type": "code",
   "execution_count": 11,
   "metadata": {},
   "outputs": [],
   "source": [
    "ML = zeros((L1,1,1),dtype=\"complex\"); MR = ML; \n",
    "ML[0,0,0] = 1.; MR[L1-1,0,0] = 1.;\n",
    "Lm = [0 for x in range(N)]; Rm = [0 for x in range(N)];\n",
    "Lm[0] = ML; Rm[N-1] = MR"
   ]
  },
  {
   "cell_type": "markdown",
   "metadata": {},
   "source": [
    "#### DMRG Routine\n",
    "We are ready to do the DMRG routine! At each step, we will focus on 2-site, which in total makes $N-1$ steps! Yet, let me first  arrange the environment matrices:"
   ]
  },
  {
   "cell_type": "code",
   "execution_count": 12,
   "metadata": {},
   "outputs": [
    {
     "name": "stdout",
     "output_type": "stream",
     "text": [
      "(1, 1) (5, 1, 1) (5, 5, 2, 2) (1, 2, 2)\n"
     ]
    }
   ],
   "source": [
    "i5 = 1\n",
    "print(sWeight[N].shape,Lm[i5-1].shape,M.shape,A[i5-1].shape)"
   ]
  },
  {
   "cell_type": "code",
   "execution_count": 13,
   "metadata": {},
   "outputs": [],
   "source": [
    "for i0 in arange(1,N-1):\n",
    "    #print(L[i0-1].shape,M.shape,A[i0-1].shape,A[i0-1].conj().shape)\n",
    "    Lm[i0] = ncon([Lm[i0-1],M,A[i0-1],conj(A[i0-1])],\\\n",
    "                 ((1,2,3),(1,-1,5,4),(3,4,-3),(2,5,-2)))"
   ]
  },
  {
   "cell_type": "markdown",
   "metadata": {},
   "source": [
    "Before we start, let me define my Lanczos function to use in each step, to calculate the GS energy and the wavefunction:"
   ]
  },
  {
   "cell_type": "code",
   "execution_count": 14,
   "metadata": {},
   "outputs": [],
   "source": [
    "def LancFirat(H,v0,Logsensitivity):\n",
    "    aN = H.shape[0]\n",
    "    v0 = reshape(v0,(aN,))/norm(v0)\n",
    "    threshold = 1e-2\n",
    "    error = 1.\n",
    "    count = 0\n",
    "    maxIt = min(aN,100)\n",
    "    ee0,ee1,eer0,eer1 = [np.array(zeros((maxIt,),dtype='double')) for _ in range(4)]\n",
    "\n",
    "    k = 1\n",
    "    erLog = 1\n",
    "    Trank = 1\n",
    "    while erLog>Logsensitivity and k<maxIt:\n",
    "        MM = min(k,2)\n",
    "        vjVec = np.array(zeros((aN,k),dtype='complex')) \n",
    "        aVec,bVec = [np.array(zeros((k,),dtype='complex')) for _ in range(2)]\n",
    "        vjVec[:,0] = v0\n",
    "        if k==1:\n",
    "            vjVec[:,0] = v0\n",
    "        else:\n",
    "            vjVec[:,0:MM] = vv[:,0:MM]\n",
    "        wjp = dot(H,vjVec[:,0])\n",
    "        aVec[0]= dot(conj(wjp).T,vjVec[:,0])\n",
    "        wj = wjp - aVec[0]*vjVec[:,0]\n",
    "\n",
    "        for i2 in arange(1,k):\n",
    "            bVec[i2] = norm(wj)\n",
    "            if bVec[i2] != 0.:\n",
    "                vj = wj/bVec[i2]\n",
    "            else:\n",
    "                vj = np.random.rand(aN,)\n",
    "                print(i2)\n",
    "            vSub = np.array(zeros((aN,),dtype='complex'))\n",
    "            for i3 in arange(i2):\n",
    "                vSub = vSub + dot(vjVec[:,i3],vj)*vjVec[:,i3]\n",
    "            vj = vj-vSub \n",
    "            vj= vj#/norm(vj)\n",
    "\n",
    "            vjVec[:,i2] = vj\n",
    "            wjp= dot(H,vj)\n",
    "            aVec[i2] = dot(conj(wjp).T,vj)\n",
    "            wj = wjp - aVec[i2]*vj - bVec[i2]*vjVec[:,i2-1]\n",
    "\n",
    "        T = diag(aVec)+diag(bVec[1:],1)+diag(bVec[1:],-1)\n",
    "        \n",
    "        etI1,vtI1 = eig(T)\n",
    "        ndee=argsort(etI1)\n",
    "        vtI1 = vtI1[:,ndee[0:MM]]\n",
    "        etI1 = etI1[ndee[0:MM]]\n",
    "\n",
    "        error = norm(bVec)\n",
    "        Trank = matrix_rank(vjVec)\n",
    "        vv= dot(vjVec,vtI1)\n",
    "        \n",
    "        if k  == 1:\n",
    "            erLog = 1\n",
    "        else:\n",
    "            eer0[k-1] = norm(etI1[0]*dot(vjVec,vtI1[:,0])-dot(H,dot(vjVec,vtI1[:,0])))\n",
    "            eer1[k-1] = norm(etI1[1]*dot(vjVec,vtI1[:,1])-dot(H,dot(vjVec,vtI1[:,1])))\n",
    "            erLog = log(eer0[k-1]+eer1[k-1])\n",
    "        k += 1\n",
    "    return vv,etI1[0]"
   ]
  },
  {
   "cell_type": "markdown",
   "metadata": {},
   "source": [
    "Let us start the sweeping from right to left:\n",
    "- 1. Generate the local wavefunction for the 2-site system:"
   ]
  },
  {
   "cell_type": "code",
   "execution_count": 15,
   "metadata": {},
   "outputs": [
    {
     "name": "stdout",
     "output_type": "stream",
     "text": [
      "L M M R\n"
     ]
    }
   ],
   "source": [
    "Ekeep = np.array([])\n",
    "B = A\n",
    "chid = M.shape[2]\n",
    "print(\"L\",\"M\",\"M\",\"R\")\n",
    "for i0 in arange(N-2,-1,-1):\n",
    "    kL = A[i0].shape[0];    \n",
    "    kR = A[i0+1].shape[-1]\n",
    "    psi2site = ncon([A[i0],A[i0+1],sWeight[i0+2]],((-1,-2,1),(1,-3,2),(2,-4)))\n",
    "    psi2site = reshape(psi2site,(kL*kR*chid**2,1))\n",
    "    #print(Lm[i0].shape,M.shape,M.shape,Rm[i0+1].shape)\n",
    "    H = reshape(ncon([Lm[i0],M,M,Rm[i0+1]],((1,-5,-1),(1,2,-6,-2),(2,3,-7,-3),(3,-8,-4))),(psi2site.shape[0],psi2site.shape[0]))\n",
    "    psiUpd,e00 = LancFirat(H,psi2site,-10)\n",
    "    Ekeep = np.append(Ekeep,e00)\n",
    "    #print(H.shape,psiUpd.shape)\n",
    "    u, s, vh = np.linalg.svd(reshape(psiUpd[:,0],(kL*chid,kR*chid)), full_matrices=False)\n",
    "    dimR = min(len(s),chi)\n",
    "    B[i0+1] = vh[range(dimR),:].reshape(dimR,chid,kR)\n",
    "    sWeight[i0+1] = diag(s[range(dimR)])/norm(s[range(dimR)])*1.\n",
    "    A[i0] = u[:,range(dimR)].reshape(kL,chid,dimR)\n",
    "    Rm[i0] = ncon([M,Rm[i0+1],B[i0+1],conj(B[i0+1])],\\\n",
    "                  ((-1,1,2,3),(1,4,5),(-3,3,5),(-2,2,4)))\n",
    "kL = A[i0].shape[0];    kR = A[i0].shape[-1]\n",
    "Aint = ncon([A[i0],sWeight[i0+1]],((-1,-2,1),(1,-3))).reshape(kL,kR*chid)\n",
    "u, s, vh = np.linalg.svd(Aint, full_matrices=False)\n",
    "B[0] = vh.reshape(kL,chid,kR)\n",
    "sWeight[0] = u@(diag(s)/norm(s))"
   ]
  },
  {
   "cell_type": "markdown",
   "metadata": {},
   "source": [
    "Now, ideally, we are supposed to obtain an optimized wavefunction by right-to-left sweeping. Now we need to repeat the sweeping several times L-to-R, R-to-L and so on."
   ]
  },
  {
   "cell_type": "markdown",
   "metadata": {},
   "source": [
    "- Left to Right Sweep"
   ]
  },
  {
   "cell_type": "code",
   "execution_count": 16,
   "metadata": {},
   "outputs": [
    {
     "data": {
      "text/plain": [
       "(5, 1, 1)"
      ]
     },
     "execution_count": 16,
     "metadata": {},
     "output_type": "execute_result"
    }
   ],
   "source": [
    "Lm[0].shape"
   ]
  },
  {
   "cell_type": "code",
   "execution_count": 17,
   "metadata": {},
   "outputs": [],
   "source": [
    "for i0 in range(N-1):\n",
    "    kL = B[i0].shape[0];    kR = B[i0+1].shape[-1]\n",
    "    psi2site = ncon([sWeight[i0],B[i0],B[i0+1],],((-1,1),(1,-2,2),(2,-3,-4)))\n",
    "    psi2site = reshape(psi2site,(kL*kR*chid**2,1))\n",
    "    Hint = ncon([Lm[i0],M,M,Rm[i0+1]],((1,-5,-1),(1,2,-6,-2),(2,3,-7,-3),(3,-8,-4)))\n",
    "    #print(Lm[i0].shape,M.shape,M.shape,Rm[i0+1].shape,psi2site.shape,Hint.shape)\n",
    "    H = Hint.reshape(psi2site.shape[0],psi2site.shape[0])\n",
    "    psiUpd,e00 = LancFirat(H,psi2site,-10)\n",
    "    Ekeep = np.append(Ekeep,e00)\n",
    "    u, s, vh = np.linalg.svd(reshape(psiUpd[:,0],(kL*chid,kR*chid)), full_matrices=False)\n",
    "    dimR = min(len(s),chi)\n",
    "    A[i0] = u[:,range(dimR)].reshape(kL,chid,dimR)\n",
    "    B[i0+1] = vh[range(dimR),:].reshape(dimR,chid,kR)\n",
    "    sWeight[i0+1] = diag(s[range(dimR)])/norm(s[range(dimR)])*1.\n",
    "    Lm[i0+1] = ncon([Lm[i0],M,A[i0],conj(A[i0])],\\\n",
    "                  ((1,2,3),(1,-1,4,5),(3,5,-3),(2,4,-2)))\n",
    "i0 = N-1\n",
    "kL = B[i0].shape[0];    kR = B[i0].shape[-1]\n",
    "Aint = ncon([sWeight[i0],B[i0]],((-1,1),(1,-2,-3))).reshape(kL,kR*chid)\n",
    "u, s, vh = np.linalg.svd(Aint, full_matrices=False)\n",
    "A[i0] = u.reshape(kL,chid,kR)\n",
    "sWeight[i0] = (diag(s)/norm(s))@vh"
   ]
  },
  {
   "cell_type": "code",
   "execution_count": 18,
   "metadata": {},
   "outputs": [
    {
     "name": "stdout",
     "output_type": "stream",
     "text": [
      "(-0.34654389730002755+0j)\n"
     ]
    },
    {
     "data": {
      "image/png": "[encoded data removed]",
      "text/plain": [
       "<Figure size 432x288 with 1 Axes>"
      ]
     },
     "metadata": {
      "needs_background": "light"
     },
     "output_type": "display_data"
    }
   ],
   "source": [
    "Ekeep1 = np.array(Ekeep)\n",
    "plot(Ekeep1/(1.*N))\n",
    "print(Ekeep1[-1]/N/2)"
   ]
  },
  {
   "cell_type": "code",
   "execution_count": 27,
   "metadata": {},
   "outputs": [
    {
     "name": "stdout",
     "output_type": "stream",
     "text": [
      "[1.+0.j 1.+0.j]\n",
      "[1.+0.j 1.+0.j 1.+0.j 1.+0.j]\n",
      "[1.+0.j 1.+0.j 1.+0.j 1.+0.j 1.+0.j 1.+0.j 1.+0.j 1.+0.j]\n",
      "[1.+0.j 1.+0.j 1.+0.j 1.+0.j 1.+0.j 1.+0.j 1.+0.j 1.+0.j]\n",
      "[1.+0.j 1.+0.j 1.+0.j 1.+0.j 1.+0.j 1.+0.j 1.+0.j 1.+0.j]\n",
      "[1.+0.j 1.+0.j 1.+0.j 1.+0.j 1.+0.j 1.+0.j 1.+0.j 1.+0.j]\n",
      "[1.+0.j 1.+0.j 1.+0.j 1.+0.j 1.+0.j 1.+0.j 1.+0.j 1.+0.j]\n",
      "[1.+0.j 1.+0.j 1.+0.j 1.+0.j 1.+0.j 1.+0.j 1.+0.j 1.+0.j]\n",
      "[1.+0.j 1.+0.j 1.+0.j 1.+0.j 1.+0.j 1.+0.j 1.+0.j 1.+0.j]\n",
      "[1.+0.j 1.+0.j 1.+0.j 1.+0.j 1.+0.j 1.+0.j 1.+0.j 1.+0.j]\n",
      "[1.+0.j 1.+0.j 1.+0.j 1.+0.j 1.+0.j 1.+0.j 1.+0.j 1.+0.j]\n",
      "[1.+0.j 1.+0.j 1.+0.j 1.+0.j 1.+0.j 1.+0.j 1.+0.j 1.+0.j]\n",
      "[1.+0.j 1.+0.j 1.+0.j 1.+0.j 1.+0.j 1.+0.j 1.+0.j 1.+0.j]\n",
      "[1.+0.j 1.+0.j 1.+0.j 1.+0.j 1.+0.j 1.+0.j 1.+0.j 1.+0.j]\n",
      "[1.+0.j 1.+0.j 1.+0.j 1.+0.j 1.+0.j 1.+0.j 1.+0.j 1.+0.j]\n",
      "[1.+0.j 1.+0.j 1.+0.j 1.+0.j 1.+0.j 1.+0.j 1.+0.j 1.+0.j]\n",
      "[1.+0.j 1.+0.j 1.+0.j 1.+0.j 1.+0.j 1.+0.j 1.+0.j 1.+0.j]\n",
      "[1.+0.j 1.+0.j 1.+0.j 1.+0.j 1.+0.j 1.+0.j 1.+0.j 1.+0.j]\n",
      "[1.+0.j 1.+0.j 1.+0.j 1.+0.j 1.+0.j 1.+0.j 1.+0.j 1.+0.j]\n",
      "[1.+0.j 1.+0.j 1.+0.j 1.+0.j 1.+0.j 1.+0.j 1.+0.j 1.+0.j]\n",
      "[1.+0.j 1.+0.j 1.+0.j 1.+0.j 1.+0.j 1.+0.j 1.+0.j 1.+0.j]\n",
      "[1.+0.j 1.+0.j 1.+0.j 1.+0.j 1.+0.j 1.+0.j 1.+0.j 1.+0.j]\n",
      "[1.+0.j 1.+0.j 1.+0.j 1.+0.j 1.+0.j 1.+0.j 1.+0.j 1.+0.j]\n",
      "[1.+0.j 1.+0.j 1.+0.j 1.+0.j 1.+0.j 1.+0.j 1.+0.j 1.+0.j]\n",
      "[1.+0.j 1.+0.j 1.+0.j 1.+0.j 1.+0.j 1.+0.j 1.+0.j 1.+0.j]\n",
      "[1.+0.j 1.+0.j 1.+0.j 1.+0.j 1.+0.j 1.+0.j 1.+0.j 1.+0.j]\n",
      "[1.+0.j 1.+0.j 1.+0.j 1.+0.j 1.+0.j 1.+0.j 1.+0.j 1.+0.j]\n",
      "[1.+0.j 1.+0.j 1.+0.j 1.+0.j 1.+0.j 1.+0.j 1.+0.j 1.+0.j]\n",
      "[1.+0.j 1.+0.j 1.+0.j 1.+0.j 1.+0.j 1.+0.j 1.+0.j 1.+0.j]\n",
      "[1.+0.j 1.+0.j 1.+0.j 1.+0.j 1.+0.j 1.+0.j 1.+0.j 1.+0.j]\n",
      "[1.+0.j 1.+0.j 1.+0.j 1.+0.j 1.+0.j 1.+0.j 1.+0.j 1.+0.j]\n",
      "[1.+0.j 1.+0.j 1.+0.j 1.+0.j 1.+0.j 1.+0.j 1.+0.j 1.+0.j]\n",
      "[1.+0.j 1.+0.j 1.+0.j 1.+0.j 1.+0.j 1.+0.j 1.+0.j 1.+0.j]\n",
      "[1.+0.j 1.+0.j 1.+0.j 1.+0.j 1.+0.j 1.+0.j 1.+0.j 1.+0.j]\n",
      "[1.+0.j 1.+0.j 1.+0.j 1.+0.j 1.+0.j 1.+0.j 1.+0.j 1.+0.j]\n",
      "[1.+0.j 1.+0.j 1.+0.j 1.+0.j 1.+0.j 1.+0.j 1.+0.j 1.+0.j]\n",
      "[1.+0.j 1.+0.j 1.+0.j 1.+0.j 1.+0.j 1.+0.j 1.+0.j 1.+0.j]\n",
      "[1.+0.j 1.+0.j 1.+0.j 1.+0.j 1.+0.j 1.+0.j 1.+0.j 1.+0.j]\n",
      "[1.+0.j 1.+0.j 1.+0.j 1.+0.j 1.+0.j 1.+0.j 1.+0.j 1.+0.j]\n",
      "[1.+0.j 1.+0.j 1.+0.j 1.+0.j]\n",
      "[1.+0.j 1.+0.j]\n",
      "[2.+0.j]\n"
     ]
    }
   ],
   "source": [
    "Bn = [0 for x in range(N)]\n",
    "for i0 in arange(N):\n",
    "    Aint = np.array(A[i0])\n",
    "    Bn[i0]=np.round(1e12*tensordot(Aint,conj(Aint), axes=([0,1],[0,1]))/1e12)\n",
    "    print(diag(Bn[i0]))"
   ]
  },
  {
   "cell_type": "code",
   "execution_count": null,
   "metadata": {},
   "outputs": [],
   "source": []
  }
 ],
 "metadata": {
  "kernelspec": {
   "display_name": "Python 3",
   "language": "python",
   "name": "python3"
  },
  "language_info": {
   "codemirror_mode": {
    "name": "ipython",
    "version": 3
   },
   "file_extension": ".py",
   "mimetype": "text/x-python",
   "name": "python",
   "nbconvert_exporter": "python",
   "pygments_lexer": "ipython3",
   "version": "3.8.5"
  }
 },
 "nbformat": 4,
 "nbformat_minor": 5
}
