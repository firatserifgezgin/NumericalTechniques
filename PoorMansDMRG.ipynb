{
 "cells": [
  {
   "cell_type": "code",
   "execution_count": 4,
   "metadata": {
    "tags": []
   },
   "outputs": [
    {
     "name": "stdout",
     "output_type": "stream",
     "text": [
      "Using matplotlib backend: TkAgg\n"
     ]
    }
   ],
   "source": [
    "# in case needed, sometimes the figures can be drawn with a seperate window\n",
    "# the following two command enforces it to draw 'inline'\n",
    "%matplotlib\n",
    "%matplotlib inline\n",
    "# ignore the warnings: can be useful for too many imag. part warnings \n",
    "import warnings\n",
    "warnings.filterwarnings('ignore')\n",
    "from numpy import *\n",
    "from scipy import *\n",
    "import numpy as np\n",
    "import scipy as sp\n",
    "from mpl_toolkits.mplot3d import Axes3D\n",
    "from matplotlib.pylab import * # for plotting commands\n",
    "import matplotlib.pyplot as plt\n",
    "from numpy import (real,imag,matrix,linspace,array,complex)\n",
    "from IPython.display import Image\n",
    "from mpl_toolkits.mplot3d import axes3d"
   ]
  },
  {
   "cell_type": "markdown",
   "metadata": {},
   "source": [
    "## DMRG method for Heisenberg model"
   ]
  },
  {
   "cell_type": "markdown",
   "metadata": {},
   "source": [
    "Let us directly jump into the algorithm for the spin $1/2$ Heisenberg chain with nearest neighbor exchange couplings:\n",
    "\n",
    "$$H = J \\sum_{\\langle ij \\rangle} S_i \\cdot S_j$$\n",
    "\n",
    "#### 1. Consider a 4-site spin chain (J = 1):\n",
    "$$H = \\mathbf{S}_1 \\cdot\\mathbf{S}_2+ \\mathbf{S}_2 \\cdot\\mathbf{S}_3 +\\mathbf{S}_3 \\cdot\\mathbf{S}_4 $$        \n",
    "\n",
    "Each operator are actually living in their subspace, e.g. $\\mathbf{S}_1 = \\mathbf{S}_1 \\otimes \\mathbf{I}\\otimes \\mathbf{I}\\otimes \\mathbf{I}$, $\\mathbf{S}_2 = \\mathbf{I} \\otimes \\mathbf{S}_2 \\otimes \\mathbf{I}\\otimes \\mathbf{I}$ and so on."
   ]
  },
  {
   "cell_type": "markdown",
   "metadata": {},
   "source": [
    "Define the operators:"
   ]
  },
  {
   "cell_type": "code",
   "execution_count": 14,
   "metadata": {
    "tags": []
   },
   "outputs": [],
   "source": [
    "Sigx = 0.5*np.array([[0.,1.],[1.,0.]])\n",
    "Sigy = 0.5j*np.array([[0.,-1.],[1.,0.]])\n",
    "Sigz = 0.5*np.array([[1.,0.],[0.,-1.]])\n",
    "Sigp = Sigx+1j*Sigy\n",
    "Sigm = Sigx-1j*Sigy"
   ]
  },
  {
   "cell_type": "markdown",
   "metadata": {},
   "source": [
    "The system size and anisotropy term"
   ]
  },
  {
   "cell_type": "code",
   "execution_count": 21,
   "metadata": {},
   "outputs": [],
   "source": [
    "L = 2\n",
    "Jz = 1."
   ]
  },
  {
   "cell_type": "markdown",
   "metadata": {},
   "source": [
    "The elements of Heisenberg Hamiltonian are local operators, e.g. $I \\otimes S_2^z \\otimes S_3^z \\otimes I$, we need these 2-body operators,"
   ]
  },
  {
   "cell_type": "code",
   "execution_count": 22,
   "metadata": {},
   "outputs": [],
   "source": [
    "SigZZ = kron(Sigz,Sigz)\n",
    "SigXX = kron(Sigx,Sigx)+ kron(Sigy,Sigy)"
   ]
  },
  {
   "cell_type": "markdown",
   "metadata": {},
   "source": [
    "where $S^x S^x + S^y S^y$ are considered together. Or consider $\\frac{1}{2}(S^+ S^- + S^- S^+)$ terms,"
   ]
  },
  {
   "cell_type": "code",
   "execution_count": 23,
   "metadata": {},
   "outputs": [],
   "source": [
    "SigPMMP = 0.5*kron(Sigp,Sigm)+0.5*kron(Sigm,Sigp)"
   ]
  },
  {
   "cell_type": "markdown",
   "metadata": {},
   "source": [
    "Let initialize the full Hamiltonian:"
   ]
  },
  {
   "cell_type": "code",
   "execution_count": 24,
   "metadata": {},
   "outputs": [],
   "source": [
    "H_Heis = np.array(zeros((2**L,2**L),dtype='complex'))"
   ]
  },
  {
   "cell_type": "markdown",
   "metadata": {},
   "source": [
    "We will define a for loop, take each $S^\\alpha S^\\alpha$ with bunch of identity operators to the right or left of it:"
   ]
  },
  {
   "cell_type": "code",
   "execution_count": 27,
   "metadata": {},
   "outputs": [
    {
     "name": "stdout",
     "output_type": "stream",
     "text": [
      "[[ 0.5+0.j  0. +0.j  0. +0.j  0. +0.j]\n",
      " [ 0. +0.j -0.5+0.j  1. +0.j  0. +0.j]\n",
      " [ 0. +0.j  1. +0.j -0.5+0.j  0. +0.j]\n",
      " [ 0. +0.j  0. +0.j  0. +0.j  0.5+0.j]]\n"
     ]
    }
   ],
   "source": [
    "for i1 in arange(L-1):\n",
    "    Hij = (SigPMMP+Jz*SigZZ)\n",
    "    for i2 in arange(i1):\n",
    "        Hij = kron(eye(2),Hij)\n",
    "    for i2 in arange(i1+2,L):\n",
    "        Hij = kron(Hij,eye(2))\n",
    "    H_Heis = H_Heis + Hij\n",
    "print(H_Heis)"
   ]
  },
  {
   "cell_type": "code",
   "execution_count": 26,
   "metadata": {},
   "outputs": [
    {
     "data": {
      "text/plain": [
       "<matplotlib.image.AxesImage at 0x1de4c018c40>"
      ]
     },
     "execution_count": 26,
     "metadata": {},
     "output_type": "execute_result"
    },
    {
     "data": {
      "image/png": "[encoded data removed]",
      "text/plain": [
       "<Figure size 432x288 with 1 Axes>"
      ]
     },
     "metadata": {
      "needs_background": "light"
     },
     "output_type": "display_data"
    }
   ],
   "source": [
    "spy(H_Heis)"
   ]
  },
  {
   "cell_type": "markdown",
   "metadata": {},
   "source": [
    "Let us define a function:"
   ]
  },
  {
   "cell_type": "code",
   "execution_count": 5,
   "metadata": {},
   "outputs": [],
   "source": [
    "def XXZ_Ham(J,Jz,L):\n",
    "    Sigx = 0.5*np.array([[0.,1.],[1.,0.]])\n",
    "    Sigy = 0.5j*np.array([[0.,-1.],[1.,0.]])\n",
    "    Sigz = 0.5*np.array([[1.,0.],[0.,-1.]])\n",
    "    Sigp = Sigx+1j*Sigy\n",
    "    Sigm = Sigx-1j*Sigy\n",
    "\n",
    "    SigXX = kron(Sigx,Sigx)\n",
    "    SigYY = kron(Sigy,Sigy)\n",
    "    SigZZ = kron(Sigz,Sigz)\n",
    "    SigPMMP = 0.5*kron(Sigp,Sigm)+0.5*kron(Sigm,Sigp)\n",
    "    H_Heis = np.array(zeros((2**L,2**L),dtype='complex'))\n",
    "    for i1 in arange(L-1):\n",
    "        Hij = (SigPMMP+Jz*SigZZ)\n",
    "        for i2 in arange(i1):\n",
    "            Hij = kron(eye(2),Hij)\n",
    "        for i2 in arange(i1+2,L):\n",
    "            Hij = kron(Hij,eye(2))\n",
    "        H_Heis = H_Heis + Hij\n",
    "    return H_Heis"
   ]
  },
  {
   "cell_type": "code",
   "execution_count": 67,
   "metadata": {},
   "outputs": [
    {
     "name": "stdout",
     "output_type": "stream",
     "text": [
      "[[ 0.25+0.j  0.  +0.j  0.  +0.j  0.  +0.j]\n",
      " [ 0.  +0.j -0.25+0.j  0.5 +0.j  0.  +0.j]\n",
      " [ 0.  +0.j  0.5 +0.j -0.25+0.j  0.  +0.j]\n",
      " [ 0.  +0.j  0.  +0.j  0.  +0.j  0.25+0.j]]\n"
     ]
    },
    {
     "data": {
      "image/png": "[encoded data removed]",
      "text/plain": [
       "<Figure size 432x288 with 1 Axes>"
      ]
     },
     "metadata": {
      "needs_background": "light"
     },
     "output_type": "display_data"
    }
   ],
   "source": [
    "L = 2\n",
    "J = 1.\n",
    "Jz = 1.\n",
    "H = XXZ_Ham(J,Jz,L)\n",
    "spy(H)\n",
    "print(H)"
   ]
  },
  {
   "cell_type": "code",
   "execution_count": 40,
   "metadata": {},
   "outputs": [],
   "source": [
    "a,b = eig(H)"
   ]
  },
  {
   "cell_type": "code",
   "execution_count": 41,
   "metadata": {},
   "outputs": [
    {
     "data": {
      "text/plain": [
       "(-0.9571067811865486+0j)"
      ]
     },
     "execution_count": 41,
     "metadata": {},
     "output_type": "execute_result"
    }
   ],
   "source": [
    "a[0]"
   ]
  },
  {
   "cell_type": "markdown",
   "metadata": {},
   "source": [
    "Yet, it is a good point to remind ourselves the basis. We used the representation along z-quantization axis. Just focus on $S^z$ operators. \n",
    "$$\\begin{pmatrix} \\uparrow \\\\ \\downarrow \\end{pmatrix}.$$\n",
    "\n",
    "Yet, we have $L$ sites, we therefore need the kronecker product of this basis:\n",
    "\\begin{eqnarray}\n",
    "&\\to&\\begin{pmatrix} \\uparrow \\\\ \\downarrow \\end{pmatrix} \\otimes \\begin{pmatrix} \\uparrow \\\\ \\downarrow \\end{pmatrix}\\otimes \\begin{pmatrix} \\uparrow \\\\ \\downarrow \\end{pmatrix} ... \\otimes \\begin{pmatrix} \\uparrow \\\\ \\downarrow \\end{pmatrix} \\otimes \\begin{pmatrix} \\uparrow \\\\ \\downarrow \\end{pmatrix}\\\\\n",
    "&=&\\begin{pmatrix} \\uparrow \\uparrow \\\\  \\uparrow \\downarrow \\\\ \\downarrow  \\uparrow \\\\ \\downarrow \\downarrow \\end{pmatrix}\\otimes \\begin{pmatrix} \\uparrow \\\\ \\downarrow \\end{pmatrix} ... \\otimes \\begin{pmatrix} \\uparrow \\\\ \\downarrow \\end{pmatrix} \\otimes \\begin{pmatrix} \\uparrow \\\\ \\downarrow \\end{pmatrix}\\\\\n",
    "&=&\\begin{pmatrix} \\uparrow \\uparrow \\uparrow \\\\ \\uparrow \\uparrow \\downarrow \\\\  \\uparrow \\downarrow \\uparrow \\\\ \\uparrow \\downarrow \\downarrow \\\\ \\downarrow  \\uparrow \\uparrow \\\\ \\downarrow  \\uparrow \\downarrow \\\\ \\downarrow \\downarrow \\uparrow \\\\ \\downarrow \\downarrow \\downarrow \\end{pmatrix} ... \\otimes \\begin{pmatrix} \\uparrow \\\\ \\downarrow \\end{pmatrix} \\otimes \\begin{pmatrix} \\uparrow \\\\ \\downarrow \\end{pmatrix} = \\begin{pmatrix} \\uparrow \\uparrow \\uparrow ... \\uparrow \\uparrow \\\\ \\uparrow \\uparrow \\uparrow ... \\uparrow \\downarrow  \\\\  \\uparrow \\uparrow \\uparrow ... \\downarrow \\uparrow  \\\\ . \\\\ . \\\\ .\\\\. \\\\. \\\\ . \\\\ \\downarrow \\downarrow \\downarrow ... \\downarrow \\downarrow \\end{pmatrix} \\equiv \\begin{pmatrix} 111 ... 11 \\\\ 111 ... 10 \\\\ 111 ... 01 \\\\ . \\\\ . \\\\ .\\\\. \\\\. \\\\ . \\\\ 000 ... 00\\end{pmatrix}\n",
    "\\end{eqnarray}\n",
    "\n"
   ]
  },
  {
   "cell_type": "markdown",
   "metadata": {},
   "source": [
    "#### 2. Diagonalize and obtain the density matrix\n",
    "\n",
    "For now let us use built-in functions:"
   ]
  },
  {
   "cell_type": "code",
   "execution_count": 42,
   "metadata": {
    "collapsed": true,
    "jupyter": {
     "outputs_hidden": true,
     "source_hidden": true
    },
    "tags": []
   },
   "outputs": [
    {
     "data": {
      "text/plain": [
       "array([-1.6160254 +0.j, -0.95710678+0.j, -0.95710678+0.j])"
      ]
     },
     "execution_count": 42,
     "metadata": {},
     "output_type": "execute_result"
    }
   ],
   "source": [
    "ei,vi =eig(H)\n",
    "ndee1=argsort(ei)\n",
    "ei = ei[ndee1]\n",
    "vi = vi[:,ndee1]\n",
    "ei[0:3]"
   ]
  },
  {
   "cell_type": "markdown",
   "metadata": {},
   "source": [
    "Ground state is NOT degenerate, therefore the density matrix for the groundstate $| \\psi_0 \\rangle$ is:\n",
    "    $$\\rho = \\left| \\psi_0 \\rangle \\langle \\psi_0 \\right|$$"
   ]
  },
  {
   "cell_type": "code",
   "execution_count": 44,
   "metadata": {
    "collapsed": true,
    "jupyter": {
     "outputs_hidden": true,
     "source_hidden": true
    },
    "tags": []
   },
   "outputs": [
    {
     "data": {
      "text/plain": [
       "<StemContainer object of 3 artists>"
      ]
     },
     "execution_count": 44,
     "metadata": {},
     "output_type": "execute_result"
    },
    {
     "data": {
      "image/png": "[encoded data removed]",
      "text/plain": [
       "<Figure size 432x288 with 1 Axes>"
      ]
     },
     "metadata": {
      "needs_background": "light"
     },
     "output_type": "display_data"
    }
   ],
   "source": [
    "vi[:,0].shape\n",
    "stem(vi[:,0])"
   ]
  },
  {
   "cell_type": "code",
   "execution_count": 52,
   "metadata": {
    "jupyter": {
     "source_hidden": true
    },
    "tags": []
   },
   "outputs": [],
   "source": [
    "v0 = reshape(vi[:,0],(16,1))\n",
    "v1 = 0*reshape(vi[:,1],(16,1))"
   ]
  },
  {
   "cell_type": "code",
   "execution_count": 53,
   "metadata": {
    "collapsed": true,
    "jupyter": {
     "outputs_hidden": true,
     "source_hidden": true
    },
    "tags": []
   },
   "outputs": [
    {
     "data": {
      "text/plain": [
       "(16, 16)"
      ]
     },
     "execution_count": 53,
     "metadata": {},
     "output_type": "execute_result"
    },
    {
     "data": {
      "image/png": "[encoded data removed]",
      "text/plain": [
       "<Figure size 432x288 with 1 Axes>"
      ]
     },
     "metadata": {
      "needs_background": "light"
     },
     "output_type": "display_data"
    }
   ],
   "source": [
    "rho0 = dot(v0,conj(v0.T)) + dot(v1,conj(v1.T))\n",
    "spy(rho0)\n",
    "rho0.shape"
   ]
  },
  {
   "cell_type": "markdown",
   "metadata": {},
   "source": [
    "Diagonalize and plot the eigenvalues:"
   ]
  },
  {
   "cell_type": "code",
   "execution_count": 56,
   "metadata": {
    "collapsed": true,
    "jupyter": {
     "outputs_hidden": true,
     "source_hidden": true
    },
    "tags": []
   },
   "outputs": [
    {
     "data": {
      "text/plain": [
       "<StemContainer object of 3 artists>"
      ]
     },
     "execution_count": 56,
     "metadata": {},
     "output_type": "execute_result"
    },
    {
     "data": {
      "image/png": "[encoded data removed]",
      "text/plain": [
       "<Figure size 432x288 with 1 Axes>"
      ]
     },
     "metadata": {
      "needs_background": "light"
     },
     "output_type": "display_data"
    }
   ],
   "source": [
    "eRho,vRho =eig(rho0)\n",
    "ndeeRho=argsort(-eRho)\n",
    "eRho = eRho[ndeeRho]\n",
    "vRho = vRho[:,ndeeRho]\n",
    "stem(eRho)"
   ]
  },
  {
   "cell_type": "markdown",
   "metadata": {},
   "source": [
    "Why? Clearly, it is a pure state and already diagonal!"
   ]
  },
  {
   "cell_type": "code",
   "execution_count": 58,
   "metadata": {
    "collapsed": true,
    "jupyter": {
     "outputs_hidden": true,
     "source_hidden": true
    },
    "tags": []
   },
   "outputs": [
    {
     "data": {
      "text/plain": [
       "<StemContainer object of 3 artists>"
      ]
     },
     "execution_count": 58,
     "metadata": {},
     "output_type": "execute_result"
    },
    {
     "data": {
      "image/png": "[encoded data removed]",
      "text/plain": [
       "<Figure size 432x288 with 1 Axes>"
      ]
     },
     "metadata": {
      "needs_background": "light"
     },
     "output_type": "display_data"
    }
   ],
   "source": [
    "stem(vRho[:,0])"
   ]
  },
  {
   "cell_type": "markdown",
   "metadata": {},
   "source": [
    "#### 3. Obtain the reduced density matrix and diagonalize it!\n",
    "\n",
    "Dividing the system into two part $A$ and $B$, one can obtain the 'Schmidt' decomposition of the total wavefunction as\n",
    "$$| \\psi \\rangle = \\sum_{i \\in A, j\\in B}  \\psi_{ij} |i \\rangle |j \\rangle.$$\n",
    "\n",
    "Then, it is straightforward to obtain the reduced density matrix:\n",
    "\\begin{eqnarray}\n",
    "\\rho_A = Tr_B \\left( \\left| \\psi_0 \\rangle \\langle \\psi_0 \\right|\\right) &=& Tr_B \\left(\\sum_{i \\in A, j\\in B}\\sum_{i' \\in A, j'\\in B} \\psi_{i'j'}^* \\psi_{ij} |i \\rangle |j \\rangle \\langle i' | \\langle j' |\\right),\\\\\n",
    "&=& \\sum_{j_0\\in B} \\langle j_0 |\\left(\\sum_{i \\in A, j\\in B}\\sum_{i' \\in A, j'\\in B} \\psi_{i'j'}^* \\psi_{ij} |i \\rangle |j \\rangle \\langle i' | \\langle j' |\\right) | j_0 \\rangle,\\\\\n",
    "&=& \\sum_{i,i' \\in A} \\left( \\sum_{j\\in B}  \\psi_{i'j}^* \\psi_{ij}\\right) |i \\rangle \\langle i' | = \\sum_{i,i' \\in A} (\\rho_A)_{ii'} |i \\rangle \\langle i' | \n",
    "\\end{eqnarray}"
   ]
  },
  {
   "cell_type": "markdown",
   "metadata": {},
   "source": [
    "Yet, how do we do this decomposition in the first place? \n",
    "\n",
    "Let us say, we would like to divide the system into two equal parts, the system and the environmenti respectively. Reshape function handles it automatically.\n",
    "\n",
    "To summarize, we would like the keep the system in the following equivalent way:\n",
    "$$\\begin{pmatrix} \\uparrow \\uparrow \\\\ \\uparrow \\downarrow \\\\ \\downarrow \\uparrow \\\\ \\downarrow \\downarrow \\end{pmatrix}\\otimes \\begin{pmatrix} \\uparrow \\uparrow \\\\ \\uparrow \\downarrow \\\\ \\downarrow \\uparrow \\\\ \\downarrow \\downarrow \\end{pmatrix}$$"
   ]
  },
  {
   "cell_type": "code",
   "execution_count": 61,
   "metadata": {},
   "outputs": [
    {
     "data": {
      "text/plain": [
       "(4, 4)"
      ]
     },
     "execution_count": 61,
     "metadata": {},
     "output_type": "execute_result"
    }
   ],
   "source": [
    "psi = reshape(v0,(2**int(L/2),2**int(L/2.)))\n",
    "psi.shape"
   ]
  },
  {
   "cell_type": "markdown",
   "metadata": {},
   "source": [
    "$\\psi_{ij}$ are the matrix elements of the representation, e.g. $\\Psi$. The reduced density matrix $\\rho_A$ are then nothing but a matrix multiplication, $\\rho_A = \\Psi \\Psi^\\dagger$. Then the matrix representation for $\\rho_A$ becomes"
   ]
  },
  {
   "cell_type": "code",
   "execution_count": 62,
   "metadata": {},
   "outputs": [
    {
     "name": "stdout",
     "output_type": "stream",
     "text": [
      "{(4, 4), 'reduced density matrix is', (16, 16), 'superblock matrix is'}\n"
     ]
    }
   ],
   "source": [
    "rhoA = dot(psi,conj(psi.T))\n",
    "print({\"reduced density matrix is\",rhoA.shape, \"superblock matrix is\",rho0.shape})\n"
   ]
  },
  {
   "cell_type": "markdown",
   "metadata": {},
   "source": [
    "As seen clearly, the dimensionality is reduced to the size of the subsystem A. The next step is to diagonalize it!\n",
    "\n",
    "$$\\rho_A = U \\sum_{p \\in A} \\lambda_p |p \\rangle \\langle p | U^\\dagger$$"
   ]
  },
  {
   "cell_type": "code",
   "execution_count": 63,
   "metadata": {},
   "outputs": [
    {
     "data": {
      "text/plain": [
       "Text(0, 0.5, '$\\\\lambda_i$')"
      ]
     },
     "execution_count": 63,
     "metadata": {},
     "output_type": "execute_result"
    },
    {
     "data": {
      "image/png": "[encoded data removed]",
      "text/plain": [
       "<Figure size 432x288 with 1 Axes>"
      ]
     },
     "metadata": {
      "needs_background": "light"
     },
     "output_type": "display_data"
    }
   ],
   "source": [
    "eA,vA =eig(rhoA)\n",
    "ndeeA=argsort(-1.*eA)\n",
    "eA = eA[ndeeA]\n",
    "vA = vA[:,ndeeA]\n",
    "stem(eA)\n",
    "ylabel(\"$\\lambda_i$\",fontSize = 18)"
   ]
  },
  {
   "cell_type": "markdown",
   "metadata": {},
   "source": [
    "The diagonalizing matrix is $vA$ in the code cell above. Yet, we would like to cut out the vectors having a contribution to the density matrix w.r.t. a pre-defined threshold, say $\\epsilon = 1e-2$. These set of vectors diagonalizes the density matrix,\n",
    "\\begin{eqnarray}\n",
    "\\rho_A^{reduced} &=& (U)_{2^2 \\times 2^2} \\left( \\sum_{p =1}^{2^2} \\lambda_p  |p \\rangle \\langle p | \\right)_{2^2 \\times 2^2} (U^\\dagger)_{2^2 \\times 2^2}\n",
    "\\end{eqnarray}\n",
    "Then, the 'truncated' density matrix can also be represented by the diagonal matrix that is sandwiched by a truncated approximate diagonalizing matrix $U_{trun.}$\n",
    "\\begin{eqnarray}\n",
    "\\rho_A \\approx \\rho_A^{trunc.} &=& (U_{trun.})_{2^2 \\times m} \\left( \\sum_{p=1}^{m,\\lambda_p > \\epsilon}\\lambda_p  |p \\rangle \\langle p | \\right)_{m \\times m} (U^\\dagger_{trun.})_{m \\times 2^2}\n",
    "\\end{eqnarray}\n",
    "\n",
    "Let us obtain each element:"
   ]
  },
  {
   "cell_type": "code",
   "execution_count": 64,
   "metadata": {},
   "outputs": [
    {
     "name": "stdout",
     "output_type": "stream",
     "text": [
      "total number of surviving vectors 4\n",
      "size of the truncated rotation matrix (4, 4)\n"
     ]
    }
   ],
   "source": [
    "eps = 4e-3\n",
    "indMax = sum(eA>eps)\n",
    "vATr = vA[:,arange(indMax)]\n",
    "eATr = eA[arange(indMax)]\n",
    "print(\"total number of surviving vectors\", indMax)\n",
    "print(\"size of the truncated rotation matrix\",vATr.shape)"
   ]
  },
  {
   "cell_type": "markdown",
   "metadata": {},
   "source": [
    "Therefore, we need all the vectors in this case!"
   ]
  },
  {
   "cell_type": "code",
   "execution_count": 65,
   "metadata": {},
   "outputs": [],
   "source": [
    "Utr = vATr"
   ]
  },
  {
   "cell_type": "markdown",
   "metadata": {},
   "source": [
    "#### 4. Enlarge the system and transform the operators!"
   ]
  },
  {
   "cell_type": "markdown",
   "metadata": {},
   "source": [
    "Normally for a 4-site sytem devided into 2 equal parts, the Hamiltonian is:\n",
    "\n",
    "$$H = H_A \\otimes I_{2} + I_{2} \\otimes H_B +\\sum^\\alpha S_L^\\alpha \\otimes S_R^\\alpha , \\quad \\text{in this case, the sites are }L=2 \\text{ and } R = 3$$\n",
    "\n",
    "We now include an additional 2-sites within (site left and right denoted by $\\mathbf{S}_{L,R}$, the 6-site Hamiltonian is:\n",
    "\n",
    "- New $H_A$ is found as: $H_{A'} = H_A \\otimes I_2 + \\sum^\\alpha S_2^\\alpha \\otimes S_L^\\alpha$\n",
    "- New $H_B$ is found as: $H_{B'} = I_2 \\otimes H_B + \\sum^\\alpha S_R^\\alpha \\otimes S_3^\\alpha$\n",
    "- New $S_{L,R}$ is found as: $S_{L'} = I_2^2 \\otimes S_L$ and $S_{R'} =  S_R \\otimes  I_2^2$ \n",
    "\n",
    "Therefore, the total new Hamiltonian is:\n",
    "\n",
    "$$H' = H_{A'} \\otimes I_{2^3}+ I_{2^3}\\otimes H_{B'} + \\sum^\\alpha S_{L'}^\\alpha \\otimes S_{R'}^\\alpha $$"
   ]
  },
  {
   "cell_type": "markdown",
   "metadata": {},
   "source": [
    "Yet, it seems like we have not considered the effect of the previous step step at all! Moreover, the size of the Hilbert space will increase exponentially since it is basically exact diagonalization, so far!"
   ]
  },
  {
   "cell_type": "markdown",
   "metadata": {},
   "source": [
    "The effect of the previous iteration can be reflected at this step by transforming the operators of part-A of the whole system, $H_{A'}$ and $S_{L'}$ by the truncated matrix obtained from the reduced density matrix for part A, $U_{trun.}$ of size $2^2 \\times m$. Then, these operators become:\n",
    "\n",
    "\\begin{eqnarray}\n",
    "H_A &=& U_{trun.}^\\dagger H_{A'} U_{trun.},\\\\\n",
    "S_L &=& U_{trun.}^\\dagger S_{L'} U_{trun.}\n",
    "\\end{eqnarray}\n",
    "\n",
    "Therefore, the matrices of size $2^3 \\times 2^3$ are truncated to $m \\times m$ by this rotation. "
   ]
  },
  {
   "cell_type": "markdown",
   "metadata": {},
   "source": [
    "##### A quick dimensionality recap:"
   ]
  },
  {
   "cell_type": "markdown",
   "metadata": {},
   "source": [
    "- We started with 4 site chain, $2^4 = 16$ of Hilbert space size, diagonalized it and obtained the density matrix, $\\rho$ of size $16 \\times 16$  for the ground state \n",
    "- Tracing out the section B (the environment), we ended up with $\\rho_{A}$ of size $2^2 \\times 2^2$. \n",
    "- Diagonalizing $\\rho_{A}$ and keeping the first $m$ significant eigenvalues, we obtained a truncated matrix $U_{trun.}$ of size $2^2 \\times m$\n",
    "- We added one-more site to $H_A$ and created $H_{A'}$ of size $2^3 \\times 2^3$.\n",
    "\n",
    "Wait a sec! There is something wrong! "
   ]
  },
  {
   "cell_type": "markdown",
   "metadata": {},
   "source": [
    "#### 5. Repeat the procedure for 4 initial sites where 2-sites are added:\n",
    "The dimensional error is due neglecting the existence of the initially added 2-sites! It means what we thought as $H_A$ is actually $H_A'$! \n",
    "\n",
    "- How to remedy this? A: start adding the 2-sites at the first iteration!\n",
    "\n",
    "Generally we have the following Hamiltonian for the system: $(Block-A) - (site-L) - (site-R) - (Block-B)$ denoted by $H = H_{AA} + H_{AL}+H_{LR}+H_{RB} + H_{BB}$\n",
    "\n",
    "where, in the next iteration, we will have\n",
    "\n",
    "\\begin{eqnarray}\n",
    "H_{A'A'} &=& H_{AA} + H_{AL}\\\\\n",
    "H_{B'B'} &=& H_{RB} + H_{BB}.\n",
    "\\end{eqnarray}\n",
    "\n",
    "At each iteration, we add 2-sites to the system. Calculate the truncation matrices to project the Block-A and Block-B into smaller matrices. Project all operators into this basis! \n",
    "\n",
    "The function defined below is divided into steps $(1)-(2)-..$ to explain each step in detail:\n",
    "\n",
    "- (1): Generate the local operators for the couplings between (system-A)-(left-spin) and (right-spin)-(system-B) : $\\quad \\quad H_{AL}$ and $H_{RB} $\n",
    "\n",
    "- (2): Generate the operator $H_{LR}$ out of the local $H_{LR}^{local} = \\vec{S}_L \\cdot \\vec{S}_R$ Hamiltonian, $I_A \\otimes H_{LR}^{local} \\otimes I_B$. \n",
    "\n",
    "- (3): Generate the new Hamiltonians for block A and B: $\\quad H_{A'A'}$ and $H_{B'B'}$. The trick: Size of $I$ matrix for the second terms in each sum $I \\otimes H_{AL}$ must be selected properly because $H_{AL}$ already contains the last \"spin\" of old block-A. the variable $dimSxL$ takes care of dimensional reduction.\n",
    "\n",
    "- (4): The enlarged spin matrices, which are going to be the last \"spins\" of block A and B IN THE NEXT  ITERATION, are nothing but spin-$1/2$ matrices kronecker product of Block-A or B.\n",
    "\n",
    "- (5): Create the full Hamiltonian as the sum of all components and diagonalize it. Calculate the reduced density matrix $\\rho_A = Tr_B(\\rho)$ where $\\rho = |\\psi_0\\rangle \\langle \\psi_0|$, directly by the matrix multiplication of the \"reshaped\" wavefunctions, $ |\\psi_0\\rangle  = \\sum_{i j} \\psi_0^{ij} |i\\rangle_A \\otimes |j\\rangle_B $. IF one denotes the matrix elements $ \\psi_0^{ij} $ as the matrix $\\Psi_0$, then the trace operation is basically a matrix multiplication: $\\rho_A = \\Psi_0 \\Psi_0^\\dagger$. For the details, see part 3 above.\n",
    "\n",
    "- (6): Diagonalize $\\rho_A$ and calculate the diagonalizing unitary matrix, which is noting but the eigenvectors. Truncate it with respect to a treshhold by picking first $m$ elements. $ U^{trunc.} = U(:,1:m) $ is an $Size_{Block-A} \\times m$ matrix.\n",
    "\n",
    "- (7): Sandwich all the enlarged operators as $U^\\dagger (..) U$ and the resulting rotated (or projected) operators are $m \\times m$.\n",
    "\n",
    "- Repeat the procedures with the relevant outputs as inputs."
   ]
  },
  {
   "cell_type": "code",
   "execution_count": 19,
   "metadata": {},
   "outputs": [],
   "source": [
    "def Enlarge2Site(HA,HB,SxL,SyL,SzL,SxR,SyR,SzR,Jz,eps,i0):\n",
    "    Sigx = 0.5*np.array([[0.,1.],[1.,0.]])\n",
    "    Sigy = 0.5j*np.array([[0.,-1.],[1.,0.]])\n",
    "    Sigz = 0.5*np.array([[1.,0.],[0.,-1.]])\n",
    "\n",
    "    ## (1)\n",
    "    HAL = kron(SxL,Sigx)+kron(SyL,Sigy)+Jz*kron(SzL,Sigz) \n",
    "    HRB = kron(Sigx,SxL)+kron(Sigy,SyL)+Jz*kron(Sigz,SzL)\n",
    "    \n",
    "    ## (2)\n",
    "    HLR_local = kron(Sigx,Sigx)+kron(Sigy,Sigy)+Jz*kron(Sigz,Sigz)     \n",
    "    HLR = kron(kron(eye(int(HA.shape[0])),HLR_local),eye(int(HB.shape[0])))\n",
    "    \n",
    "    ## (3)\n",
    "    dimSxL = prod(SxL.shape[0])\n",
    "    HApAp = kron(HA,eye(2)) + kron(eye(int(HA.shape[0]/dimSxL)),HAL) \n",
    "    HBpBp = kron(eye(2),HA) + kron(HRB,eye(int(HB.shape[0]/dimSxL))) \n",
    "\n",
    "    ## (4)\n",
    "    SxL = kron(eye(int(HA.shape[0])),Sigx)\n",
    "    SyL = kron(eye(int(HA.shape[0])),Sigy)\n",
    "    SzL = kron(eye(int(HA.shape[0])),Sigz)\n",
    "    SxR = kron(Sigx,eye(int(HB.shape[0])))\n",
    "    SyR = kron(Sigy,eye(int(HB.shape[0])))\n",
    "    SzR = kron(Sigz,eye(int(HB.shape[0])))\n",
    "    \n",
    "    ## (5)\n",
    "    H = kron(HApAp,eye(int(HBpBp.shape[0])))  +  kron(eye(int(HApAp.shape[0])),HBpBp) +  HLR\n",
    "    \n",
    "    ei,vi =eigh(H)\n",
    "    ndee1=argsort(ei)\n",
    "    ei = ei[ndee1]\n",
    "    vi = vi[:,ndee1]\n",
    "    \n",
    "    v0 = reshape(vi[:,0],(prod(vi[:,0].shape),1))    \n",
    "    psi0 = reshape(v0,(int(sqrt(H.shape[0])),int(sqrt(H.shape[0]))))\n",
    "\n",
    "    rhoA = dot(psi0,conj(psi0.T))\n",
    " \n",
    "    ## (6)\n",
    "    eA,vA =eigh(rhoA)\n",
    "    ndeeA=argsort(-eA)\n",
    "    eA = eA[ndeeA]\n",
    "    vA = vA[:,ndeeA]\n",
    "    \n",
    "    indMax = sum(eA>eps)\n",
    "    UTr = vA[:,arange(indMax)]\n",
    "    eATr = eA[arange(indMax)]\n",
    "    \n",
    "    ## (7)\n",
    "    HA = dot(conj(UTr.T),dot(HApAp,UTr))\n",
    "    HB = dot(conj(UTr.T),dot(HBpBp,UTr))\n",
    "\n",
    "    SxL = dot(conj(UTr.T),dot(SxL,UTr))\n",
    "    SyL = dot(conj(UTr.T),dot(SyL,UTr))\n",
    "    SzL = dot(conj(UTr.T),dot(SzL,UTr))\n",
    "    \n",
    "    SxR = dot(conj(UTr.T),dot(SxR,UTr))\n",
    "    SyR = dot(conj(UTr.T),dot(SyR,UTr))\n",
    "    SzR = dot(conj(UTr.T),dot(SzR,UTr))\n",
    "    \n",
    "    return HA,HB,SxL,SyL,SzL,SxR,SyR,SzR,ei[0]/(2*i0+6.),eA[0]"
   ]
  },
  {
   "cell_type": "code",
   "execution_count": 20,
   "metadata": {},
   "outputs": [],
   "source": [
    "J = 1.\n",
    "Jz = 1.\n",
    "L = 2\n",
    "HA = XXZ_Ham(J,Jz,L)\n",
    "HB = HA\n",
    "\n",
    "Sigx = 0.5*np.array([[0.,1.],[1.,0.]])\n",
    "Sigy = 0.5j*np.array([[0.,-1.],[1.,0.]])\n",
    "Sigz = 0.5*np.array([[1.,0.],[0.,-1.]])\n",
    "\n",
    "eps = 3e-5\n",
    "SxL,SyL,SzL,SxR,SyR,SzR = Sigx,Sigy,Sigz,Sigx,Sigy,Sigz\n",
    "error = 100.\n",
    "threshold = 1e-5\n",
    "MaxIteration =1000\n",
    "eint = 100\n",
    "eA = 100\n",
    "energies = zeros((MaxIteration-L,),dtype = 'double')\n",
    "i0 = 0\n",
    "\n",
    "while (error>threshold) and (i0<MaxIteration-L):\n",
    "    HA,HB,SxL,SyL,SzL,SxR,SyR,SzR,energies[i0],eA = Enlarge2Site(HA,HB,SxL,SyL,SzL,SxR,SyR,SzR,Jz,eps,i0)\n",
    "    error = abs((eint-energies[i0]))\n",
    "    eint = energies[i0]\n",
    "    i0 = i0 + 1\n",
    "#(H.shape, HAL.shape,HBR.shape,SxR.shape,SxL.shape,vATr.shape,indMax)"
   ]
  },
  {
   "cell_type": "code",
   "execution_count": 21,
   "metadata": {},
   "outputs": [
    {
     "data": {
      "text/plain": [
       "0.4850607766776133"
      ]
     },
     "execution_count": 21,
     "metadata": {},
     "output_type": "execute_result"
    }
   ],
   "source": [
    "eA"
   ]
  },
  {
   "cell_type": "code",
   "execution_count": 22,
   "metadata": {},
   "outputs": [
    {
     "data": {
      "text/plain": [
       "-0.44188993791666265"
      ]
     },
     "execution_count": 22,
     "metadata": {},
     "output_type": "execute_result"
    },
    {
     "data": {
      "image/png": "[encoded data removed]",
      "text/plain": [
       "<Figure size 432x288 with 1 Axes>"
      ]
     },
     "metadata": {
      "needs_background": "light"
     },
     "output_type": "display_data"
    }
   ],
   "source": [
    "plot(energies[arange(i0)])\n",
    "energies[i0-1]"
   ]
  },
  {
   "cell_type": "markdown",
   "metadata": {},
   "source": [
    "Well, it looks like we are getting somewhere, just check Bethe's XXX-model $S=1/2$ energy solution per site: $E_0 = 1/4- ln(2)$"
   ]
  },
  {
   "cell_type": "code",
   "execution_count": 131,
   "metadata": {},
   "outputs": [
    {
     "name": "stdout",
     "output_type": "stream",
     "text": [
      "Exact GS energy is  -0.4431471805599453\n"
     ]
    }
   ],
   "source": [
    "print(\"Exact GS energy is \",0.25-log(2))"
   ]
  },
  {
   "cell_type": "markdown",
   "metadata": {},
   "source": [
    "We indeed already introduced an max chain length by a while loop. This will be useful in the next section when we do sweeping. The only thing that might be of a worry is that DMRG is a variational method, i.e. an estimate of the energy from above, NOT below. "
   ]
  },
  {
   "cell_type": "markdown",
   "metadata": {},
   "source": [
    "#### 5. Do sweeping several times until exact-like convergence"
   ]
  },
  {
   "cell_type": "markdown",
   "metadata": {},
   "source": []
  }
 ],
 "metadata": {
  "kernelspec": {
   "display_name": "Python 3",
   "language": "python",
   "name": "python3"
  },
  "language_info": {
   "codemirror_mode": {
    "name": "ipython",
    "version": 3
   },
   "file_extension": ".py",
   "mimetype": "text/x-python",
   "name": "python",
   "nbconvert_exporter": "python",
   "pygments_lexer": "ipython3",
   "version": "3.8.5"
  }
 },
 "nbformat": 4,
 "nbformat_minor": 5
}
